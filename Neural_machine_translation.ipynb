{
  "cells": [
    {
      "cell_type": "markdown",
      "source": [
        "# Описание проекта"
      ],
      "metadata": {
        "id": "hsSCPdj27CLC"
      }
    },
    {
      "cell_type": "markdown",
      "source": [
        "Необходимо создать и обучить модель для машинного перевода с русского языка на английский. В качестве архитектур рассмотреть RNN и трансформер. Качество перевода оценивать по метрике BLEU."
      ],
      "metadata": {
        "id": "rQ2r8nfK7HWz"
      }
    },
    {
      "cell_type": "markdown",
      "source": [
        "# Импорт библиотек"
      ],
      "metadata": {
        "id": "OlIXN4LA98cq"
      }
    },
    {
      "cell_type": "code",
      "source": [
        "!pip install torchtext==0.5.0"
      ],
      "metadata": {
        "colab": {
          "base_uri": "https://localhost:8080/"
        },
        "id": "ZnvcydNIoeu3",
        "outputId": "553e13f4-4717-402d-f9d2-1348f24b069c"
      },
      "execution_count": 2,
      "outputs": [
        {
          "output_type": "stream",
          "name": "stdout",
          "text": [
            "Collecting torchtext==0.5.0\n",
            "  Downloading torchtext-0.5.0-py3-none-any.whl (73 kB)\n",
            "\u001b[?25l     \u001b[90m━━━━━━━━━━━━━━━━━━━━━━━━━━━━━━━━━━━━━━━━\u001b[0m \u001b[32m0.0/73.2 kB\u001b[0m \u001b[31m?\u001b[0m eta \u001b[36m-:--:--\u001b[0m\r\u001b[2K     \u001b[90m━━━━━━━━━━━━━━━━━━━━━━━━━━━━━━━━━━━━━━━━\u001b[0m \u001b[32m73.2/73.2 kB\u001b[0m \u001b[31m2.2 MB/s\u001b[0m eta \u001b[36m0:00:00\u001b[0m\n",
            "\u001b[?25hRequirement already satisfied: tqdm in /usr/local/lib/python3.10/dist-packages (from torchtext==0.5.0) (4.66.2)\n",
            "Requirement already satisfied: requests in /usr/local/lib/python3.10/dist-packages (from torchtext==0.5.0) (2.31.0)\n",
            "Requirement already satisfied: torch in /usr/local/lib/python3.10/dist-packages (from torchtext==0.5.0) (2.1.0+cu121)\n",
            "Requirement already satisfied: numpy in /usr/local/lib/python3.10/dist-packages (from torchtext==0.5.0) (1.25.2)\n",
            "Requirement already satisfied: six in /usr/local/lib/python3.10/dist-packages (from torchtext==0.5.0) (1.16.0)\n",
            "Requirement already satisfied: sentencepiece in /usr/local/lib/python3.10/dist-packages (from torchtext==0.5.0) (0.1.99)\n",
            "Requirement already satisfied: charset-normalizer<4,>=2 in /usr/local/lib/python3.10/dist-packages (from requests->torchtext==0.5.0) (3.3.2)\n",
            "Requirement already satisfied: idna<4,>=2.5 in /usr/local/lib/python3.10/dist-packages (from requests->torchtext==0.5.0) (3.6)\n",
            "Requirement already satisfied: urllib3<3,>=1.21.1 in /usr/local/lib/python3.10/dist-packages (from requests->torchtext==0.5.0) (2.0.7)\n",
            "Requirement already satisfied: certifi>=2017.4.17 in /usr/local/lib/python3.10/dist-packages (from requests->torchtext==0.5.0) (2024.2.2)\n",
            "Requirement already satisfied: filelock in /usr/local/lib/python3.10/dist-packages (from torch->torchtext==0.5.0) (3.13.1)\n",
            "Requirement already satisfied: typing-extensions in /usr/local/lib/python3.10/dist-packages (from torch->torchtext==0.5.0) (4.10.0)\n",
            "Requirement already satisfied: sympy in /usr/local/lib/python3.10/dist-packages (from torch->torchtext==0.5.0) (1.12)\n",
            "Requirement already satisfied: networkx in /usr/local/lib/python3.10/dist-packages (from torch->torchtext==0.5.0) (3.2.1)\n",
            "Requirement already satisfied: jinja2 in /usr/local/lib/python3.10/dist-packages (from torch->torchtext==0.5.0) (3.1.3)\n",
            "Requirement already satisfied: fsspec in /usr/local/lib/python3.10/dist-packages (from torch->torchtext==0.5.0) (2023.6.0)\n",
            "Requirement already satisfied: triton==2.1.0 in /usr/local/lib/python3.10/dist-packages (from torch->torchtext==0.5.0) (2.1.0)\n",
            "Requirement already satisfied: MarkupSafe>=2.0 in /usr/local/lib/python3.10/dist-packages (from jinja2->torch->torchtext==0.5.0) (2.1.5)\n",
            "Requirement already satisfied: mpmath>=0.19 in /usr/local/lib/python3.10/dist-packages (from sympy->torch->torchtext==0.5.0) (1.3.0)\n",
            "Installing collected packages: torchtext\n",
            "  Attempting uninstall: torchtext\n",
            "    Found existing installation: torchtext 0.16.0\n",
            "    Uninstalling torchtext-0.16.0:\n",
            "      Successfully uninstalled torchtext-0.16.0\n",
            "Successfully installed torchtext-0.5.0\n"
          ]
        }
      ]
    },
    {
      "cell_type": "code",
      "execution_count": 3,
      "metadata": {
        "id": "kiv7xYJLrJTh"
      },
      "outputs": [],
      "source": [
        "import torch\n",
        "import torch.nn as nn\n",
        "from torch.optim import Adam, lr_scheduler\n",
        "from torch.distributions import Categorical\n",
        "\n",
        "import torchtext\n",
        "from torchtext.data import Field, BucketIterator\n",
        "\n",
        "import random\n",
        "import math\n",
        "import time\n",
        "import numpy as np\n",
        "import pandas as pd\n",
        "from tqdm.notebook import tqdm\n",
        "\n",
        "import matplotlib\n",
        "matplotlib.rcParams.update({'figure.figsize': (16, 12), 'font.size': 14})\n",
        "import matplotlib.pyplot as plt\n",
        "%matplotlib inline\n",
        "from IPython.display import clear_output\n",
        "\n",
        "from nltk.tokenize import WordPunctTokenizer\n",
        "from nltk.translate.bleu_score import corpus_bleu"
      ]
    },
    {
      "cell_type": "markdown",
      "metadata": {
        "id": "em689cq1O0pN"
      },
      "source": [
        "Установим случайные начальные значения для получения детерминированных результатов."
      ]
    },
    {
      "cell_type": "code",
      "execution_count": 4,
      "metadata": {
        "id": "-Rr-FK_AO0pO"
      },
      "outputs": [],
      "source": [
        "SEED = 1234\n",
        "\n",
        "random.seed(SEED)\n",
        "np.random.seed(SEED)\n",
        "torch.manual_seed(SEED)\n",
        "torch.cuda.manual_seed(SEED)\n",
        "torch.backends.cudnn.deterministic = True"
      ]
    },
    {
      "cell_type": "code",
      "execution_count": 5,
      "metadata": {
        "id": "qOljkq7srJVM"
      },
      "outputs": [],
      "source": [
        "device = torch.device('cuda' if torch.cuda.is_available() else 'cpu')"
      ]
    },
    {
      "cell_type": "markdown",
      "source": [
        "# Подготовка данных"
      ],
      "metadata": {
        "id": "g5ps4FY-80k8"
      }
    },
    {
      "cell_type": "markdown",
      "source": [
        "## Загрузка датасета"
      ],
      "metadata": {
        "id": "NWsAKBB2_6no"
      }
    },
    {
      "cell_type": "markdown",
      "source": [
        "В качестве датасета воспользуемся описаниями отелей и хостелов на русском и английском языках."
      ],
      "metadata": {
        "id": "dm4s5aM99k5d"
      }
    },
    {
      "cell_type": "code",
      "execution_count": 6,
      "metadata": {
        "colab": {
          "base_uri": "https://localhost:8080/"
        },
        "id": "w2nY9EG2rJTV",
        "outputId": "56fd77e1-d691-4d7b-a022-080890b08b22"
      },
      "outputs": [
        {
          "output_type": "stream",
          "name": "stdout",
          "text": [
            "--2024-03-06 07:25:33--  https://drive.google.com/uc?id=1NWYqJgeG_4883LINdEjKUr6nLQPY6Yb_\n",
            "Resolving drive.google.com (drive.google.com)... 172.217.12.14, 2607:f8b0:4025:811::200e\n",
            "Connecting to drive.google.com (drive.google.com)|172.217.12.14|:443... connected.\n",
            "HTTP request sent, awaiting response... 303 See Other\n",
            "Location: https://drive.usercontent.google.com/download?id=1NWYqJgeG_4883LINdEjKUr6nLQPY6Yb_ [following]\n",
            "--2024-03-06 07:25:33--  https://drive.usercontent.google.com/download?id=1NWYqJgeG_4883LINdEjKUr6nLQPY6Yb_\n",
            "Resolving drive.usercontent.google.com (drive.usercontent.google.com)... 172.217.15.225, 2607:f8b0:4025:802::2001\n",
            "Connecting to drive.usercontent.google.com (drive.usercontent.google.com)|172.217.15.225|:443... connected.\n",
            "HTTP request sent, awaiting response... 200 OK\n",
            "Length: 12905334 (12M) [application/octet-stream]\n",
            "Saving to: ‘data.txt’\n",
            "\n",
            "data.txt            100%[===================>]  12.31M  26.6MB/s    in 0.5s    \n",
            "\n",
            "2024-03-06 07:25:37 (26.6 MB/s) - ‘data.txt’ saved [12905334/12905334]\n",
            "\n"
          ]
        }
      ],
      "source": [
        "! wget https://drive.google.com/uc?id=1NWYqJgeG_4883LINdEjKUr6nLQPY6Yb_ -O data.txt\n",
        "\n",
        "# Thanks to YSDA NLP course team for the data"
      ]
    },
    {
      "cell_type": "markdown",
      "metadata": {
        "id": "mNlmgpD4rJTr"
      },
      "source": [
        "## Обработка датасета"
      ]
    },
    {
      "cell_type": "code",
      "execution_count": 7,
      "metadata": {
        "id": "M3EqJeyorJTt"
      },
      "outputs": [],
      "source": [
        "tokenizer_W = WordPunctTokenizer()\n",
        "\n",
        "def tokenize_ru(x, tokenizer=tokenizer_W):\n",
        "    return tokenizer.tokenize(x.lower())\n",
        "\n",
        "def tokenize_en(x, tokenizer=tokenizer_W):\n",
        "    return tokenizer.tokenize(x.lower())"
      ]
    },
    {
      "cell_type": "markdown",
      "source": [
        "Подготовим два типа итераторов, для RNN и для трансформера (в трансформере за батч отвечает первая размерность, а в RNN вторая)"
      ],
      "metadata": {
        "id": "3CWSinyIEf65"
      }
    },
    {
      "cell_type": "code",
      "execution_count": 8,
      "metadata": {
        "id": "fVXeUedkrJT1"
      },
      "outputs": [],
      "source": [
        "SRC = Field(tokenize=tokenize_ru,\n",
        "            init_token = '<sos>',\n",
        "            eos_token = '<eos>',\n",
        "            lower = True)\n",
        "\n",
        "TRG = Field(tokenize=tokenize_en,\n",
        "            init_token = '<sos>',\n",
        "            eos_token = '<eos>',\n",
        "            lower = True)\n",
        "\n",
        "SRC_TR = Field(tokenize=tokenize_ru,\n",
        "            init_token = '<sos>',\n",
        "            eos_token = '<eos>',\n",
        "            lower = True,\n",
        "            batch_first=True)\n",
        "\n",
        "TRG_TR = Field(tokenize=tokenize_en,\n",
        "            init_token = '<sos>',\n",
        "            eos_token = '<eos>',\n",
        "            lower = True,\n",
        "            batch_first=True)\n",
        "\n",
        "dataset = torchtext.data.TabularDataset(\n",
        "    path='data.txt',\n",
        "    format='tsv',\n",
        "    fields=[('trg', TRG), ('src', SRC)]\n",
        ")\n",
        "\n",
        "dataset_tr = torchtext.data.TabularDataset(\n",
        "    path='data.txt',\n",
        "    format='tsv',\n",
        "    fields=[('trg', TRG_TR), ('src', SRC_TR)]\n",
        ")"
      ]
    },
    {
      "cell_type": "code",
      "execution_count": 9,
      "metadata": {
        "colab": {
          "base_uri": "https://localhost:8080/"
        },
        "id": "RQ87fad2Qbjf",
        "outputId": "6070ca68-ac73-49b8-9a21-e131c9e6c224"
      },
      "outputs": [
        {
          "output_type": "stream",
          "name": "stdout",
          "text": [
            "Количество примеров: 50000\n",
            "['отель', 'cordelia', 'расположен', 'в', 'тбилиси', ',', 'в', '3', 'минутах', 'ходьбы', 'от', 'свято', '-', 'троицкого', 'собора', '.']\n",
            "['cordelia', 'hotel', 'is', 'situated', 'in', 'tbilisi', ',', 'a', '3', '-', 'minute', 'walk', 'away', 'from', 'saint', 'trinity', 'church', '.']\n"
          ]
        }
      ],
      "source": [
        "print(f'Количество примеров: {len(dataset.examples)}')\n",
        "print(dataset.examples[0].src)\n",
        "print(dataset.examples[0].trg)"
      ]
    },
    {
      "cell_type": "code",
      "execution_count": 10,
      "metadata": {
        "colab": {
          "base_uri": "https://localhost:8080/"
        },
        "id": "i1fD5SPjzwpb",
        "outputId": "e5b533ec-97f5-4555-a8c5-81796383bd82"
      },
      "outputs": [
        {
          "output_type": "stream",
          "name": "stdout",
          "text": [
            "Количество примеров в тренировочном датасете для RNN: 40000\n",
            "Количество примеров в валидационном датасете для RNN: 2500\n",
            "Количество примеров в тестовом датасете для RNN: 7500\n",
            "Количество примеров в тренировочном датасете для трансформера: 40000\n",
            "Количество примеров в валидационном датасете для трансформера: 2500\n",
            "Количество примеров в тестовом датасете для трансформера: 7500\n"
          ]
        }
      ],
      "source": [
        "train_data, valid_data, test_data = dataset.split(split_ratio=[0.8, 0.15, 0.05])\n",
        "train_data_tr, valid_data_tr, test_data_tr = dataset_tr.split(split_ratio=[0.8, 0.15, 0.05])\n",
        "\n",
        "print(f\"Количество примеров в тренировочном датасете для RNN: {len(train_data.examples)}\")\n",
        "print(f\"Количество примеров в валидационном датасете для RNN: {len(valid_data.examples)}\")\n",
        "print(f\"Количество примеров в тестовом датасете для RNN: {len(test_data.examples)}\")\n",
        "print(f\"Количество примеров в тренировочном датасете для трансформера: {len(train_data_tr.examples)}\")\n",
        "print(f\"Количество примеров в валидационном датасете для трансформера: {len(valid_data_tr.examples)}\")\n",
        "print(f\"Количество примеров в тестовом датасете для трансформера: {len(test_data_tr.examples)}\")"
      ]
    },
    {
      "cell_type": "code",
      "execution_count": 11,
      "metadata": {
        "id": "dokjQsSWrJUL"
      },
      "outputs": [],
      "source": [
        "SRC.build_vocab(train_data, min_freq = 2)\n",
        "TRG.build_vocab(train_data, min_freq = 2)\n",
        "SRC_TR.build_vocab(train_data_tr, min_freq = 2)\n",
        "TRG_TR.build_vocab(train_data_tr, min_freq = 2)"
      ]
    },
    {
      "cell_type": "code",
      "execution_count": 12,
      "metadata": {
        "colab": {
          "base_uri": "https://localhost:8080/"
        },
        "id": "1Q7f9pQVdfAk",
        "outputId": "4368f2a4-0c68-49ca-b537-8baed52ccc3c"
      },
      "outputs": [
        {
          "output_type": "stream",
          "name": "stdout",
          "text": [
            "Уникальные токены в словаре источника (ru): 14129\n",
            "Уникальные токены в целевом словаре (en): 10104\n",
            "Уникальные токены в словаре источника (ru): 14129\n",
            "Уникальные токены в целевом словаре (en): 10104\n"
          ]
        }
      ],
      "source": [
        "print(f\"Уникальные токены в словаре источника (ru): {len(SRC.vocab)}\")\n",
        "print(f\"Уникальные токены в целевом словаре (en): {len(TRG.vocab)}\")\n",
        "print(f\"Уникальные токены в словаре источника (ru): {len(SRC_TR.vocab)}\")\n",
        "print(f\"Уникальные токены в целевом словаре (en): {len(TRG_TR.vocab)}\")"
      ]
    },
    {
      "cell_type": "markdown",
      "metadata": {
        "id": "yjNWWwTerJUz"
      },
      "source": [
        "Пример из датасета"
      ]
    },
    {
      "cell_type": "code",
      "execution_count": 13,
      "metadata": {
        "colab": {
          "base_uri": "https://localhost:8080/"
        },
        "id": "IudJKJ-0rJU0",
        "outputId": "4f278123-6685-4b5c-b2c1-b0f2689c28ba"
      },
      "outputs": [
        {
          "output_type": "stream",
          "name": "stdout",
          "text": [
            "{'trg': ['the', 'hotel', 'is', 'within', '2', 'km', 'of', 'panjim', 'bus', 'stand', ',', 'dona', 'paula', 'and', 'panjim', 'church', '.'], 'src': ['отель', 'находится', 'в', '2', 'км', 'от', 'автобусной', 'остановки', 'панаджи', ',', 'поселка', 'дона', 'пола', 'и', 'церкви', 'панаджи', '.']}\n"
          ]
        }
      ],
      "source": [
        "print(vars(train_data.examples[0]))"
      ]
    },
    {
      "cell_type": "markdown",
      "metadata": {
        "id": "3azOeC90rJVK"
      },
      "source": [
        "Воспользуемся BucketIterator вместо стандартного итератора, поскольку он создает пакеты таким образом, что сводит к минимуму количество отступов как в исходном, так и в целевом предложениях."
      ]
    },
    {
      "cell_type": "code",
      "source": [
        "def _len_sort_key(x):\n",
        "    return len(x.src)"
      ],
      "metadata": {
        "id": "fK_Zjz6WIXJP"
      },
      "execution_count": 14,
      "outputs": []
    },
    {
      "cell_type": "code",
      "execution_count": 15,
      "metadata": {
        "id": "PPekRL4arJVb"
      },
      "outputs": [],
      "source": [
        "BATCH_SIZE = 128\n",
        "\n",
        "train_iterator, valid_iterator, test_iterator = BucketIterator.splits(\n",
        "    (train_data, valid_data, test_data),\n",
        "    batch_size = BATCH_SIZE,\n",
        "    device = device,\n",
        "    sort_key=_len_sort_key\n",
        ")\n",
        "\n",
        "train_iterator_tr, valid_iterator_tr, test_iterator_tr = BucketIterator.splits(\n",
        "    (train_data_tr, valid_data_tr, test_data_tr),\n",
        "    batch_size = BATCH_SIZE,\n",
        "    device = device,\n",
        "    sort_key=_len_sort_key\n",
        ")"
      ]
    },
    {
      "cell_type": "markdown",
      "source": [
        "# Обучение моделей"
      ],
      "metadata": {
        "id": "MmVE9kQNSjp1"
      }
    },
    {
      "cell_type": "markdown",
      "source": [
        "В качестве модели будем использовать модели 3 типов:\n",
        "- RNN (с LSTM модулем)\n",
        "- RNN (с LSTM модулем) с использованием внимания\n",
        "- трансформер"
      ],
      "metadata": {
        "id": "-igdQhQr-V70"
      }
    },
    {
      "cell_type": "code",
      "source": [
        "results = {}\n",
        "results['name'] = []\n",
        "results['BLEU'] = []"
      ],
      "metadata": {
        "id": "XoL7dVA9ATN4"
      },
      "execution_count": 16,
      "outputs": []
    },
    {
      "cell_type": "markdown",
      "source": [
        "## Функции"
      ],
      "metadata": {
        "id": "13QziAgC-pV1"
      }
    },
    {
      "cell_type": "markdown",
      "source": [
        "### Обучение моделей"
      ],
      "metadata": {
        "id": "7FdYur_Q-HgI"
      }
    },
    {
      "cell_type": "code",
      "source": [
        "def train_epoch(model, iterator, optimizer, criterion, clip, output_dim, train_history=None, valid_history=None, transformer=False):\n",
        "    model.train()\n",
        "\n",
        "    epoch_loss = 0\n",
        "    history = []\n",
        "    numb_of_token = 0\n",
        "\n",
        "    for i, batch in enumerate(iterator):\n",
        "\n",
        "        src = batch.src\n",
        "        trg = batch.trg\n",
        "\n",
        "        optimizer.zero_grad()\n",
        "\n",
        "        if transformer:\n",
        "            #trg = [batch, trg sent len]\n",
        "            output, _ = model(src, trg[:,:-1]) #output = [batch, trg sent len - 1 , output]\n",
        "            output = output.view(-1, output_dim) #output = [batch * (trg sent len - 1) , output]\n",
        "            trg = trg[:,1:].reshape(-1) #trg = [batch * (trg sent len - 1)]\n",
        "        else:\n",
        "            #trg = [trg sent len, batch]\n",
        "            output = model(src, trg) #output = [trg sent len, batch size, output]\n",
        "            output = output[1:].view(-1, output_dim) #output = [(trg sent len - 1) * batch size, output]\n",
        "            trg = trg[1:].view(-1) #trg = [(trg sent len - 1) * batch]\n",
        "\n",
        "        loss = criterion(output, trg)\n",
        "\n",
        "        loss.backward()\n",
        "\n",
        "        torch.nn.utils.clip_grad_norm_(model.parameters(), clip)\n",
        "\n",
        "        optimizer.step()\n",
        "\n",
        "        epoch_loss += loss.item() * trg.shape[0]\n",
        "        numb_of_token += trg.shape[0]\n",
        "\n",
        "        history.append(loss.item())\n",
        "        if (i+1)%10==0:\n",
        "            fig, ax = plt.subplots(nrows=1, ncols=2, figsize=(12, 8))\n",
        "\n",
        "            clear_output(True)\n",
        "            ax[0].plot(history, label='train loss')\n",
        "            ax[0].set_xlabel('Batch')\n",
        "            ax[0].set_title('Train loss')\n",
        "            if train_history is not None:\n",
        "                ax[1].plot(train_history, label='general train history')\n",
        "                ax[1].set_xlabel('Epoch')\n",
        "            if valid_history is not None:\n",
        "                ax[1].plot(valid_history, label='general valid history')\n",
        "            plt.legend()\n",
        "\n",
        "            plt.show()\n",
        "\n",
        "    return epoch_loss / numb_of_token"
      ],
      "metadata": {
        "id": "ioTbtFd3M9y5"
      },
      "execution_count": 17,
      "outputs": []
    },
    {
      "cell_type": "code",
      "source": [
        "def evaluate_epoch(model, iterator, criterion, output_dim, transformer=False):\n",
        "\n",
        "    model.eval()\n",
        "\n",
        "    epoch_loss = 0\n",
        "    numb_of_token = 0\n",
        "\n",
        "    with torch.no_grad():\n",
        "\n",
        "        for i, batch in enumerate(iterator):\n",
        "\n",
        "            src = batch.src\n",
        "            trg = batch.trg\n",
        "\n",
        "            if transformer:\n",
        "                output, _ = model(src, trg[:,:-1])\n",
        "                output = output.view(-1, output_dim)\n",
        "                trg = trg[:, 1:].reshape(-1)\n",
        "            else:\n",
        "                output = model(src, trg, 0) #turn off teacher forcing\n",
        "                output = output[1:].view(-1, output_dim)\n",
        "                trg = trg[1:].view(-1)\n",
        "\n",
        "            loss = criterion(output, trg)\n",
        "\n",
        "            epoch_loss += loss.item() * trg.shape[0]\n",
        "            numb_of_token += trg.shape[0]\n",
        "\n",
        "    return epoch_loss / numb_of_token"
      ],
      "metadata": {
        "id": "er5kPYA6SpTw"
      },
      "execution_count": 18,
      "outputs": []
    },
    {
      "cell_type": "code",
      "source": [
        "def epoch_time(start_time, end_time):\n",
        "    elapsed_time = end_time - start_time\n",
        "    elapsed_mins = int(elapsed_time / 60)\n",
        "    elapsed_secs = int(elapsed_time - (elapsed_mins * 60))\n",
        "    return elapsed_mins, elapsed_secs"
      ],
      "metadata": {
        "id": "6I8MqBOkVz5C"
      },
      "execution_count": 19,
      "outputs": []
    },
    {
      "cell_type": "code",
      "source": [
        "def train(model,\n",
        "          train_iterator,\n",
        "          valid_iterator,\n",
        "          n_epochs,\n",
        "          clip,\n",
        "          optimizer,\n",
        "          criterion,\n",
        "          output_dim,\n",
        "          model_name,\n",
        "          transformer=False,\n",
        "          scheduler=None):\n",
        "\n",
        "    train_history = []\n",
        "    valid_history = []\n",
        "\n",
        "    best_valid_loss = float('inf')\n",
        "\n",
        "    for epoch in range(n_epochs):\n",
        "\n",
        "        start_time = time.time()\n",
        "\n",
        "        train_loss = train_epoch(model,\n",
        "                                 train_iterator,\n",
        "                                 optimizer,\n",
        "                                 criterion,\n",
        "                                 clip,\n",
        "                                 output_dim,\n",
        "                                 train_history,\n",
        "                                 valid_history,\n",
        "                                 transformer=transformer)\n",
        "        valid_loss = evaluate_epoch(model, valid_iterator, criterion, output_dim, transformer=transformer)\n",
        "\n",
        "        end_time = time.time()\n",
        "\n",
        "        epoch_mins, epoch_secs = epoch_time(start_time, end_time)\n",
        "\n",
        "        if valid_loss < best_valid_loss:\n",
        "            best_valid_loss = valid_loss\n",
        "            torch.save(model.state_dict(), f'best-val-{model_name}.pt')\n",
        "\n",
        "        train_history.append(train_loss)\n",
        "        valid_history.append(valid_loss)\n",
        "        print(f'Epoch: {epoch+1:02} | Time: {epoch_mins}m {epoch_secs}s')\n",
        "        print(f'\\tTrain Loss: {train_loss:.3f} | Train PPL: {math.exp(train_loss):7.3f}')\n",
        "        print(f'\\t Val. Loss: {valid_loss:.3f} |  Val. PPL: {math.exp(valid_loss):7.3f}')\n",
        "        if scheduler is not None:\n",
        "            scheduler.step()"
      ],
      "metadata": {
        "id": "xK_Dk6MjVE1i"
      },
      "execution_count": 20,
      "outputs": []
    },
    {
      "cell_type": "markdown",
      "source": [
        "### Инициализация"
      ],
      "metadata": {
        "id": "FFiwExwO-O66"
      }
    },
    {
      "cell_type": "code",
      "source": [
        "def initialize_weights(model):\n",
        "    if hasattr(model, 'weight') and model.weight.dim() > 1:\n",
        "        nn.init.uniform_(model.weight.data, -0.08, 0.08)\n",
        "\n",
        "\n",
        "def initialize_weights_transformer(model):\n",
        "    if hasattr(model, 'weight') and model.weight.dim() > 1:\n",
        "        nn.init.xavier_uniform_(model.weight.data)"
      ],
      "metadata": {
        "id": "AXDgULF1VEoQ"
      },
      "execution_count": 21,
      "outputs": []
    },
    {
      "cell_type": "code",
      "source": [
        "def count_parameters(model):\n",
        "    print(f'У модели {sum(p.numel() for p in model.parameters() if p.requires_grad)} тренируемых параметров')\n",
        "    pass"
      ],
      "metadata": {
        "id": "erICTCnVayiL"
      },
      "execution_count": 22,
      "outputs": []
    },
    {
      "cell_type": "markdown",
      "source": [
        "### Генерация текста"
      ],
      "metadata": {
        "id": "dUj-Y2ei-S7G"
      }
    },
    {
      "cell_type": "code",
      "execution_count": 62,
      "metadata": {
        "id": "4SJYCfJi9wyj"
      },
      "outputs": [],
      "source": [
        "def cut_on_eos(tokens_iter):\n",
        "    for token in tokens_iter:\n",
        "        if token == '<eos>':\n",
        "            break\n",
        "        yield token\n",
        "\n",
        "def remove_tech_tokens(tokens_iter, tokens_to_remove=['<sos>', '<unk>', '<pad>']):\n",
        "    return [x for x in tokens_iter if x not in tokens_to_remove]\n",
        "\n",
        "def get_text(x, vocab):\n",
        "     generated = remove_tech_tokens(cut_on_eos([vocab.itos[elem] for elem in list(x)]))\n",
        "     return generated\n",
        "\n",
        "def generate_source_and_trg(src, trg, SRC_vocab, TRG_vocab):\n",
        "    source = get_text(src[:,0].cpu().numpy(), SRC_vocab)\n",
        "    original = get_text(trg[:,0].cpu().numpy(), TRG_vocab)\n",
        "\n",
        "    print('Источник: \\n', ' '.join(source))\n",
        "    print('Цель: \\n', ' '.join(original))\n",
        "\n",
        "def generate_translation_rnn(src, trg, model, SRC_vocab, TRG_vocab, max_len=150, greedy=True, T=1):\n",
        "    model.eval()\n",
        "    with torch.no_grad():\n",
        "        output = model(src, trg, 0, mode='test', max_len=max_len, EOS=TRG.vocab.stoi[TRG.eos_token])\n",
        "    if greedy:\n",
        "        output = output[1:].argmax(-1)\n",
        "        generated_text = [get_text(x, TRG_vocab) for x in output.detach().cpu().numpy().T]\n",
        "    else:\n",
        "        output = torch.softmax(output[1:] / T, dim=-1)\n",
        "        distribution = Categorical(probs=output)\n",
        "        generated_text = [get_text(x, TRG_vocab) for x in distribution.sample().T]\n",
        "    return generated_text\n",
        "\n",
        "\n",
        "def generate_translation_transformer(src_tensor, trg_field, model, device, max_len=150, greedy=True, T=1):\n",
        "    model.eval()\n",
        "    src_mask = model.make_src_mask(src_tensor)\n",
        "\n",
        "    with torch.no_grad():\n",
        "        enc_src = model.encoder(src_tensor, src_mask) #enc_src = [batch, src_len, hid]\n",
        "\n",
        "    trg_tensor = torch.zeros(len(src_tensor), max_len, dtype=torch.int).to(device)\n",
        "    trg_tensor[:, 0] = torch.LongTensor([trg_field.vocab.stoi[trg_field.init_token]] * len(src_tensor))\n",
        "\n",
        "    translations_done = torch.zeros(len(src_tensor), dtype=torch.bool).to(device)\n",
        "    for i in range(1, max_len):\n",
        "        trg_mask = model.make_trg_mask(trg_tensor[:,:i])\n",
        "        with torch.no_grad():\n",
        "            output, attention = model.decoder(trg_tensor[:,:i], enc_src, trg_mask, src_mask)\n",
        "        if greedy:\n",
        "            pred_tokens = output.argmax(2)[:,-1]\n",
        "        else:\n",
        "            output = torch.softmax(output[:,-1] / T, dim=-1)\n",
        "            distribution = Categorical(probs=output)\n",
        "            pred_tokens = distribution.sample()\n",
        "        trg_tensor[:,i] = pred_tokens\n",
        "        translations_done = (translations_done | (pred_tokens == trg_field.vocab.stoi[trg_field.eos_token]))\n",
        "        if all(translations_done):\n",
        "            trg_tensor = trg_tensor[:,:i]\n",
        "            break\n",
        "\n",
        "    return [get_text(x, trg_field.vocab) for x in trg_tensor], attention"
      ]
    },
    {
      "cell_type": "code",
      "source": [
        "def calculate_bleu(src_field, trg_field, model, iterator, device, max_len=150, transformer=False, greedy=True, T=1):\n",
        "    original_text = []\n",
        "    generated_text = []\n",
        "    model.eval()\n",
        "    with torch.no_grad():\n",
        "\n",
        "        for batch in tqdm(iterator):\n",
        "\n",
        "            src = batch.src\n",
        "            trg = batch.trg\n",
        "\n",
        "            if transformer:\n",
        "                original_text.extend([get_text(x, trg_field.vocab) for x in trg.cpu().numpy()])\n",
        "                generated, _ = generate_translation_transformer(src, trg_field, model, device, max_len=max_len, greedy=greedy, T=T)\n",
        "                generated_text.extend(generated)\n",
        "            else:\n",
        "                generated = generate_translation_rnn(src, trg, model, src_field.vocab, trg_field.vocab, greedy=greedy, T=T)\n",
        "                original_text.extend([get_text(x, trg_field.vocab) for x in trg.cpu().numpy().T])\n",
        "                generated_text.extend(generated)\n",
        "\n",
        "    return corpus_bleu([[text] for text in original_text], generated_text) * 100"
      ],
      "metadata": {
        "id": "wWoFZCyEc2wd"
      },
      "execution_count": 24,
      "outputs": []
    },
    {
      "cell_type": "markdown",
      "source": [
        "## RNN"
      ],
      "metadata": {
        "id": "AYeTsAupeLAp"
      }
    },
    {
      "cell_type": "markdown",
      "source": [
        "В качестве основного блока воспользуемся LSTM модулем. Количество слоев возьмем равное 2, с двумя направлениями в каждом слое."
      ],
      "metadata": {
        "id": "z7_E6qHWJBLo"
      }
    },
    {
      "cell_type": "markdown",
      "source": [
        "### Encoder"
      ],
      "metadata": {
        "id": "GCmTd3bnJa-4"
      }
    },
    {
      "cell_type": "code",
      "execution_count": 25,
      "metadata": {
        "id": "afKtj8_foe4s"
      },
      "outputs": [],
      "source": [
        "class EncoderRNN(nn.Module):\n",
        "    def __init__(self, input_dim, emb_dim, hid_dim, n_layers, dropout, bidirectional):\n",
        "        super().__init__()\n",
        "\n",
        "        self.input_dim = input_dim\n",
        "        self.emb_dim = emb_dim\n",
        "        self.hid_dim = hid_dim\n",
        "        self.n_layers = n_layers\n",
        "        self.dropout = dropout\n",
        "        self.bidirectional = bidirectional\n",
        "\n",
        "        self.embedding = nn.Embedding(input_dim, emb_dim)\n",
        "\n",
        "        self.rnn = nn.LSTM(emb_dim, hid_dim, num_layers=n_layers, dropout=dropout, bidirectional=bidirectional)\n",
        "\n",
        "        self.dropout = nn.Dropout(p=dropout)\n",
        "\n",
        "    def forward(self, src):\n",
        "\n",
        "        #src = [src sent_len, batch]\n",
        "\n",
        "        embedded = self.dropout(self.embedding(src)) #embedded = [src sent_len, batch, emb]\n",
        "\n",
        "        _, (hidden, cell) = self.rnn(embedded)\n",
        "\n",
        "        #outputs = [src sent len, batch, hid * n directions]\n",
        "        #hidden = [n layers * n directions, batch, hid]\n",
        "        #cell = [n layers * n directions, batch, hid]\n",
        "\n",
        "        if self.bidirectional:\n",
        "            hidden = hidden.reshape(self.n_layers, 2, -1, self.hid_dim) #hidden = [n layers, n directions, batch, hid]\n",
        "            hidden = hidden.transpose(1, 2).reshape(self.n_layers, -1, 2 * self.hid_dim) #hidden = [n layers, batch, n directions * hid]\n",
        "\n",
        "            cell = cell.reshape(self.n_layers, 2, -1, self.hid_dim) #cell = [n layers, n directions, batch, hid]\n",
        "            cell = cell.transpose(1, 2).reshape(self.n_layers, -1, 2 * self.hid_dim) #cell = [n layers, batch, n directions * hid]\n",
        "        return hidden, cell"
      ]
    },
    {
      "cell_type": "markdown",
      "source": [
        "### Decoder"
      ],
      "metadata": {
        "id": "FAWLZ0wiJnDu"
      }
    },
    {
      "cell_type": "code",
      "execution_count": 26,
      "metadata": {
        "id": "HMBzIr3_vhPI"
      },
      "outputs": [],
      "source": [
        "class DecoderRNN(nn.Module):\n",
        "    def __init__(self, output_dim, emb_dim, hid_dim, n_layers, dropout):\n",
        "        super().__init__()\n",
        "\n",
        "        self.emb_dim = emb_dim\n",
        "        self.hid_dim = hid_dim\n",
        "        self.output_dim = output_dim\n",
        "        self.n_layers = n_layers\n",
        "        self.dropout = dropout\n",
        "\n",
        "        self.embedding = nn.Embedding(output_dim, emb_dim)\n",
        "\n",
        "        self.rnn = nn.LSTM(emb_dim, hid_dim, num_layers=n_layers, dropout=dropout)\n",
        "\n",
        "        self.out = nn.Linear(hid_dim, output_dim)\n",
        "\n",
        "        self.dropout = nn.Dropout(p=dropout)\n",
        "\n",
        "    def forward(self, input, hidden, cell):\n",
        "\n",
        "        #input = [batch]\n",
        "        #hidden = [n layers, batch, hid]\n",
        "        #cell = [n layers, batch, hid]\n",
        "\n",
        "        input = input.unsqueeze(0) #input = [1, batch]\n",
        "\n",
        "        embedded = self.dropout(self.embedding(input)) #embedded = [1, batch size, emb dim]\n",
        "\n",
        "        output, (hidden, cell) = self.rnn(embedded, (hidden, cell))\n",
        "\n",
        "        #output = [sent len, batch, hid]\n",
        "        #hidden = [n layers, batch, hid]\n",
        "        #cell = [n layers, batch, hid]\n",
        "\n",
        "        prediction = self.out(output.squeeze(0)) #prediction = [batch, output dim]\n",
        "\n",
        "        return prediction, hidden, cell"
      ]
    },
    {
      "cell_type": "markdown",
      "source": [
        "### Seq2Seq"
      ],
      "metadata": {
        "id": "FcaNrQP_J1-e"
      }
    },
    {
      "cell_type": "markdown",
      "source": [
        "При генерации токенов воспользуемся teacher forcing"
      ],
      "metadata": {
        "id": "GKMDi38oKHUl"
      }
    },
    {
      "cell_type": "code",
      "execution_count": 27,
      "metadata": {
        "id": "MpoN7a5Qzcjt"
      },
      "outputs": [],
      "source": [
        "class Seq2SeqRNN(nn.Module):\n",
        "    def __init__(self, encoder, decoder, device):\n",
        "        super().__init__()\n",
        "\n",
        "        self.encoder = encoder\n",
        "        self.decoder = decoder\n",
        "        self.device = device\n",
        "\n",
        "        if encoder.bidirectional:\n",
        "            assert encoder.hid_dim * 2 == decoder.hid_dim, \\\n",
        "                \"Hidden dimensions of encoder and decoder must be equal!\"\n",
        "        else:\n",
        "            assert encoder.hid_dim == decoder.hid_dim, \\\n",
        "                    \"Hidden dimensions of encoder and decoder must be equal!\"\n",
        "        assert encoder.n_layers == decoder.n_layers, \\\n",
        "            \"Encoder and decoder must have equal number of layers!\"\n",
        "\n",
        "    def forward(self, src, trg, teacher_forcing_ratio = 0.5, mode='train', max_len=100, EOS=None):\n",
        "\n",
        "        #src = [src len, batch]\n",
        "        #trg = [trg len, batch]\n",
        "\n",
        "        batch_size = trg.shape[1]\n",
        "        trg_len = trg.shape[0] if mode == 'train' else max_len\n",
        "        trg_vocab_size = self.decoder.output_dim\n",
        "\n",
        "        outputs = torch.zeros(trg_len, batch_size, trg_vocab_size).to(self.device) #output = [src len, batch, output]\n",
        "\n",
        "        hidden, cell = self.encoder(src)\n",
        "\n",
        "        #hidden = [n layers, batch, n directions * hid]\n",
        "        #cell = [n layers, batch, n directions * hid]\n",
        "\n",
        "        input = trg[0,:]\n",
        "        if mode != 'train':\n",
        "            translations_done = torch.LongTensor([0] * batch_size).to(device)\n",
        "\n",
        "        for t in range(1, trg_len):\n",
        "\n",
        "            output, hidden, cell = self.decoder(input, hidden, cell)\n",
        "\n",
        "            #output = [batch, output dim]\n",
        "            #hidden = [n layers, batch, hid]\n",
        "            #cell = [n layers, batch, hid]\n",
        "\n",
        "            outputs[t] = output\n",
        "\n",
        "            teacher_force = random.random() < teacher_forcing_ratio\n",
        "\n",
        "            top1 = output.argmax(-1)\n",
        "\n",
        "            input = trg[t] if teacher_force else top1\n",
        "\n",
        "            if mode != 'train':\n",
        "                translations_done = (translations_done | (top1 == EOS))\n",
        "                if all(translations_done):\n",
        "                    outputs = outputs[:t]\n",
        "                    break\n",
        "\n",
        "        return outputs #outputs = [trg len, batch, output dim]"
      ]
    },
    {
      "cell_type": "markdown",
      "metadata": {
        "id": "wfHMFs00jXBZ"
      },
      "source": [
        "### Инициализация"
      ]
    },
    {
      "cell_type": "code",
      "execution_count": 28,
      "metadata": {
        "id": "J924jtXEjV9V"
      },
      "outputs": [],
      "source": [
        "INPUT_DIM = len(SRC.vocab)\n",
        "OUTPUT_DIM = len(TRG.vocab)\n",
        "ENC_EMB_DIM = 256\n",
        "DEC_EMB_DIM = 256\n",
        "HID_DIM = 512\n",
        "N_LAYERS = 2\n",
        "ENC_DROPOUT = 0.5\n",
        "DEC_DROPOUT = 0.5\n",
        "BIDIRECTIONAL = True\n",
        "\n",
        "enc = EncoderRNN(INPUT_DIM, ENC_EMB_DIM, HID_DIM // 2, N_LAYERS, ENC_DROPOUT, BIDIRECTIONAL)\n",
        "dec = DecoderRNN(OUTPUT_DIM, DEC_EMB_DIM, HID_DIM, N_LAYERS, DEC_DROPOUT)\n",
        "\n",
        "model_rnn = Seq2SeqRNN(enc, dec, device).to(device)"
      ]
    },
    {
      "cell_type": "code",
      "execution_count": 29,
      "metadata": {
        "colab": {
          "base_uri": "https://localhost:8080/"
        },
        "id": "PbbzYM0hrJV1",
        "outputId": "556f03fc-9fc8-43fe-cc7b-6f0d448b65d0"
      },
      "outputs": [
        {
          "output_type": "stream",
          "name": "stdout",
          "text": [
            "У модели 17694840 тренируемых параметров\n"
          ]
        },
        {
          "output_type": "execute_result",
          "data": {
            "text/plain": [
              "Seq2SeqRNN(\n",
              "  (encoder): EncoderRNN(\n",
              "    (embedding): Embedding(14129, 256)\n",
              "    (rnn): LSTM(256, 256, num_layers=2, dropout=0.5, bidirectional=True)\n",
              "    (dropout): Dropout(p=0.5, inplace=False)\n",
              "  )\n",
              "  (decoder): DecoderRNN(\n",
              "    (embedding): Embedding(10104, 256)\n",
              "    (rnn): LSTM(256, 512, num_layers=2, dropout=0.5)\n",
              "    (out): Linear(in_features=512, out_features=10104, bias=True)\n",
              "    (dropout): Dropout(p=0.5, inplace=False)\n",
              "  )\n",
              ")"
            ]
          },
          "metadata": {},
          "execution_count": 29
        }
      ],
      "source": [
        "count_parameters(model_rnn)\n",
        "model_rnn.apply(initialize_weights)"
      ]
    },
    {
      "cell_type": "code",
      "source": [
        "PAD_IDX = TRG.vocab.stoi['<pad>']\n",
        "optimizer = Adam(model_rnn.parameters(), lr=1e-3)\n",
        "criterion = nn.CrossEntropyLoss(ignore_index = PAD_IDX)"
      ],
      "metadata": {
        "id": "4Dmq-kZb_N-d"
      },
      "execution_count": null,
      "outputs": []
    },
    {
      "cell_type": "markdown",
      "source": [
        "### Обучение"
      ],
      "metadata": {
        "id": "htL4lMsA9tp8"
      }
    },
    {
      "cell_type": "code",
      "source": [
        "train(model_rnn,\n",
        "      train_iterator,\n",
        "      valid_iterator,\n",
        "      n_epochs=15,\n",
        "      clip=5,\n",
        "      optimizer=optimizer,\n",
        "      criterion=criterion,\n",
        "      output_dim=OUTPUT_DIM,\n",
        "      model_name='rnn')"
      ],
      "metadata": {
        "id": "_wMZMym-aVJa",
        "colab": {
          "base_uri": "https://localhost:8080/",
          "height": 784
        },
        "outputId": "4e00f1aa-60bb-4887-94e7-7926c20b8e16"
      },
      "execution_count": null,
      "outputs": [
        {
          "output_type": "display_data",
          "data": {
            "text/plain": [
              "<Figure size 1200x800 with 2 Axes>"
            ],
            "image/png": "[encoded data removed]"
          },
          "metadata": {}
        },
        {
          "output_type": "stream",
          "name": "stdout",
          "text": [
            "Epoch: 15 | Time: 3m 6s\n",
            "\tTrain Loss: 2.530 | Train PPL:  12.556\n",
            "\t Val. Loss: 4.651 |  Val. PPL: 104.738\n"
          ]
        }
      ]
    },
    {
      "cell_type": "markdown",
      "source": [
        "### Расчет BLEU"
      ],
      "metadata": {
        "id": "NsDOGxx19rEr"
      }
    },
    {
      "cell_type": "code",
      "source": [
        "model_rnn.load_state_dict(torch.load('best-val-rnn.pt'))\n",
        "#model_rnn.load_state_dict(torch.load('best-val-rnn.pt', map_location=torch.device('cpu')))"
      ],
      "metadata": {
        "id": "danO67iPmEeW",
        "colab": {
          "base_uri": "https://localhost:8080/"
        },
        "outputId": "66e3df17-7eb6-4580-8db0-6115614bbbb8"
      },
      "execution_count": 48,
      "outputs": [
        {
          "output_type": "execute_result",
          "data": {
            "text/plain": [
              "<All keys matched successfully>"
            ]
          },
          "metadata": {},
          "execution_count": 48
        }
      ]
    },
    {
      "cell_type": "code",
      "source": [
        "BLEU = calculate_bleu(SRC, TRG, model_rnn, test_iterator, device, max_len=150)\n",
        "results['name'].append('RNN (LSTM)')\n",
        "results['BLEU'].append(f'{BLEU:.3f}')\n",
        "\n",
        "print(f'BLEU для модели RNN (LSTM): {BLEU:.3f}')"
      ],
      "metadata": {
        "id": "b_Rw0zSQcXE1",
        "colab": {
          "base_uri": "https://localhost:8080/",
          "height": 66,
          "referenced_widgets": [
            "9ef01d9b40654bbeb131fc492cb39a24",
            "3efc3ec4e97e4d518469c2f570787825",
            "98b4bfaa63674683a5b21e29a6b00366",
            "44f1686d8acd46d0a2e28d0d592ef0a5",
            "cf01fd4dc29e48c58e02a03dde6ba1f5",
            "2883458251ed40459505e891d57698ff",
            "c1d4bef0878d4ebe9e8cb49f2cebb510",
            "6cac503c2e3944bea7282b869115393d",
            "3382d84dbaa74cf5bd340fa48da38919",
            "6ef6660f3e194682a7e7b08a783c4082",
            "fad50587184b44a28959b521fb6613db"
          ]
        },
        "outputId": "a73f2dc8-4352-4fa4-966c-eadddb9deec9"
      },
      "execution_count": 95,
      "outputs": [
        {
          "output_type": "display_data",
          "data": {
            "text/plain": [
              "  0%|          | 0/59 [00:00<?, ?it/s]"
            ],
            "application/vnd.jupyter.widget-view+json": {
              "version_major": 2,
              "version_minor": 0,
              "model_id": "9ef01d9b40654bbeb131fc492cb39a24"
            }
          },
          "metadata": {}
        },
        {
          "output_type": "stream",
          "name": "stdout",
          "text": [
            "BLEU для модели RNN (LSTM): 19.519\n"
          ]
        }
      ]
    },
    {
      "cell_type": "markdown",
      "source": [
        "## RNN with attention"
      ],
      "metadata": {
        "id": "bDwKTY9ewfPK"
      }
    },
    {
      "cell_type": "markdown",
      "source": [
        "Добавим внимание в RNN. Слой внимания будет принимать предыдущее скрытое состояние декодера\n",
        "и все накопленные прямые и обратные скрытые состояния *H*\n",
        " из энкодера. Слой выведет вектор внимания *a*, размер которого -  длина исходного предложения и каждый элемент находится в диапазоне от 0 до 1, а длина всего вектора равна 1."
      ],
      "metadata": {
        "id": "uomi5TFaGUL9"
      }
    },
    {
      "cell_type": "markdown",
      "source": [
        "### Encoder"
      ],
      "metadata": {
        "id": "yLOPmblU5_Fg"
      }
    },
    {
      "cell_type": "code",
      "source": [
        "class EncoderRNNwithAttention(nn.Module):\n",
        "    def __init__(self, input_dim, emb_dim, hid_dim, n_layers, dropout, bidirectional):\n",
        "        super().__init__()\n",
        "\n",
        "        self.input_dim = input_dim\n",
        "        self.emb_dim = emb_dim\n",
        "        self.hid_dim = hid_dim\n",
        "        self.n_layers = n_layers\n",
        "        self.dropout = dropout\n",
        "        self.bidirectional = bidirectional\n",
        "\n",
        "        self.embedding = nn.Embedding(input_dim, emb_dim)\n",
        "\n",
        "        self.rnn = nn.LSTM(emb_dim, hid_dim, num_layers=n_layers, dropout=dropout, bidirectional=bidirectional)\n",
        "\n",
        "        self.dropout = nn.Dropout(p=dropout)\n",
        "\n",
        "    def forward(self, src):\n",
        "\n",
        "        #src = [src sent len, batch]\n",
        "        embedded = self.dropout(self.embedding(src)) #embedded = [src sent len, batch, emb]\n",
        "\n",
        "        output, (hidden, cell) = self.rnn(embedded)\n",
        "\n",
        "        #outputs = [src sent len, batch, hid * n directions]\n",
        "        #hidden = [n layers * n directions, batch, hid]\n",
        "        #cell = [n layers * n directions, batch, hid]\n",
        "\n",
        "        if self.bidirectional:\n",
        "            hidden = hidden.reshape(self.n_layers, 2, -1, self.hid_dim) #hidden = [n layers, n directions, batch, hid]\n",
        "            hidden = hidden.transpose(1, 2).reshape(self.n_layers, -1, 2 * self.hid_dim) #hidden = [n layers, batch, n directions * hid]\n",
        "\n",
        "            cell = cell.reshape(self.n_layers, 2, -1, self.hid_dim)  #cell = [n layers, n directions, batch, hid]\n",
        "            cell = cell.transpose(1, 2).reshape(self.n_layers, -1, 2 * self.hid_dim)  #cell = [n layers, batch, n directions * hid]\n",
        "\n",
        "        return output, hidden, cell"
      ],
      "metadata": {
        "id": "SeXalmhmqocJ"
      },
      "execution_count": 31,
      "outputs": []
    },
    {
      "cell_type": "markdown",
      "source": [
        "### Decoder"
      ],
      "metadata": {
        "id": "G0weHD4G6Ons"
      }
    },
    {
      "cell_type": "code",
      "source": [
        "class DecoderRNNwithAttention(nn.Module):\n",
        "    def __init__(self, output_dim, emb_dim, hid_dim, n_layers, dropout):\n",
        "        super().__init__()\n",
        "\n",
        "        self.emb_dim = emb_dim\n",
        "        self.hid_dim = hid_dim\n",
        "        self.output_dim = output_dim\n",
        "        self.n_layers = n_layers\n",
        "        self.dropout = dropout\n",
        "\n",
        "        self.embedding = nn.Embedding(output_dim, emb_dim)\n",
        "\n",
        "        self.rnn = nn.LSTM(emb_dim + 2 * hid_dim, hid_dim, num_layers=n_layers, dropout=dropout)\n",
        "\n",
        "        self.energy = nn.Linear(2 * hid_dim, hid_dim)\n",
        "        self.v = nn.Linear(hid_dim, 1)\n",
        "\n",
        "        self.out = nn.Linear(hid_dim + emb_dim + 2 * hid_dim, output_dim)\n",
        "\n",
        "        self.dropout = nn.Dropout(p=dropout)\n",
        "\n",
        "    def forward(self, input, output, hidden, cell):\n",
        "\n",
        "        #input = [batch]\n",
        "        #hidden = [n layers, batch, hid]\n",
        "        #cell = [n layers, batch, hid]\n",
        "        #outputs = [src sent len, batch, hid]\n",
        "\n",
        "        input = input.unsqueeze(0)\n",
        "\n",
        "        #input = [1, batch]\n",
        "\n",
        "        embedded = self.dropout(self.embedding(input)) #embedded = [1, batch, emb]\n",
        "        hidden_for_cat = hidden[-1].repeat(output.size(0), 1, 1) #hidden_for_cat = [src sent len, batch, hid]\n",
        "\n",
        "        H = torch.cat([output, hidden_for_cat], dim=2) #H = [src sent len, batch, 2 * hid]\n",
        "\n",
        "        energy = torch.tanh(self.energy(H)) #energy = [src sent len, batch, hid]\n",
        "\n",
        "        a = torch.softmax(self.v(energy), dim=0) #a = [src sent len, batch, 1]\n",
        "\n",
        "        w_t = (a * H).sum(dim=0).unsqueeze(0) #w_t = [1, batch, 2 * hid]\n",
        "\n",
        "        output, (hidden, cell) = self.rnn(torch.cat((embedded, w_t), dim=2), (hidden, cell))\n",
        "\n",
        "\n",
        "        #output = [sent len, batch, hid]\n",
        "        #hidden = [n layers, batch, hid]\n",
        "        #cell = [n layers, batch, hid]\n",
        "\n",
        "        prediction = self.out(torch.cat([embedded.squeeze(0), output.squeeze(0), w_t.squeeze(0)], dim=1)) #prediction = [batch size, output dim]\n",
        "\n",
        "        return prediction, hidden, cell"
      ],
      "metadata": {
        "id": "qsUy9vwrsZrv"
      },
      "execution_count": 32,
      "outputs": []
    },
    {
      "cell_type": "markdown",
      "source": [
        "### Seq2Seq"
      ],
      "metadata": {
        "id": "vQNC9iNu6SEL"
      }
    },
    {
      "cell_type": "markdown",
      "source": [
        "При генерации токенов, как и для предыдущей модели, воспользуемся teacher forcing"
      ],
      "metadata": {
        "id": "B-Ec40ehx_5v"
      }
    },
    {
      "cell_type": "code",
      "source": [
        "class Seq2SeqRNNwithAttention(nn.Module):\n",
        "    def __init__(self, encoder, decoder, device):\n",
        "        super().__init__()\n",
        "\n",
        "        self.encoder = encoder\n",
        "        self.decoder = decoder\n",
        "        self.device = device\n",
        "\n",
        "        if encoder.bidirectional:\n",
        "            assert encoder.hid_dim * 2 == decoder.hid_dim, \\\n",
        "                \"Hidden dimensions of encoder and decoder must be equal!\"\n",
        "        else:\n",
        "            assert encoder.hid_dim == decoder.hid_dim, \\\n",
        "                    \"Hidden dimensions of encoder and decoder must be equal!\"\n",
        "        assert encoder.n_layers == decoder.n_layers, \\\n",
        "            \"Encoder and decoder must have equal number of layers!\"\n",
        "\n",
        "    def forward(self, src, trg, teacher_forcing_ratio = 0.5, mode='train', max_len=100, EOS=None):\n",
        "\n",
        "        #src = [src len, batch size]\n",
        "        #trg = [trg len, batch size]\n",
        "\n",
        "        batch_size = trg.shape[1]\n",
        "        trg_len = trg.shape[0] if mode == 'train' else max_len\n",
        "        trg_vocab_size = self.decoder.output_dim\n",
        "\n",
        "        outputs = torch.zeros(trg_len, batch_size, trg_vocab_size).to(self.device)\n",
        "\n",
        "        enc_output, hidden, cell = self.encoder(src)\n",
        "\n",
        "        #hidden = [n layers, batch, n directions * hid]\n",
        "        #cell = [n layers, batch, n directions * hid]\n",
        "\n",
        "        input = trg[0,:]\n",
        "        if mode != 'train':\n",
        "            translations_done = torch.LongTensor([0] * batch_size).to(device)\n",
        "\n",
        "        for t in range(1, trg_len):\n",
        "\n",
        "            output, hidden, cell = self.decoder(input, enc_output, hidden, cell)\n",
        "\n",
        "            #output = [batch, output dim]\n",
        "            #hidden = [n layers, batch, hid]\n",
        "            #cell = [n layers, batch, hid]\n",
        "\n",
        "            outputs[t] = output\n",
        "\n",
        "            teacher_force = random.random() < teacher_forcing_ratio\n",
        "\n",
        "            top1 = output.argmax(-1)\n",
        "\n",
        "            input = trg[t] if teacher_force else top1\n",
        "\n",
        "            if mode != 'train':\n",
        "                translations_done = (translations_done | (top1 == EOS))\n",
        "                if all(translations_done):\n",
        "                    outputs = outputs[:t]\n",
        "                    break\n",
        "\n",
        "        return outputs #outputs = [trg len, batch, output dim]"
      ],
      "metadata": {
        "id": "gPaXkIYE-Nux"
      },
      "execution_count": 33,
      "outputs": []
    },
    {
      "cell_type": "markdown",
      "source": [
        "### Инициализация"
      ],
      "metadata": {
        "id": "JTykx_8S6YkT"
      }
    },
    {
      "cell_type": "code",
      "source": [
        "INPUT_DIM = len(SRC.vocab)\n",
        "OUTPUT_DIM = len(TRG.vocab)\n",
        "ENC_EMB_DIM = 256\n",
        "DEC_EMB_DIM = 256\n",
        "HID_DIM = 512\n",
        "N_LAYERS = 2\n",
        "ENC_DROPOUT = 0.5\n",
        "DEC_DROPOUT = 0.5\n",
        "BIDIRECTIONAL = True\n",
        "\n",
        "enc = EncoderRNNwithAttention(INPUT_DIM, ENC_EMB_DIM, HID_DIM // 2, N_LAYERS, ENC_DROPOUT, BIDIRECTIONAL)\n",
        "dec = DecoderRNNwithAttention(OUTPUT_DIM, DEC_EMB_DIM, HID_DIM, N_LAYERS, DEC_DROPOUT)\n",
        "\n",
        "model_rnn_with_attention = Seq2SeqRNNwithAttention(enc, dec, device).to(device)"
      ],
      "metadata": {
        "id": "yt-4N1HY-fhr"
      },
      "execution_count": 34,
      "outputs": []
    },
    {
      "cell_type": "code",
      "source": [
        "count_parameters(model_rnn_with_attention)\n",
        "model_rnn_with_attention.apply(initialize_weights)"
      ],
      "metadata": {
        "id": "v_qUGj5H-q5_",
        "colab": {
          "base_uri": "https://localhost:8080/"
        },
        "outputId": "deb3238f-3fb8-4c0d-e853-65d4b9ead9ff"
      },
      "execution_count": 35,
      "outputs": [
        {
          "output_type": "stream",
          "name": "stdout",
          "text": [
            "У модели 33250425 тренируемых параметров\n"
          ]
        },
        {
          "output_type": "execute_result",
          "data": {
            "text/plain": [
              "Seq2SeqRNNwithAttention(\n",
              "  (encoder): EncoderRNNwithAttention(\n",
              "    (embedding): Embedding(14129, 256)\n",
              "    (rnn): LSTM(256, 256, num_layers=2, dropout=0.5, bidirectional=True)\n",
              "    (dropout): Dropout(p=0.5, inplace=False)\n",
              "  )\n",
              "  (decoder): DecoderRNNwithAttention(\n",
              "    (embedding): Embedding(10104, 256)\n",
              "    (rnn): LSTM(1280, 512, num_layers=2, dropout=0.5)\n",
              "    (energy): Linear(in_features=1024, out_features=512, bias=True)\n",
              "    (v): Linear(in_features=512, out_features=1, bias=True)\n",
              "    (out): Linear(in_features=1792, out_features=10104, bias=True)\n",
              "    (dropout): Dropout(p=0.5, inplace=False)\n",
              "  )\n",
              ")"
            ]
          },
          "metadata": {},
          "execution_count": 35
        }
      ]
    },
    {
      "cell_type": "code",
      "source": [
        "PAD_IDX = TRG.vocab.stoi['<pad>']\n",
        "optimizer = Adam(model_rnn_with_attention.parameters(), lr=1e-3)\n",
        "criterion = nn.CrossEntropyLoss(ignore_index = PAD_IDX)\n",
        "scheduler = lr_scheduler.StepLR(optimizer, step_size=8, gamma=0.1)"
      ],
      "metadata": {
        "id": "lYby8sgj-_7K"
      },
      "execution_count": null,
      "outputs": []
    },
    {
      "cell_type": "markdown",
      "source": [
        "### Обучение"
      ],
      "metadata": {
        "id": "Fr_IB0JXCqms"
      }
    },
    {
      "cell_type": "code",
      "source": [
        "train(model_rnn_with_attention,\n",
        "      train_iterator,\n",
        "      valid_iterator,\n",
        "      n_epochs=12,\n",
        "      clip=5,\n",
        "      optimizer=optimizer,\n",
        "      criterion=criterion,\n",
        "      output_dim=OUTPUT_DIM,\n",
        "      model_name='rnn-with-attention',\n",
        "      scheduler=scheduler)"
      ],
      "metadata": {
        "id": "jO3w_VL46p6w",
        "colab": {
          "base_uri": "https://localhost:8080/",
          "height": 784
        },
        "outputId": "face6ef0-fcf1-4ba5-ccfe-639a30d22f7a"
      },
      "execution_count": null,
      "outputs": [
        {
          "output_type": "display_data",
          "data": {
            "text/plain": [
              "<Figure size 1200x800 with 2 Axes>"
            ],
            "image/png": "[encoded data removed]"
          },
          "metadata": {}
        },
        {
          "output_type": "stream",
          "name": "stdout",
          "text": [
            "Epoch: 12 | Time: 5m 25s\n",
            "\tTrain Loss: 1.847 | Train PPL:   6.338\n",
            "\t Val. Loss: 4.671 |  Val. PPL: 106.786\n"
          ]
        }
      ]
    },
    {
      "cell_type": "markdown",
      "source": [
        "### Расчет BLEU"
      ],
      "metadata": {
        "id": "aOA6Jk8cCydI"
      }
    },
    {
      "cell_type": "code",
      "source": [
        "model_rnn_with_attention.load_state_dict(torch.load('best-val-rnn-with-attention.pt'))\n",
        "# model_rnn_with_attention.load_state_dict(torch.load('best-val-rnn-with-attention.pt', map_location=torch.device('cpu')))"
      ],
      "metadata": {
        "id": "AMOmtEw0CTgg",
        "colab": {
          "base_uri": "https://localhost:8080/"
        },
        "outputId": "e808ec36-08b0-4f66-e159-50d947884dcf"
      },
      "execution_count": 52,
      "outputs": [
        {
          "output_type": "execute_result",
          "data": {
            "text/plain": [
              "<All keys matched successfully>"
            ]
          },
          "metadata": {},
          "execution_count": 52
        }
      ]
    },
    {
      "cell_type": "code",
      "source": [
        "BLEU = calculate_bleu(SRC, TRG, model_rnn_with_attention, test_iterator, device, max_len=150)\n",
        "results['name'].append('RNN (LSTM) with attention')\n",
        "results['BLEU'].append(f'{BLEU:.3f}')\n",
        "\n",
        "print(f'BLEU для модели RNN (LSTM)  with attention: {BLEU:.3f}')"
      ],
      "metadata": {
        "colab": {
          "base_uri": "https://localhost:8080/",
          "height": 66,
          "referenced_widgets": [
            "2be2bb73e59346ab8b0a049b415bfb07",
            "ca7032f81d1142f7bfad728a6a6a29b4",
            "aa9197104e10456dbad29c29744d147f",
            "495839df9b1f4ca5b6cbf4d54f74c379",
            "7b684fac2e4b4b10bf6c35089311c4b9",
            "d1a195223df2445691f10efd61337457",
            "a3d396e904424f6da2b4bd5e384f8ea7",
            "fa8e90ae3a054f5b9dc54decd615977d",
            "b6c3c209e8bc49e9a1dad074e9676bdf",
            "5ecfa843d3574788ac9e51efebf833be",
            "0943c96e16a84f2f950ac75313778794"
          ]
        },
        "id": "yg-yNRAGfafK",
        "outputId": "3bd88550-0038-429f-9b59-bbf0fc1203db"
      },
      "execution_count": 102,
      "outputs": [
        {
          "output_type": "display_data",
          "data": {
            "text/plain": [
              "  0%|          | 0/59 [00:00<?, ?it/s]"
            ],
            "application/vnd.jupyter.widget-view+json": {
              "version_major": 2,
              "version_minor": 0,
              "model_id": "2be2bb73e59346ab8b0a049b415bfb07"
            }
          },
          "metadata": {}
        },
        {
          "output_type": "stream",
          "name": "stdout",
          "text": [
            "BLEU для модели RNN (LSTM)  with attention: 25.409\n"
          ]
        }
      ]
    },
    {
      "cell_type": "markdown",
      "source": [
        "## Transformer"
      ],
      "metadata": {
        "id": "5Cn8UgRhf827"
      }
    },
    {
      "cell_type": "markdown",
      "source": [
        "### Encoder"
      ],
      "metadata": {
        "id": "jCuMLO1VyNav"
      }
    },
    {
      "cell_type": "code",
      "source": [
        "class MultiHeadAttentionLayer(nn.Module):\n",
        "    def __init__(self,\n",
        "                 hid_dim,\n",
        "                 n_heads,\n",
        "                 dropout,\n",
        "                 device):\n",
        "        super().__init__()\n",
        "\n",
        "        assert hid_dim % n_heads == 0, 'hid_dim % n_heads != 0'\n",
        "\n",
        "        self.hid_dim = hid_dim\n",
        "        self.n_heads = n_heads\n",
        "        self.head_dim = hid_dim // n_heads\n",
        "\n",
        "        self.fc_q = nn.Linear(hid_dim, hid_dim)\n",
        "        self.fc_k = nn.Linear(hid_dim, hid_dim)\n",
        "        self.fc_v = nn.Linear(hid_dim, hid_dim)\n",
        "\n",
        "        self.fc_o = nn.Linear(hid_dim, hid_dim)\n",
        "\n",
        "        self.dropout = nn.Dropout(dropout)\n",
        "        self.scale = torch.sqrt(torch.FloatTensor([self.head_dim])).to(device)\n",
        "\n",
        "    def forward(self, query, key, value, mask = None):\n",
        "\n",
        "        batch_size = query.shape[0]\n",
        "\n",
        "        #Q = [batch, query len, hid]\n",
        "        #K = [batch, key len, hid]\n",
        "        #V = [batch, value len, hid]\n",
        "\n",
        "        Q = self.fc_q(query)\n",
        "        K = self.fc_k(key)\n",
        "        V = self.fc_v(value)\n",
        "\n",
        "        Q = Q.view(batch_size, -1, self.n_heads, self.head_dim).permute(0, 2, 1, 3) #Q = [batch, n_heads, query len, head]\n",
        "        K = K.view(batch_size, -1, self.n_heads, self.head_dim).permute(0, 2, 1, 3) #K = [batch, n_heads, key len, head]\n",
        "        V = V.view(batch_size, -1, self.n_heads, self.head_dim).permute(0, 2, 1, 3) #V = [batch, n_heads, value len, head]\n",
        "\n",
        "        energy = torch.matmul(Q, K.permute(0, 1, 3, 2)) / self.scale #energy = [batch, n_heads, query len, key len]\n",
        "\n",
        "        if mask is not None:\n",
        "            energy = energy.masked_fill(mask == 0, -1e10)\n",
        "\n",
        "        attention = torch.softmax(energy, dim = -1) #attention = [batch, n_heads, query len, key len]\n",
        "\n",
        "        x = torch.matmul(self.dropout(attention), V) #x = [batch, n_heads, query len, head]\n",
        "\n",
        "        x = x.permute(0, 2, 1, 3).contiguous()\n",
        "        x = x.view(batch_size, -1, self.hid_dim) #x = [batch, query len, hid]\n",
        "\n",
        "        x = self.fc_o(x)\n",
        "\n",
        "        return x, attention"
      ],
      "metadata": {
        "id": "sdOECN6T4r8L"
      },
      "execution_count": 36,
      "outputs": []
    },
    {
      "cell_type": "code",
      "source": [
        "class PositionwiseFeedForwardLayer(nn.Module):\n",
        "    def __init__(self,\n",
        "                 hid_dim,\n",
        "                 pf_dim,\n",
        "                 dropout):\n",
        "        super().__init__()\n",
        "\n",
        "        self.fc_1 = nn.Linear(hid_dim, pf_dim)\n",
        "        self.fc_2 = nn.Linear(pf_dim, hid_dim)\n",
        "\n",
        "        self.dropout = nn.Dropout(dropout)\n",
        "\n",
        "    def forward(self, x):\n",
        "\n",
        "        #x = [batch, seq_len, hid_dim]\n",
        "\n",
        "        x = self.dropout(self.fc_1(x)) #x = [batch, seq_len, pf_dim]\n",
        "        x = self.fc_2(x) #x = [batch, seq_len, hid_dim]\n",
        "\n",
        "        return x"
      ],
      "metadata": {
        "id": "8LDPofW-C-1z"
      },
      "execution_count": 37,
      "outputs": []
    },
    {
      "cell_type": "code",
      "source": [
        "class EncoderLayer(nn.Module):\n",
        "    def __init__(self,\n",
        "                 hid_dim,\n",
        "                 n_heads,\n",
        "                 pf_dim,\n",
        "                 dropout,\n",
        "                 device):\n",
        "        super().__init__()\n",
        "\n",
        "        self.self_attn_layer_norm = nn.LayerNorm(hid_dim)\n",
        "        self.ff_layer_norm = nn.LayerNorm(hid_dim)\n",
        "        self.self_attention = MultiHeadAttentionLayer(hid_dim, n_heads, dropout, device)\n",
        "        self.positionwise_feedforward = PositionwiseFeedForwardLayer(hid_dim, pf_dim, dropout)\n",
        "\n",
        "        self.dropout = nn.Dropout(dropout)\n",
        "\n",
        "    def forward(self, src, src_mask):\n",
        "\n",
        "        #src = [batch, src len, hid]\n",
        "        #src_mask = [batch, 1, 1, src_len]\n",
        "\n",
        "        _src, _ = self.self_attention(src, src, src, src_mask)\n",
        "        src = self.self_attn_layer_norm(src + self.dropout(_src))\n",
        "        _src = self.positionwise_feedforward(src)\n",
        "        src = self.ff_layer_norm(src + self.dropout(_src)) #src = [batch, src len, hid]\n",
        "\n",
        "        return src"
      ],
      "metadata": {
        "id": "T5BSzu-9zz_Z"
      },
      "execution_count": 38,
      "outputs": []
    },
    {
      "cell_type": "code",
      "source": [
        "class EncoderTransformer(nn.Module):\n",
        "    def __init__(self,\n",
        "                 input_dim,\n",
        "                 hid_dim,\n",
        "                 n_layers,\n",
        "                 n_heads,\n",
        "                 pf_dim,\n",
        "                 dropout,\n",
        "                 device,\n",
        "                 max_length=150):\n",
        "        super().__init__()\n",
        "\n",
        "        self.device = device\n",
        "\n",
        "        self.tok_embedding = nn.Embedding(input_dim, hid_dim)\n",
        "        self.pos_embedding = nn.Embedding(max_length, hid_dim)\n",
        "\n",
        "        self.layers = nn.ModuleList([EncoderLayer(hid_dim, n_heads, pf_dim, dropout, device) for _ in range(n_layers)])\n",
        "\n",
        "        self.dropout = nn.Dropout(dropout)\n",
        "\n",
        "        self.scale = torch.sqrt(torch.FloatTensor([hid_dim])).to(device)\n",
        "\n",
        "    def forward(self, src, src_mask):\n",
        "\n",
        "        #src = [batch, src len]\n",
        "        #src_mask = [batch, 1, 1, src_len]\n",
        "\n",
        "        batch_size = src.shape[0]\n",
        "        src_len = src.shape[1]\n",
        "\n",
        "        pos = torch.arange(0, src_len).unsqueeze(0).repeat(batch_size, 1).to(self.device) #pos = [batch, src_len]\n",
        "\n",
        "        src = self.dropout((self.tok_embedding(src) * self.scale) + self.pos_embedding(pos)) #src = [batch, src_len, hid]\n",
        "\n",
        "        for layer in self.layers:\n",
        "            src = layer(src, src_mask)\n",
        "\n",
        "        return src"
      ],
      "metadata": {
        "id": "y-MgiCK0ma0Z"
      },
      "execution_count": 39,
      "outputs": []
    },
    {
      "cell_type": "markdown",
      "source": [
        "### Decoder"
      ],
      "metadata": {
        "id": "DgW3xBCIOL_s"
      }
    },
    {
      "cell_type": "code",
      "source": [
        "class DecoderLayer(nn.Module):\n",
        "    def __init__(self,\n",
        "                 hid_dim,\n",
        "                 n_heads,\n",
        "                 pf_dim,\n",
        "                 dropout,\n",
        "                 device):\n",
        "        super().__init__()\n",
        "\n",
        "        self.self_attn_layer_norm = nn.LayerNorm(hid_dim)\n",
        "        self.enc_attn_layer_norm = nn.LayerNorm(hid_dim)\n",
        "        self.ff_layer_norm = nn.LayerNorm(hid_dim)\n",
        "        self.self_attention = MultiHeadAttentionLayer(hid_dim, n_heads, dropout, device)\n",
        "        self.encoder_attention = MultiHeadAttentionLayer(hid_dim, n_heads, dropout, device)\n",
        "        self.positionwise_feedforward = PositionwiseFeedForwardLayer(hid_dim, pf_dim, dropout)\n",
        "\n",
        "        self.dropout = nn.Dropout(dropout)\n",
        "\n",
        "    def forward(self, trg, enc_src, trg_mask, src_mask):\n",
        "\n",
        "        #trg = [batch, trg_len, hid]\n",
        "        #enc_src = [batch, src_len, hid]\n",
        "        #trg_mask = [batch, 1, trg_len, trg_len]\n",
        "        #src_mask = [batch, 1, 1, src_len]\n",
        "\n",
        "        _trg, _ = self.self_attention(trg, trg, trg, trg_mask)\n",
        "\n",
        "        trg = self.self_attn_layer_norm(trg + self.dropout(_trg))\n",
        "\n",
        "        _trg, attention = self.encoder_attention(trg, enc_src, enc_src, src_mask)\n",
        "\n",
        "        trg = self.enc_attn_layer_norm(trg + self.dropout(_trg))\n",
        "\n",
        "        _trg = self.positionwise_feedforward(trg)\n",
        "\n",
        "        trg = self.ff_layer_norm(trg + self.dropout(_trg))\n",
        "\n",
        "        return trg, attention"
      ],
      "metadata": {
        "id": "WtfwRwW9N009"
      },
      "execution_count": 40,
      "outputs": []
    },
    {
      "cell_type": "code",
      "source": [
        "class DecoderTransformer(nn.Module):\n",
        "    def __init__(self,\n",
        "                 output_dim,\n",
        "                 hid_dim,\n",
        "                 n_layers,\n",
        "                 n_heads,\n",
        "                 pf_dim,\n",
        "                 dropout,\n",
        "                 device,\n",
        "                 max_length=150):\n",
        "        super().__init__()\n",
        "\n",
        "        self.device = device\n",
        "\n",
        "        self.tok_embedding = nn.Embedding(output_dim, hid_dim)\n",
        "        self.pos_embedding = nn.Embedding(max_length, hid_dim)\n",
        "\n",
        "        self.layers = nn.ModuleList([DecoderLayer(hid_dim, n_heads, pf_dim, dropout, device) for _ in range(n_layers)])\n",
        "\n",
        "        self.fc_out = nn.Linear(hid_dim, output_dim)\n",
        "\n",
        "        self.dropout = nn.Dropout(dropout)\n",
        "\n",
        "        self.scale = torch.sqrt(torch.FloatTensor([hid_dim])).to(device)\n",
        "\n",
        "    def forward(self, trg, enc_src, trg_mask, src_mask):\n",
        "\n",
        "        #src = [batch, src len]\n",
        "        #src_mask = [batch, 1, 1, src_len]\n",
        "\n",
        "        batch_size = trg.shape[0]\n",
        "        trg_len = trg.shape[1]\n",
        "\n",
        "        pos = torch.arange(0, trg_len).unsqueeze(0).repeat(batch_size, 1).to(self.device) #pos = [batch, src_len]\n",
        "\n",
        "        trg = self.dropout((self.tok_embedding(trg) * self.scale) + self.pos_embedding(pos)) #src = [batch, src_len, hid]\n",
        "\n",
        "        for layer in self.layers:\n",
        "            trg, attention = layer(trg, enc_src, trg_mask, src_mask)\n",
        "\n",
        "        #trg = [batch, trg_len, hid]\n",
        "        #attention = [batch, n_heads, trg_len, src_len]\n",
        "\n",
        "        output = self.fc_out(trg)\n",
        "\n",
        "        return output, attention"
      ],
      "metadata": {
        "id": "hhROzmVLpfRB"
      },
      "execution_count": 41,
      "outputs": []
    },
    {
      "cell_type": "markdown",
      "source": [
        "### Seq2Seq"
      ],
      "metadata": {
        "id": "FvzSO0f07wQP"
      }
    },
    {
      "cell_type": "code",
      "source": [
        "class Seq2SeqTransformer(nn.Module):\n",
        "    def __init__(self,\n",
        "                 encoder,\n",
        "                 decoder,\n",
        "                 src_pad_idx,\n",
        "                 trg_pad_idx,\n",
        "                 device):\n",
        "        super().__init__()\n",
        "\n",
        "        self.encoder = encoder\n",
        "        self.decoder = decoder\n",
        "        self.src_pad_idx = src_pad_idx\n",
        "        self.trg_pad_idx = trg_pad_idx\n",
        "        self.device = device\n",
        "\n",
        "    def make_src_mask(self, src):\n",
        "\n",
        "        src_mask = (src != self.src_pad_idx).unsqueeze(1).unsqueeze(2) # src_mask = [batch, 1, 1, src_len]\n",
        "\n",
        "        return src_mask\n",
        "\n",
        "    def make_trg_mask(self, trg):\n",
        "\n",
        "        trg_pad_mask = (trg != self.trg_pad_idx).unsqueeze(1).unsqueeze(2) # src_mask = [batch, 1, 1, src_len]\n",
        "\n",
        "        trg_len = trg.shape[1]\n",
        "\n",
        "        trg_sub_mask = torch.tril(torch.ones((trg_len, trg_len), device=self.device)).bool()\n",
        "\n",
        "        trg_mask = trg_pad_mask & trg_sub_mask #trg_mask = [batch, 1, trg_len, trg_len]\n",
        "\n",
        "        return trg_mask\n",
        "\n",
        "    def forward(self, src, trg):\n",
        "\n",
        "        src_mask = self.make_src_mask(src) # src_mask = [batch, 1, 1, src_len]\n",
        "        trg_mask = self.make_trg_mask(trg) #trg_mask = [batch, 1, trg_len, trg_len]\n",
        "        enc_src = self.encoder(src, src_mask) #enc_src = [batch, src_len, hid]\n",
        "        output, attention = self.decoder(trg, enc_src, trg_mask, src_mask)\n",
        "        #output = [batch, trg_len, hid]\n",
        "        #output = [batch, n_heads, trg_len, head]\n",
        "\n",
        "        return output, attention"
      ],
      "metadata": {
        "id": "oczc9aj3dtq2"
      },
      "execution_count": 42,
      "outputs": []
    },
    {
      "cell_type": "markdown",
      "source": [
        "### Иницилизация"
      ],
      "metadata": {
        "id": "5Qc3TlVsoM9x"
      }
    },
    {
      "cell_type": "code",
      "source": [
        "INPUT_DIM = len(SRC_TR.vocab)\n",
        "OUTPUT_DIM = len(TRG_TR.vocab)\n",
        "SRC_PAD_IDX = SRC_TR.vocab.stoi[SRC_TR.pad_token]\n",
        "TRG_PAD_IDX = TRG_TR.vocab.stoi[TRG_TR.pad_token]\n",
        "HID_DIM = 256\n",
        "ENC_LAYERS = 3\n",
        "DEC_LAYERS = 3\n",
        "ENC_HEADS = 8\n",
        "DEC_HEADS = 8\n",
        "ENC_PF_DIM = 512\n",
        "DEC_PF_DIM = 512\n",
        "ENC_DROPOUT = 0.1\n",
        "DEC_DROPOUT = 0.1\n",
        "\n",
        "enc = EncoderTransformer(INPUT_DIM,\n",
        "                         HID_DIM,\n",
        "                         ENC_LAYERS,\n",
        "                         ENC_HEADS,\n",
        "                         ENC_PF_DIM,\n",
        "                         ENC_DROPOUT,\n",
        "                         device)\n",
        "\n",
        "dec = DecoderTransformer(OUTPUT_DIM,\n",
        "                         HID_DIM,\n",
        "                         DEC_LAYERS,\n",
        "                         DEC_HEADS,\n",
        "                         DEC_PF_DIM,\n",
        "                         DEC_DROPOUT,\n",
        "                         device)\n",
        "\n",
        "model_transformer = Seq2SeqTransformer(enc, dec, SRC_PAD_IDX, TRG_PAD_IDX, device).to(device)"
      ],
      "metadata": {
        "id": "vYxqD2XWjweN"
      },
      "execution_count": 43,
      "outputs": []
    },
    {
      "cell_type": "code",
      "source": [
        "count_parameters(model_transformer)\n",
        "model_transformer.apply(initialize_weights_transformer)"
      ],
      "metadata": {
        "colab": {
          "base_uri": "https://localhost:8080/"
        },
        "id": "xs0L8xXToIVb",
        "outputId": "4dd8178d-8b8c-4521-c247-289873bca4c5"
      },
      "execution_count": 44,
      "outputs": [
        {
          "output_type": "stream",
          "name": "stdout",
          "text": [
            "У модели 12830840 тренируемых параметров\n"
          ]
        },
        {
          "output_type": "execute_result",
          "data": {
            "text/plain": [
              "Seq2SeqTransformer(\n",
              "  (encoder): EncoderTransformer(\n",
              "    (tok_embedding): Embedding(14129, 256)\n",
              "    (pos_embedding): Embedding(150, 256)\n",
              "    (layers): ModuleList(\n",
              "      (0-2): 3 x EncoderLayer(\n",
              "        (self_attn_layer_norm): LayerNorm((256,), eps=1e-05, elementwise_affine=True)\n",
              "        (ff_layer_norm): LayerNorm((256,), eps=1e-05, elementwise_affine=True)\n",
              "        (self_attention): MultiHeadAttentionLayer(\n",
              "          (fc_q): Linear(in_features=256, out_features=256, bias=True)\n",
              "          (fc_k): Linear(in_features=256, out_features=256, bias=True)\n",
              "          (fc_v): Linear(in_features=256, out_features=256, bias=True)\n",
              "          (fc_o): Linear(in_features=256, out_features=256, bias=True)\n",
              "          (dropout): Dropout(p=0.1, inplace=False)\n",
              "        )\n",
              "        (positionwise_feedforward): PositionwiseFeedForwardLayer(\n",
              "          (fc_1): Linear(in_features=256, out_features=512, bias=True)\n",
              "          (fc_2): Linear(in_features=512, out_features=256, bias=True)\n",
              "          (dropout): Dropout(p=0.1, inplace=False)\n",
              "        )\n",
              "        (dropout): Dropout(p=0.1, inplace=False)\n",
              "      )\n",
              "    )\n",
              "    (dropout): Dropout(p=0.1, inplace=False)\n",
              "  )\n",
              "  (decoder): DecoderTransformer(\n",
              "    (tok_embedding): Embedding(10104, 256)\n",
              "    (pos_embedding): Embedding(150, 256)\n",
              "    (layers): ModuleList(\n",
              "      (0-2): 3 x DecoderLayer(\n",
              "        (self_attn_layer_norm): LayerNorm((256,), eps=1e-05, elementwise_affine=True)\n",
              "        (enc_attn_layer_norm): LayerNorm((256,), eps=1e-05, elementwise_affine=True)\n",
              "        (ff_layer_norm): LayerNorm((256,), eps=1e-05, elementwise_affine=True)\n",
              "        (self_attention): MultiHeadAttentionLayer(\n",
              "          (fc_q): Linear(in_features=256, out_features=256, bias=True)\n",
              "          (fc_k): Linear(in_features=256, out_features=256, bias=True)\n",
              "          (fc_v): Linear(in_features=256, out_features=256, bias=True)\n",
              "          (fc_o): Linear(in_features=256, out_features=256, bias=True)\n",
              "          (dropout): Dropout(p=0.1, inplace=False)\n",
              "        )\n",
              "        (encoder_attention): MultiHeadAttentionLayer(\n",
              "          (fc_q): Linear(in_features=256, out_features=256, bias=True)\n",
              "          (fc_k): Linear(in_features=256, out_features=256, bias=True)\n",
              "          (fc_v): Linear(in_features=256, out_features=256, bias=True)\n",
              "          (fc_o): Linear(in_features=256, out_features=256, bias=True)\n",
              "          (dropout): Dropout(p=0.1, inplace=False)\n",
              "        )\n",
              "        (positionwise_feedforward): PositionwiseFeedForwardLayer(\n",
              "          (fc_1): Linear(in_features=256, out_features=512, bias=True)\n",
              "          (fc_2): Linear(in_features=512, out_features=256, bias=True)\n",
              "          (dropout): Dropout(p=0.1, inplace=False)\n",
              "        )\n",
              "        (dropout): Dropout(p=0.1, inplace=False)\n",
              "      )\n",
              "    )\n",
              "    (fc_out): Linear(in_features=256, out_features=10104, bias=True)\n",
              "    (dropout): Dropout(p=0.1, inplace=False)\n",
              "  )\n",
              ")"
            ]
          },
          "metadata": {},
          "execution_count": 44
        }
      ]
    },
    {
      "cell_type": "code",
      "source": [
        "LEARNING_RATE = 5e-4\n",
        "\n",
        "optimizer = torch.optim.Adam(model_transformer.parameters(), lr=LEARNING_RATE)\n",
        "criterion = nn.CrossEntropyLoss(ignore_index = TRG_PAD_IDX)\n",
        "scheduler = lr_scheduler.StepLR(optimizer, step_size=6, gamma=0.2)"
      ],
      "metadata": {
        "id": "vfca_PkL78Xk"
      },
      "execution_count": 84,
      "outputs": []
    },
    {
      "cell_type": "markdown",
      "source": [
        "### Обучение"
      ],
      "metadata": {
        "id": "GKGwMqeU3QB-"
      }
    },
    {
      "cell_type": "code",
      "source": [
        "train(model_transformer,\n",
        "      train_iterator_tr,\n",
        "      valid_iterator_tr,\n",
        "      n_epochs=15,\n",
        "      clip=1,\n",
        "      optimizer=optimizer,\n",
        "      criterion=criterion,\n",
        "      output_dim=OUTPUT_DIM,\n",
        "      model_name='transformer',\n",
        "      transformer=True,\n",
        "      scheduler=scheduler)"
      ],
      "metadata": {
        "id": "TKxH5Rzn8sJT",
        "colab": {
          "base_uri": "https://localhost:8080/",
          "height": 784
        },
        "outputId": "a1b6a1c0-c07f-4f15-e242-2404d7e81519"
      },
      "execution_count": 85,
      "outputs": [
        {
          "output_type": "display_data",
          "data": {
            "text/plain": [
              "<Figure size 1200x800 with 2 Axes>"
            ],
            "image/png": "[encoded data removed]"
          },
          "metadata": {}
        },
        {
          "output_type": "stream",
          "name": "stdout",
          "text": [
            "Epoch: 15 | Time: 0m 48s\n",
            "\tTrain Loss: 1.079 | Train PPL:   2.941\n",
            "\t Val. Loss: 1.794 |  Val. PPL:   6.014\n"
          ]
        }
      ]
    },
    {
      "cell_type": "markdown",
      "source": [
        "### Расчет BLEU"
      ],
      "metadata": {
        "id": "de0CPjzv3Vml"
      }
    },
    {
      "cell_type": "code",
      "source": [
        "model_transformer.load_state_dict(torch.load('best-val-transformer.pt'))\n",
        "#model_transformer.load_state_dict(torch.load('best-val-transformer.pt', map_location=torch.device('cpu')))"
      ],
      "metadata": {
        "colab": {
          "base_uri": "https://localhost:8080/"
        },
        "id": "yNZD8gPRrFer",
        "outputId": "63c33b48-331d-473b-8ca2-f97f91de34fe"
      },
      "execution_count": 46,
      "outputs": [
        {
          "output_type": "execute_result",
          "data": {
            "text/plain": [
              "<All keys matched successfully>"
            ]
          },
          "metadata": {},
          "execution_count": 46
        }
      ]
    },
    {
      "cell_type": "code",
      "source": [
        "BLEU = calculate_bleu(SRC_TR, TRG_TR, model_transformer, test_iterator_tr, device, max_len=150, transformer=True)\n",
        "results['name'].append('transformer')\n",
        "results['BLEU'].append(f'{BLEU:.3f}')\n",
        "\n",
        "print(f'BLEU для модели transformer: {BLEU:.3f}')"
      ],
      "metadata": {
        "colab": {
          "base_uri": "https://localhost:8080/",
          "height": 66,
          "referenced_widgets": [
            "6603259a29e14fd6ab368cad3b810898",
            "b454f1b82e884adb9b212bf7525f36f5",
            "f7efb43bb4ba4326bb0871f439cb490f",
            "edd1bb220e4a464e911e0d67201b49bb",
            "31e1cce057264005849256938a36975b",
            "b08dd8dda5c04f3e9aad8d0bdf5a61af",
            "0306f621209f4908bf7144a863cd6fc5",
            "ed32eb93f370441490d8f2468e86c1d4",
            "e274c8ea80884f4b84e2c3d9dbc29242",
            "c2e5c2cc03994ec9a776391f8db643aa",
            "c95228f756314775b9cfabedb81bb7cd"
          ]
        },
        "id": "fS89gCnGaSu4",
        "outputId": "a14e7a9b-e6d4-4364-bb8f-02de5cb95842"
      },
      "execution_count": 104,
      "outputs": [
        {
          "output_type": "display_data",
          "data": {
            "text/plain": [
              "  0%|          | 0/59 [00:00<?, ?it/s]"
            ],
            "application/vnd.jupyter.widget-view+json": {
              "version_major": 2,
              "version_minor": 0,
              "model_id": "6603259a29e14fd6ab368cad3b810898"
            }
          },
          "metadata": {}
        },
        {
          "output_type": "stream",
          "name": "stdout",
          "text": [
            "BLEU для модели transformer: 29.368\n"
          ]
        }
      ]
    },
    {
      "cell_type": "markdown",
      "source": [
        "# Выбор модели"
      ],
      "metadata": {
        "id": "th3ZxSrsb0xK"
      }
    },
    {
      "cell_type": "markdown",
      "source": [
        "Сравним значения метрик для обученных моделей."
      ],
      "metadata": {
        "id": "dji40eRwnsTt"
      }
    },
    {
      "cell_type": "code",
      "source": [
        "pd.DataFrame(results).set_index('name')"
      ],
      "metadata": {
        "colab": {
          "base_uri": "https://localhost:8080/",
          "height": 175
        },
        "id": "hekNe0tqb6_Y",
        "outputId": "8cd5e499-aeb5-4946-981e-cb934d9573b0"
      },
      "execution_count": 105,
      "outputs": [
        {
          "output_type": "execute_result",
          "data": {
            "text/plain": [
              "                             BLEU\n",
              "name                             \n",
              "RNN (LSTM)                 19.519\n",
              "RNN (LSTM) with attention  25.409\n",
              "transformer                29.368"
            ],
            "text/html": [
              "\n",
              "  <div id=\"df-9b93f705-587e-408a-a83c-20133b2e38ca\" class=\"colab-df-container\">\n",
              "    <div>\n",
              "<style scoped>\n",
              "    .dataframe tbody tr th:only-of-type {\n",
              "        vertical-align: middle;\n",
              "    }\n",
              "\n",
              "    .dataframe tbody tr th {\n",
              "        vertical-align: top;\n",
              "    }\n",
              "\n",
              "    .dataframe thead th {\n",
              "        text-align: right;\n",
              "    }\n",
              "</style>\n",
              "<table border=\"1\" class=\"dataframe\">\n",
              "  <thead>\n",
              "    <tr style=\"text-align: right;\">\n",
              "      <th></th>\n",
              "      <th>BLEU</th>\n",
              "    </tr>\n",
              "    <tr>\n",
              "      <th>name</th>\n",
              "      <th></th>\n",
              "    </tr>\n",
              "  </thead>\n",
              "  <tbody>\n",
              "    <tr>\n",
              "      <th>RNN (LSTM)</th>\n",
              "      <td>19.519</td>\n",
              "    </tr>\n",
              "    <tr>\n",
              "      <th>RNN (LSTM) with attention</th>\n",
              "      <td>25.409</td>\n",
              "    </tr>\n",
              "    <tr>\n",
              "      <th>transformer</th>\n",
              "      <td>29.368</td>\n",
              "    </tr>\n",
              "  </tbody>\n",
              "</table>\n",
              "</div>\n",
              "    <div class=\"colab-df-buttons\">\n",
              "\n",
              "  <div class=\"colab-df-container\">\n",
              "    <button class=\"colab-df-convert\" onclick=\"convertToInteractive('df-9b93f705-587e-408a-a83c-20133b2e38ca')\"\n",
              "            title=\"Convert this dataframe to an interactive table.\"\n",
              "            style=\"display:none;\">\n",
              "\n",
              "  <svg xmlns=\"http://www.w3.org/2000/svg\" height=\"24px\" viewBox=\"0 -960 960 960\">\n",
              "    <path d=\"M120-120v-720h720v720H120Zm60-500h600v-160H180v160Zm220 220h160v-160H400v160Zm0 220h160v-160H400v160ZM180-400h160v-160H180v160Zm440 0h160v-160H620v160ZM180-180h160v-160H180v160Zm440 0h160v-160H620v160Z\"/>\n",
              "  </svg>\n",
              "    </button>\n",
              "\n",
              "  <style>\n",
              "    .colab-df-container {\n",
              "      display:flex;\n",
              "      gap: 12px;\n",
              "    }\n",
              "\n",
              "    .colab-df-convert {\n",
              "      background-color: #E8F0FE;\n",
              "      border: none;\n",
              "      border-radius: 50%;\n",
              "      cursor: pointer;\n",
              "      display: none;\n",
              "      fill: #1967D2;\n",
              "      height: 32px;\n",
              "      padding: 0 0 0 0;\n",
              "      width: 32px;\n",
              "    }\n",
              "\n",
              "    .colab-df-convert:hover {\n",
              "      background-color: #E2EBFA;\n",
              "      box-shadow: 0px 1px 2px rgba(60, 64, 67, 0.3), 0px 1px 3px 1px rgba(60, 64, 67, 0.15);\n",
              "      fill: #174EA6;\n",
              "    }\n",
              "\n",
              "    .colab-df-buttons div {\n",
              "      margin-bottom: 4px;\n",
              "    }\n",
              "\n",
              "    [theme=dark] .colab-df-convert {\n",
              "      background-color: #3B4455;\n",
              "      fill: #D2E3FC;\n",
              "    }\n",
              "\n",
              "    [theme=dark] .colab-df-convert:hover {\n",
              "      background-color: #434B5C;\n",
              "      box-shadow: 0px 1px 3px 1px rgba(0, 0, 0, 0.15);\n",
              "      filter: drop-shadow(0px 1px 2px rgba(0, 0, 0, 0.3));\n",
              "      fill: #FFFFFF;\n",
              "    }\n",
              "  </style>\n",
              "\n",
              "    <script>\n",
              "      const buttonEl =\n",
              "        document.querySelector('#df-9b93f705-587e-408a-a83c-20133b2e38ca button.colab-df-convert');\n",
              "      buttonEl.style.display =\n",
              "        google.colab.kernel.accessAllowed ? 'block' : 'none';\n",
              "\n",
              "      async function convertToInteractive(key) {\n",
              "        const element = document.querySelector('#df-9b93f705-587e-408a-a83c-20133b2e38ca');\n",
              "        const dataTable =\n",
              "          await google.colab.kernel.invokeFunction('convertToInteractive',\n",
              "                                                    [key], {});\n",
              "        if (!dataTable) return;\n",
              "\n",
              "        const docLinkHtml = 'Like what you see? Visit the ' +\n",
              "          '<a target=\"_blank\" href=https://colab.research.google.com/notebooks/data_table.ipynb>data table notebook</a>'\n",
              "          + ' to learn more about interactive tables.';\n",
              "        element.innerHTML = '';\n",
              "        dataTable['output_type'] = 'display_data';\n",
              "        await google.colab.output.renderOutput(dataTable, element);\n",
              "        const docLink = document.createElement('div');\n",
              "        docLink.innerHTML = docLinkHtml;\n",
              "        element.appendChild(docLink);\n",
              "      }\n",
              "    </script>\n",
              "  </div>\n",
              "\n",
              "\n",
              "<div id=\"df-895ea546-331a-4f2a-acea-d2e835785430\">\n",
              "  <button class=\"colab-df-quickchart\" onclick=\"quickchart('df-895ea546-331a-4f2a-acea-d2e835785430')\"\n",
              "            title=\"Suggest charts\"\n",
              "            style=\"display:none;\">\n",
              "\n",
              "<svg xmlns=\"http://www.w3.org/2000/svg\" height=\"24px\"viewBox=\"0 0 24 24\"\n",
              "     width=\"24px\">\n",
              "    <g>\n",
              "        <path d=\"M19 3H5c-1.1 0-2 .9-2 2v14c0 1.1.9 2 2 2h14c1.1 0 2-.9 2-2V5c0-1.1-.9-2-2-2zM9 17H7v-7h2v7zm4 0h-2V7h2v10zm4 0h-2v-4h2v4z\"/>\n",
              "    </g>\n",
              "</svg>\n",
              "  </button>\n",
              "\n",
              "<style>\n",
              "  .colab-df-quickchart {\n",
              "      --bg-color: #E8F0FE;\n",
              "      --fill-color: #1967D2;\n",
              "      --hover-bg-color: #E2EBFA;\n",
              "      --hover-fill-color: #174EA6;\n",
              "      --disabled-fill-color: #AAA;\n",
              "      --disabled-bg-color: #DDD;\n",
              "  }\n",
              "\n",
              "  [theme=dark] .colab-df-quickchart {\n",
              "      --bg-color: #3B4455;\n",
              "      --fill-color: #D2E3FC;\n",
              "      --hover-bg-color: #434B5C;\n",
              "      --hover-fill-color: #FFFFFF;\n",
              "      --disabled-bg-color: #3B4455;\n",
              "      --disabled-fill-color: #666;\n",
              "  }\n",
              "\n",
              "  .colab-df-quickchart {\n",
              "    background-color: var(--bg-color);\n",
              "    border: none;\n",
              "    border-radius: 50%;\n",
              "    cursor: pointer;\n",
              "    display: none;\n",
              "    fill: var(--fill-color);\n",
              "    height: 32px;\n",
              "    padding: 0;\n",
              "    width: 32px;\n",
              "  }\n",
              "\n",
              "  .colab-df-quickchart:hover {\n",
              "    background-color: var(--hover-bg-color);\n",
              "    box-shadow: 0 1px 2px rgba(60, 64, 67, 0.3), 0 1px 3px 1px rgba(60, 64, 67, 0.15);\n",
              "    fill: var(--button-hover-fill-color);\n",
              "  }\n",
              "\n",
              "  .colab-df-quickchart-complete:disabled,\n",
              "  .colab-df-quickchart-complete:disabled:hover {\n",
              "    background-color: var(--disabled-bg-color);\n",
              "    fill: var(--disabled-fill-color);\n",
              "    box-shadow: none;\n",
              "  }\n",
              "\n",
              "  .colab-df-spinner {\n",
              "    border: 2px solid var(--fill-color);\n",
              "    border-color: transparent;\n",
              "    border-bottom-color: var(--fill-color);\n",
              "    animation:\n",
              "      spin 1s steps(1) infinite;\n",
              "  }\n",
              "\n",
              "  @keyframes spin {\n",
              "    0% {\n",
              "      border-color: transparent;\n",
              "      border-bottom-color: var(--fill-color);\n",
              "      border-left-color: var(--fill-color);\n",
              "    }\n",
              "    20% {\n",
              "      border-color: transparent;\n",
              "      border-left-color: var(--fill-color);\n",
              "      border-top-color: var(--fill-color);\n",
              "    }\n",
              "    30% {\n",
              "      border-color: transparent;\n",
              "      border-left-color: var(--fill-color);\n",
              "      border-top-color: var(--fill-color);\n",
              "      border-right-color: var(--fill-color);\n",
              "    }\n",
              "    40% {\n",
              "      border-color: transparent;\n",
              "      border-right-color: var(--fill-color);\n",
              "      border-top-color: var(--fill-color);\n",
              "    }\n",
              "    60% {\n",
              "      border-color: transparent;\n",
              "      border-right-color: var(--fill-color);\n",
              "    }\n",
              "    80% {\n",
              "      border-color: transparent;\n",
              "      border-right-color: var(--fill-color);\n",
              "      border-bottom-color: var(--fill-color);\n",
              "    }\n",
              "    90% {\n",
              "      border-color: transparent;\n",
              "      border-bottom-color: var(--fill-color);\n",
              "    }\n",
              "  }\n",
              "</style>\n",
              "\n",
              "  <script>\n",
              "    async function quickchart(key) {\n",
              "      const quickchartButtonEl =\n",
              "        document.querySelector('#' + key + ' button');\n",
              "      quickchartButtonEl.disabled = true;  // To prevent multiple clicks.\n",
              "      quickchartButtonEl.classList.add('colab-df-spinner');\n",
              "      try {\n",
              "        const charts = await google.colab.kernel.invokeFunction(\n",
              "            'suggestCharts', [key], {});\n",
              "      } catch (error) {\n",
              "        console.error('Error during call to suggestCharts:', error);\n",
              "      }\n",
              "      quickchartButtonEl.classList.remove('colab-df-spinner');\n",
              "      quickchartButtonEl.classList.add('colab-df-quickchart-complete');\n",
              "    }\n",
              "    (() => {\n",
              "      let quickchartButtonEl =\n",
              "        document.querySelector('#df-895ea546-331a-4f2a-acea-d2e835785430 button');\n",
              "      quickchartButtonEl.style.display =\n",
              "        google.colab.kernel.accessAllowed ? 'block' : 'none';\n",
              "    })();\n",
              "  </script>\n",
              "</div>\n",
              "    </div>\n",
              "  </div>\n"
            ],
            "application/vnd.google.colaboratory.intrinsic+json": {
              "type": "dataframe",
              "summary": "{\n  \"name\": \"pd\",\n  \"rows\": 3,\n  \"fields\": [\n    {\n      \"column\": \"BLEU\",\n      \"properties\": {\n        \"dtype\": \"string\",\n        \"num_unique_values\": 3,\n        \"samples\": [\n          \"19.519\",\n          \"25.409\",\n          \"29.368\"\n        ],\n        \"semantic_type\": \"\",\n        \"description\": \"\"\n      }\n    }\n  ]\n}"
            }
          },
          "metadata": {},
          "execution_count": 105
        }
      ]
    },
    {
      "cell_type": "markdown",
      "source": [
        "Лучшее значение метрики BLEU получили для архитектуры трансформер."
      ],
      "metadata": {
        "id": "OZ5Lra0hhqPt"
      }
    },
    {
      "cell_type": "markdown",
      "source": [
        "Посмотрим, можно ли улучшить метрику, если использовать сэмплирование, вместо жадного поиска."
      ],
      "metadata": {
        "id": "Ge_oxnuDoBX3"
      }
    },
    {
      "cell_type": "code",
      "source": [
        "for t in [0.01, 0.05, 0.1, 0.5, 1]:\n",
        "    BLEU = calculate_bleu(SRC_TR, TRG_TR, model_transformer, test_iterator_tr, device, max_len=150, transformer=True, greedy=False, T=t)\n",
        "    print(f'Temperature={t:.2f}, BLEU={BLEU:.3f}' )"
      ],
      "metadata": {
        "colab": {
          "base_uri": "https://localhost:8080/",
          "height": 264,
          "referenced_widgets": [
            "dbbcbf9840f9478f9ea5ed43a12ab607",
            "87b85fd420dd4f38b55574f4693f6547",
            "2f047779979a4c51a45808ca5c20b084",
            "f24e3c0e3bdf4f33b9da594e9860175f",
            "b2def3787fee4fb1820ed2ecd110c3c2",
            "996598e770394e77a90c5fb86906d8ab",
            "2029ab0da82b47408e79b8cc9745e255",
            "6ffcd5e9aae34964b3bbc1ba9c56c2b9",
            "9225a0cdef574bb48cfd92bfb776f924",
            "8d105f30410f4f4e8ba793bb5f9f6a65",
            "fe380bad859b4fdbbd530e946d506848",
            "05085536c48b45bea274e1f872182c4f",
            "2271cc89c1e547ac964615aba644475b",
            "c136626163f5498ba4297eaafd845023",
            "cc893c36eba144cbb9777b4ea1b28d91",
            "9fade856b7cf4c28b22cc2bb48440de0",
            "e35aa87248f840b487d34717665a6d2f",
            "d5911595c5344388834b9033e9c9d134",
            "9da09192e40e4b62a5443315c045cb2f",
            "cfbb65c5e0cd4aa684c062d744cba30a",
            "43c0022e9c4c4d5f9063397fb519ad24",
            "cd34ab557d564c299f5ed2d012c35d0d",
            "4a84fb3c7313483f9f5a03ee2bf58639",
            "f33c67426e6646a39a34b92d27317c83",
            "81c14d2ea0ad44abb21e12b7a702b069",
            "16554abb780740dd946c26a78266eb61",
            "324c30b754bb4e9586b28f271f5bd598",
            "0129d77563304a669b33698f07b27879",
            "b8bc997f7e024a84bdbf1df13fae18ec",
            "0af306de3b2b404ab1a79ad217b86712",
            "4dbfc1c406904196867034e3936fb0e1",
            "0b5d322986a54424824ced1f57a27bf4",
            "7c76c1e1081a405c99f0bcc7ceaf7393",
            "8ce82bb5491d4bfd9c9d95ac51f0c1d6",
            "eaa7be936690470d88ab4b8255e33567",
            "a5f50745f22a4609aeb9c7376da7be0b",
            "1702702d17e8467db58227de3c105f79",
            "a579246f505f4bff98997d2bb27ec25f",
            "764f3d51d2b24ae2ac43513d0a0a7544",
            "3db50a3676f54248a309ae90ae35cc07",
            "08e5a044da6d462ab3ccdaed5b796117",
            "7ec1eb3d160542299c43ec0862b54c70",
            "116c32d6587d495ebc96f3e6f9322bc5",
            "887bf979c65d41438a7e351d5e3fdc0e",
            "c87836eb6eae4044b165515aaa82046f",
            "31c0406a089b47a9bda79b24c58055ca",
            "363425b30c904653a477983624d40b68",
            "f028563b223845ea919a634d2e4dfafc",
            "655a064cf98244d0884bc19245826c47",
            "1f7731be8c9b45b3954f33a64321a3db",
            "cdc4f70cc97d4959ab613f1d6b400b66",
            "1bf0b10490dd4f3cb11682343d78ef9e",
            "c343ba5ac67e41e3a3c267837bd11124",
            "a4d64d8cb1934eafa766e7eb3063802b",
            "fa8979c180774053a6f41c552eb67746"
          ]
        },
        "id": "X_fTsXC005sb",
        "outputId": "fd5da297-ec22-4b0b-b767-db33a336a51d"
      },
      "execution_count": 106,
      "outputs": [
        {
          "output_type": "display_data",
          "data": {
            "text/plain": [
              "  0%|          | 0/59 [00:00<?, ?it/s]"
            ],
            "application/vnd.jupyter.widget-view+json": {
              "version_major": 2,
              "version_minor": 0,
              "model_id": "dbbcbf9840f9478f9ea5ed43a12ab607"
            }
          },
          "metadata": {}
        },
        {
          "output_type": "stream",
          "name": "stdout",
          "text": [
            "Temperature=0.01, BLEU=29.363\n"
          ]
        },
        {
          "output_type": "display_data",
          "data": {
            "text/plain": [
              "  0%|          | 0/59 [00:00<?, ?it/s]"
            ],
            "application/vnd.jupyter.widget-view+json": {
              "version_major": 2,
              "version_minor": 0,
              "model_id": "05085536c48b45bea274e1f872182c4f"
            }
          },
          "metadata": {}
        },
        {
          "output_type": "stream",
          "name": "stdout",
          "text": [
            "Temperature=0.05, BLEU=29.407\n"
          ]
        },
        {
          "output_type": "display_data",
          "data": {
            "text/plain": [
              "  0%|          | 0/59 [00:00<?, ?it/s]"
            ],
            "application/vnd.jupyter.widget-view+json": {
              "version_major": 2,
              "version_minor": 0,
              "model_id": "4a84fb3c7313483f9f5a03ee2bf58639"
            }
          },
          "metadata": {}
        },
        {
          "output_type": "stream",
          "name": "stdout",
          "text": [
            "Temperature=0.10, BLEU=29.392\n"
          ]
        },
        {
          "output_type": "display_data",
          "data": {
            "text/plain": [
              "  0%|          | 0/59 [00:00<?, ?it/s]"
            ],
            "application/vnd.jupyter.widget-view+json": {
              "version_major": 2,
              "version_minor": 0,
              "model_id": "8ce82bb5491d4bfd9c9d95ac51f0c1d6"
            }
          },
          "metadata": {}
        },
        {
          "output_type": "stream",
          "name": "stdout",
          "text": [
            "Temperature=0.50, BLEU=27.880\n"
          ]
        },
        {
          "output_type": "display_data",
          "data": {
            "text/plain": [
              "  0%|          | 0/59 [00:00<?, ?it/s]"
            ],
            "application/vnd.jupyter.widget-view+json": {
              "version_major": 2,
              "version_minor": 0,
              "model_id": "c87836eb6eae4044b165515aaa82046f"
            }
          },
          "metadata": {}
        },
        {
          "output_type": "stream",
          "name": "stdout",
          "text": [
            "Temperature=1.00, BLEU=22.040\n"
          ]
        }
      ]
    },
    {
      "cell_type": "markdown",
      "source": [
        "Как видно, если использовать сэмплирование и подобрать температуру, можно незначительно улучшить качество."
      ],
      "metadata": {
        "id": "-Wqvyn12sC4q"
      }
    },
    {
      "cell_type": "markdown",
      "source": [
        "# Сравнение генерации текста"
      ],
      "metadata": {
        "id": "UW0rRZy7KkDs"
      }
    },
    {
      "cell_type": "markdown",
      "source": [
        "Помимо сравнения по метрике BLEU, стоит также оценить результат перевода глазами. Добавим к жадному поиску сэмплирование с температурой равной 1 (при более низкой температуре на небольшой выборке разницы между сэмплирование и жадным поиском возможно и не будет)."
      ],
      "metadata": {
        "id": "FqWBmyzLtnBL"
      }
    },
    {
      "cell_type": "code",
      "source": [
        "batch = next(iter(test_iterator))"
      ],
      "metadata": {
        "id": "DSFhx2TtKqER"
      },
      "execution_count": 53,
      "outputs": []
    },
    {
      "cell_type": "code",
      "source": [
        "for idx in range(10):\n",
        "    src = batch.src[:, idx:idx+1]\n",
        "    trg = batch.trg[:, idx:idx+1]\n",
        "\n",
        "    print(f'----{idx}----')\n",
        "    generate_source_and_trg(src, trg, SRC.vocab, TRG.vocab)\n",
        "    print('Жадно сгенерированный, RNN: \\n', ' '.join(generate_translation_rnn(src, trg, model_rnn, SRC.vocab, TRG.vocab, greedy=True)[0]))\n",
        "    print('Сгенерированный сэмплированием, RNN (температура = 1): \\n',\n",
        "          ' '.join(generate_translation_rnn(src, trg, model_rnn, SRC.vocab, TRG.vocab, greedy=False, T=1)[0]))\n",
        "    print('Жадно сгенерированный, RNN with attention: \\n',\n",
        "          ' '.join(generate_translation_rnn(src, trg, model_rnn_with_attention, SRC.vocab, TRG.vocab, greedy=True)[0]))\n",
        "    print('Сгенерированный сэмплированием, RNN with attention (температура = 1): \\n',\n",
        "          ' '.join(generate_translation_rnn(src, trg, model_rnn_with_attention, SRC.vocab, TRG.vocab, greedy=False, T=1)[0]))\n",
        "    greedy_text, _ = generate_translation_transformer(src.T, TRG_TR, model_transformer, device, max_len=150, greedy=True)\n",
        "    print('Жадно сгенерированный, transformer: \\n', ' '.join(greedy_text[0]))\n",
        "    not_greedy_text, _ = generate_translation_transformer(src.T, TRG_TR, model_transformer, device, max_len=150, greedy=False, T=1)\n",
        "    print('Сгенерированный сэмплированием, transformer (температура = 1): \\n', ' '.join(not_greedy_text[0]))"
      ],
      "metadata": {
        "id": "byc0jQTLKoKi",
        "colab": {
          "base_uri": "https://localhost:8080/"
        },
        "outputId": "d8574c31-bf10-48a2-98ff-8f4637d9ffda"
      },
      "execution_count": 63,
      "outputs": [
        {
          "output_type": "stream",
          "name": "stdout",
          "text": [
            "----0----\n",
            "Источник: \n",
            " стойка регистрации открыта круглосуточно .\n",
            "Цель: \n",
            " there is a 24 - hour front desk at the property .\n",
            "Жадно сгенерированный, RNN: \n",
            " you will find a 24 - hour front desk .\n",
            "Сгенерированный сэмплированием, RNN (температура = 1): \n",
            " you will find a 24 - hour front desk and\n",
            "Жадно сгенерированный, RNN with attention: \n",
            " there is a 24 - hour front desk at the property .\n",
            "Сгенерированный сэмплированием, RNN with attention (температура = 1): \n",
            " you is a 24 - hour front desk and gasthof property hour\n",
            "Жадно сгенерированный, transformer: \n",
            " there is a 24 - hour front desk at the property .\n",
            "Сгенерированный сэмплированием, transformer (температура = 1): \n",
            " there is a 24 - hour front desk on site .\n",
            "----1----\n",
            "Источник: \n",
            " стойка регистрации работает круглосуточно .\n",
            "Цель: \n",
            " you will find a 24 - hour front desk at the property .\n",
            "Жадно сгенерированный, RNN: \n",
            " you will find a 24 - hour front desk .\n",
            "Сгенерированный сэмплированием, RNN (температура = 1): \n",
            " at is find a 24 ’ hour front desk .\n",
            "Жадно сгенерированный, RNN with attention: \n",
            " there is a 24 - hour front desk and hairdresser ' s 24 - hour reception .\n",
            "Сгенерированный сэмплированием, RNN with attention (температура = 1): \n",
            " at is a 24 - hour front desk , hairdresser ' s 24 - boxes front .\n",
            "Жадно сгенерированный, transformer: \n",
            " there is a 24 - hour front desk at the property .\n",
            "Сгенерированный сэмплированием, transformer (температура = 1): \n",
            " there is a 24 - hour front desk at the property .\n",
            "----2----\n",
            "Источник: \n",
            " стойка регистрации работает круглосуточно .\n",
            "Цель: \n",
            " there is a 24 - hour front desk at the property .\n",
            "Жадно сгенерированный, RNN: \n",
            " you will find a 24 - hour front desk .\n",
            "Сгенерированный сэмплированием, RNN (температура = 1): \n",
            " you will find restaurant 24 - hour front desk .\n",
            "Жадно сгенерированный, RNN with attention: \n",
            " there is a 24 - hour front desk and hairdresser ' s 24 - hour reception .\n",
            "Сгенерированный сэмплированием, RNN with attention (температура = 1): \n",
            " operates is a a - hour front desk at children ' s accommodation - site reception desk\n",
            "Жадно сгенерированный, transformer: \n",
            " there is a 24 - hour front desk at the property .\n",
            "Сгенерированный сэмплированием, transformer (температура = 1): \n",
            " you will find a 24 - hour front desk at the property .\n",
            "----3----\n",
            "Источник: \n",
            " имеется бесплатная частная парковка .\n",
            "Цель: \n",
            " free private parking is available .\n",
            "Жадно сгенерированный, RNN: \n",
            " free private parking is available on site .\n",
            "Сгенерированный сэмплированием, RNN (температура = 1): \n",
            " private private parking is available . site .\n",
            "Жадно сгенерированный, RNN with attention: \n",
            " free private parking is available on site .\n",
            "Сгенерированный сэмплированием, RNN with attention (температура = 1): \n",
            " free private parking available available on site\n",
            "Жадно сгенерированный, transformer: \n",
            " free private parking is available on site .\n",
            "Сгенерированный сэмплированием, transformer (температура = 1): \n",
            " free private parking is available on site .\n",
            "----4----\n",
            "Источник: \n",
            " поблизости работает несколько ресторанов .\n",
            "Цель: \n",
            " there are several restaurants in the surrounding area .\n",
            "Жадно сгенерированный, RNN: \n",
            " restaurants can be found in the vicinity .\n",
            "Сгенерированный сэмплированием, RNN (температура = 1): \n",
            " can can walking on restaurants the surroundings .\n",
            "Жадно сгенерированный, RNN with attention: \n",
            " restaurants can be found nearby .\n",
            "Сгенерированный сэмплированием, RNN with attention (температура = 1): \n",
            " restaurants bars restaurants banks nearby .\n",
            "Жадно сгенерированный, transformer: \n",
            " there are several restaurants nearby .\n",
            "Сгенерированный сэмплированием, transformer (температура = 1): \n",
            " you can find several restaurants nearby .\n",
            "----5----\n",
            "Источник: \n",
            " гостям предоставляется бесплатная парковка .\n",
            "Цель: \n",
            " the property also offers free parking .\n",
            "Жадно сгенерированный, RNN: \n",
            " the property offers free parking .\n",
            "Сгенерированный сэмплированием, RNN (температура = 1): \n",
            " the property offers free parking .\n",
            "Жадно сгенерированный, RNN with attention: \n",
            " free parking is available on site .\n",
            "Сгенерированный сэмплированием, RNN with attention (температура = 1): \n",
            " free property is provided available site .\n",
            "Жадно сгенерированный, transformer: \n",
            " the property offers free parking .\n",
            "Сгенерированный сэмплированием, transformer (температура = 1): \n",
            " the property offers free parking .\n",
            "----6----\n",
            "Источник: \n",
            " в доме имеется кухня .\n",
            "Цель: \n",
            " the unit is fitted with a kitchen .\n",
            "Жадно сгенерированный, RNN: \n",
            " the kitchen is equipped with a dishwasher .\n",
            "Сгенерированный сэмплированием, RNN (температура = 1): \n",
            " guests kitchen is fitted . a dishwasher for\n",
            "Жадно сгенерированный, RNN with attention: \n",
            " there is a kitchen kitchen at the property .\n",
            "Сгенерированный сэмплированием, RNN with attention (температура = 1): \n",
            " there is a kitchen kitchen that the 14th .\n",
            "Жадно сгенерированный, transformer: \n",
            " the kitchen is equipped with a kitchen .\n",
            "Сгенерированный сэмплированием, transformer (температура = 1): \n",
            " the unit is equipped with a kitchen .\n",
            "----7----\n",
            "Источник: \n",
            " ванная комната оборудована душем .\n",
            "Цель: \n",
            " the bathroom has a shower .\n",
            "Жадно сгенерированный, RNN: \n",
            " the bathroom comes with a shower .\n",
            "Сгенерированный сэмплированием, RNN (температура = 1): \n",
            " shower bathroom includes complete shower shower .\n",
            "Жадно сгенерированный, RNN with attention: \n",
            " the bathroom comes with a shower .\n",
            "Сгенерированный сэмплированием, RNN with attention (температура = 1): \n",
            " the en bathroom with a shower .\n",
            "Жадно сгенерированный, transformer: \n",
            " the bathroom comes with a shower .\n",
            "Сгенерированный сэмплированием, transformer (температура = 1): \n",
            " the bathroom includes a shower .\n",
            "----8----\n",
            "Источник: \n",
            " в гостиной установлен камин .\n",
            "Цель: \n",
            " there is also a fireplace in the living room .\n",
            "Жадно сгенерированный, RNN: \n",
            " a living living area with sofas .\n",
            "Сгенерированный сэмплированием, RNN (температура = 1): \n",
            " the living fireplace area with\n",
            "Жадно сгенерированный, RNN with attention: \n",
            " the living room includes fireplace , fireplace and fireplace .\n",
            "Сгенерированный сэмплированием, RNN with attention (температура = 1): \n",
            " there living room comes sofas , provided and a movie\n",
            "Жадно сгенерированный, transformer: \n",
            " there is a living room with a fireplace .\n",
            "Сгенерированный сэмплированием, transformer (температура = 1): \n",
            " the living room comes with a fireplace .\n",
            "----9----\n",
            "Источник: \n",
            " в распоряжении гостей кофемашина .\n",
            "Цель: \n",
            " you will find a coffee machine in the room .\n",
            "Жадно сгенерированный, RNN: \n",
            " you will find a coffee machine .\n",
            "Сгенерированный сэмплированием, RNN (температура = 1): \n",
            " have will find a coffee machine in\n",
            "Жадно сгенерированный, RNN with attention: \n",
            " coffee machine is provided .\n",
            "Сгенерированный сэмплированием, RNN with attention (температура = 1): \n",
            " coffee coffee are provided .\n",
            "Жадно сгенерированный, transformer: \n",
            " you will find a coffee machine in the room .\n",
            "Сгенерированный сэмплированием, transformer (температура = 1): \n",
            " other facilities include a coffee machine .\n"
          ]
        }
      ]
    },
    {
      "cell_type": "markdown",
      "source": [
        "По данным примерам перевод модели `transformer` наиболее близок к целевому."
      ],
      "metadata": {
        "id": "mG0QPVn3vUme"
      }
    },
    {
      "cell_type": "markdown",
      "source": [
        "# Вывод"
      ],
      "metadata": {
        "id": "J3js2bhIvEtb"
      }
    },
    {
      "cell_type": "markdown",
      "source": [
        "В результате работы были обучены модели трех архитектур (RNN, RNN with attention, transformer). Для каждой модели была рассчитана метрика BLEU на тестовой выборке. Лучшее значение у модели `transformer`. Также у этой модели перевод оказался наиболее близким к целевому для 10 примеров из тестового датасета. Незначительно улучшить значение метрики удалось, используя сэмплирование вместо жадного поиска при генерации перевода."
      ],
      "metadata": {
        "id": "Dqdm3scwvreX"
      }
    },
    {
      "cell_type": "code",
      "source": [],
      "metadata": {
        "id": "7nJ3ZxScvINx"
      },
      "execution_count": null,
      "outputs": []
    }
  ],
  "metadata": {
    "anaconda-cloud": {},
    "colab": {
      "provenance": [],
      "toc_visible": true,
      "gpuType": "T4"
    },
    "kernelspec": {
      "display_name": "Python 3",
      "name": "python3"
    },
    "language_info": {
      "codemirror_mode": {
        "name": "ipython",
        "version": 3
      },
      "file_extension": ".py",
      "mimetype": "text/x-python",
      "name": "python",
      "nbconvert_exporter": "python",
      "pygments_lexer": "ipython3",
      "version": "3.9.7"
    },
    "widgets": {
      "application/vnd.jupyter.widget-state+json": {
        "9ef01d9b40654bbeb131fc492cb39a24": {
          "model_module": "@jupyter-widgets/controls",
          "model_name": "HBoxModel",
          "model_module_version": "1.5.0",
          "state": {
            "_dom_classes": [],
            "_model_module": "@jupyter-widgets/controls",
            "_model_module_version": "1.5.0",
            "_model_name": "HBoxModel",
            "_view_count": null,
            "_view_module": "@jupyter-widgets/controls",
            "_view_module_version": "1.5.0",
            "_view_name": "HBoxView",
            "box_style": "",
            "children": [
              "IPY_MODEL_3efc3ec4e97e4d518469c2f570787825",
              "IPY_MODEL_98b4bfaa63674683a5b21e29a6b00366",
              "IPY_MODEL_44f1686d8acd46d0a2e28d0d592ef0a5"
            ],
            "layout": "IPY_MODEL_cf01fd4dc29e48c58e02a03dde6ba1f5"
          }
        },
        "3efc3ec4e97e4d518469c2f570787825": {
          "model_module": "@jupyter-widgets/controls",
          "model_name": "HTMLModel",
          "model_module_version": "1.5.0",
          "state": {
            "_dom_classes": [],
            "_model_module": "@jupyter-widgets/controls",
            "_model_module_version": "1.5.0",
            "_model_name": "HTMLModel",
            "_view_count": null,
            "_view_module": "@jupyter-widgets/controls",
            "_view_module_version": "1.5.0",
            "_view_name": "HTMLView",
            "description": "",
            "description_tooltip": null,
            "layout": "IPY_MODEL_2883458251ed40459505e891d57698ff",
            "placeholder": "​",
            "style": "IPY_MODEL_c1d4bef0878d4ebe9e8cb49f2cebb510",
            "value": "100%"
          }
        },
        "98b4bfaa63674683a5b21e29a6b00366": {
          "model_module": "@jupyter-widgets/controls",
          "model_name": "FloatProgressModel",
          "model_module_version": "1.5.0",
          "state": {
            "_dom_classes": [],
            "_model_module": "@jupyter-widgets/controls",
            "_model_module_version": "1.5.0",
            "_model_name": "FloatProgressModel",
            "_view_count": null,
            "_view_module": "@jupyter-widgets/controls",
            "_view_module_version": "1.5.0",
            "_view_name": "ProgressView",
            "bar_style": "success",
            "description": "",
            "description_tooltip": null,
            "layout": "IPY_MODEL_6cac503c2e3944bea7282b869115393d",
            "max": 59,
            "min": 0,
            "orientation": "horizontal",
            "style": "IPY_MODEL_3382d84dbaa74cf5bd340fa48da38919",
            "value": 59
          }
        },
        "44f1686d8acd46d0a2e28d0d592ef0a5": {
          "model_module": "@jupyter-widgets/controls",
          "model_name": "HTMLModel",
          "model_module_version": "1.5.0",
          "state": {
            "_dom_classes": [],
            "_model_module": "@jupyter-widgets/controls",
            "_model_module_version": "1.5.0",
            "_model_name": "HTMLModel",
            "_view_count": null,
            "_view_module": "@jupyter-widgets/controls",
            "_view_module_version": "1.5.0",
            "_view_name": "HTMLView",
            "description": "",
            "description_tooltip": null,
            "layout": "IPY_MODEL_6ef6660f3e194682a7e7b08a783c4082",
            "placeholder": "​",
            "style": "IPY_MODEL_fad50587184b44a28959b521fb6613db",
            "value": " 59/59 [00:40&lt;00:00,  1.61it/s]"
          }
        },
        "cf01fd4dc29e48c58e02a03dde6ba1f5": {
          "model_module": "@jupyter-widgets/base",
          "model_name": "LayoutModel",
          "model_module_version": "1.2.0",
          "state": {
            "_model_module": "@jupyter-widgets/base",
            "_model_module_version": "1.2.0",
            "_model_name": "LayoutModel",
            "_view_count": null,
            "_view_module": "@jupyter-widgets/base",
            "_view_module_version": "1.2.0",
            "_view_name": "LayoutView",
            "align_content": null,
            "align_items": null,
            "align_self": null,
            "border": null,
            "bottom": null,
            "display": null,
            "flex": null,
            "flex_flow": null,
            "grid_area": null,
            "grid_auto_columns": null,
            "grid_auto_flow": null,
            "grid_auto_rows": null,
            "grid_column": null,
            "grid_gap": null,
            "grid_row": null,
            "grid_template_areas": null,
            "grid_template_columns": null,
            "grid_template_rows": null,
            "height": null,
            "justify_content": null,
            "justify_items": null,
            "left": null,
            "margin": null,
            "max_height": null,
            "max_width": null,
            "min_height": null,
            "min_width": null,
            "object_fit": null,
            "object_position": null,
            "order": null,
            "overflow": null,
            "overflow_x": null,
            "overflow_y": null,
            "padding": null,
            "right": null,
            "top": null,
            "visibility": null,
            "width": null
          }
        },
        "2883458251ed40459505e891d57698ff": {
          "model_module": "@jupyter-widgets/base",
          "model_name": "LayoutModel",
          "model_module_version": "1.2.0",
          "state": {
            "_model_module": "@jupyter-widgets/base",
            "_model_module_version": "1.2.0",
            "_model_name": "LayoutModel",
            "_view_count": null,
            "_view_module": "@jupyter-widgets/base",
            "_view_module_version": "1.2.0",
            "_view_name": "LayoutView",
            "align_content": null,
            "align_items": null,
            "align_self": null,
            "border": null,
            "bottom": null,
            "display": null,
            "flex": null,
            "flex_flow": null,
            "grid_area": null,
            "grid_auto_columns": null,
            "grid_auto_flow": null,
            "grid_auto_rows": null,
            "grid_column": null,
            "grid_gap": null,
            "grid_row": null,
            "grid_template_areas": null,
            "grid_template_columns": null,
            "grid_template_rows": null,
            "height": null,
            "justify_content": null,
            "justify_items": null,
            "left": null,
            "margin": null,
            "max_height": null,
            "max_width": null,
            "min_height": null,
            "min_width": null,
            "object_fit": null,
            "object_position": null,
            "order": null,
            "overflow": null,
            "overflow_x": null,
            "overflow_y": null,
            "padding": null,
            "right": null,
            "top": null,
            "visibility": null,
            "width": null
          }
        },
        "c1d4bef0878d4ebe9e8cb49f2cebb510": {
          "model_module": "@jupyter-widgets/controls",
          "model_name": "DescriptionStyleModel",
          "model_module_version": "1.5.0",
          "state": {
            "_model_module": "@jupyter-widgets/controls",
            "_model_module_version": "1.5.0",
            "_model_name": "DescriptionStyleModel",
            "_view_count": null,
            "_view_module": "@jupyter-widgets/base",
            "_view_module_version": "1.2.0",
            "_view_name": "StyleView",
            "description_width": ""
          }
        },
        "6cac503c2e3944bea7282b869115393d": {
          "model_module": "@jupyter-widgets/base",
          "model_name": "LayoutModel",
          "model_module_version": "1.2.0",
          "state": {
            "_model_module": "@jupyter-widgets/base",
            "_model_module_version": "1.2.0",
            "_model_name": "LayoutModel",
            "_view_count": null,
            "_view_module": "@jupyter-widgets/base",
            "_view_module_version": "1.2.0",
            "_view_name": "LayoutView",
            "align_content": null,
            "align_items": null,
            "align_self": null,
            "border": null,
            "bottom": null,
            "display": null,
            "flex": null,
            "flex_flow": null,
            "grid_area": null,
            "grid_auto_columns": null,
            "grid_auto_flow": null,
            "grid_auto_rows": null,
            "grid_column": null,
            "grid_gap": null,
            "grid_row": null,
            "grid_template_areas": null,
            "grid_template_columns": null,
            "grid_template_rows": null,
            "height": null,
            "justify_content": null,
            "justify_items": null,
            "left": null,
            "margin": null,
            "max_height": null,
            "max_width": null,
            "min_height": null,
            "min_width": null,
            "object_fit": null,
            "object_position": null,
            "order": null,
            "overflow": null,
            "overflow_x": null,
            "overflow_y": null,
            "padding": null,
            "right": null,
            "top": null,
            "visibility": null,
            "width": null
          }
        },
        "3382d84dbaa74cf5bd340fa48da38919": {
          "model_module": "@jupyter-widgets/controls",
          "model_name": "ProgressStyleModel",
          "model_module_version": "1.5.0",
          "state": {
            "_model_module": "@jupyter-widgets/controls",
            "_model_module_version": "1.5.0",
            "_model_name": "ProgressStyleModel",
            "_view_count": null,
            "_view_module": "@jupyter-widgets/base",
            "_view_module_version": "1.2.0",
            "_view_name": "StyleView",
            "bar_color": null,
            "description_width": ""
          }
        },
        "6ef6660f3e194682a7e7b08a783c4082": {
          "model_module": "@jupyter-widgets/base",
          "model_name": "LayoutModel",
          "model_module_version": "1.2.0",
          "state": {
            "_model_module": "@jupyter-widgets/base",
            "_model_module_version": "1.2.0",
            "_model_name": "LayoutModel",
            "_view_count": null,
            "_view_module": "@jupyter-widgets/base",
            "_view_module_version": "1.2.0",
            "_view_name": "LayoutView",
            "align_content": null,
            "align_items": null,
            "align_self": null,
            "border": null,
            "bottom": null,
            "display": null,
            "flex": null,
            "flex_flow": null,
            "grid_area": null,
            "grid_auto_columns": null,
            "grid_auto_flow": null,
            "grid_auto_rows": null,
            "grid_column": null,
            "grid_gap": null,
            "grid_row": null,
            "grid_template_areas": null,
            "grid_template_columns": null,
            "grid_template_rows": null,
            "height": null,
            "justify_content": null,
            "justify_items": null,
            "left": null,
            "margin": null,
            "max_height": null,
            "max_width": null,
            "min_height": null,
            "min_width": null,
            "object_fit": null,
            "object_position": null,
            "order": null,
            "overflow": null,
            "overflow_x": null,
            "overflow_y": null,
            "padding": null,
            "right": null,
            "top": null,
            "visibility": null,
            "width": null
          }
        },
        "fad50587184b44a28959b521fb6613db": {
          "model_module": "@jupyter-widgets/controls",
          "model_name": "DescriptionStyleModel",
          "model_module_version": "1.5.0",
          "state": {
            "_model_module": "@jupyter-widgets/controls",
            "_model_module_version": "1.5.0",
            "_model_name": "DescriptionStyleModel",
            "_view_count": null,
            "_view_module": "@jupyter-widgets/base",
            "_view_module_version": "1.2.0",
            "_view_name": "StyleView",
            "description_width": ""
          }
        },
        "2be2bb73e59346ab8b0a049b415bfb07": {
          "model_module": "@jupyter-widgets/controls",
          "model_name": "HBoxModel",
          "model_module_version": "1.5.0",
          "state": {
            "_dom_classes": [],
            "_model_module": "@jupyter-widgets/controls",
            "_model_module_version": "1.5.0",
            "_model_name": "HBoxModel",
            "_view_count": null,
            "_view_module": "@jupyter-widgets/controls",
            "_view_module_version": "1.5.0",
            "_view_name": "HBoxView",
            "box_style": "",
            "children": [
              "IPY_MODEL_ca7032f81d1142f7bfad728a6a6a29b4",
              "IPY_MODEL_aa9197104e10456dbad29c29744d147f",
              "IPY_MODEL_495839df9b1f4ca5b6cbf4d54f74c379"
            ],
            "layout": "IPY_MODEL_7b684fac2e4b4b10bf6c35089311c4b9"
          }
        },
        "ca7032f81d1142f7bfad728a6a6a29b4": {
          "model_module": "@jupyter-widgets/controls",
          "model_name": "HTMLModel",
          "model_module_version": "1.5.0",
          "state": {
            "_dom_classes": [],
            "_model_module": "@jupyter-widgets/controls",
            "_model_module_version": "1.5.0",
            "_model_name": "HTMLModel",
            "_view_count": null,
            "_view_module": "@jupyter-widgets/controls",
            "_view_module_version": "1.5.0",
            "_view_name": "HTMLView",
            "description": "",
            "description_tooltip": null,
            "layout": "IPY_MODEL_d1a195223df2445691f10efd61337457",
            "placeholder": "​",
            "style": "IPY_MODEL_a3d396e904424f6da2b4bd5e384f8ea7",
            "value": "100%"
          }
        },
        "aa9197104e10456dbad29c29744d147f": {
          "model_module": "@jupyter-widgets/controls",
          "model_name": "FloatProgressModel",
          "model_module_version": "1.5.0",
          "state": {
            "_dom_classes": [],
            "_model_module": "@jupyter-widgets/controls",
            "_model_module_version": "1.5.0",
            "_model_name": "FloatProgressModel",
            "_view_count": null,
            "_view_module": "@jupyter-widgets/controls",
            "_view_module_version": "1.5.0",
            "_view_name": "ProgressView",
            "bar_style": "success",
            "description": "",
            "description_tooltip": null,
            "layout": "IPY_MODEL_fa8e90ae3a054f5b9dc54decd615977d",
            "max": 59,
            "min": 0,
            "orientation": "horizontal",
            "style": "IPY_MODEL_b6c3c209e8bc49e9a1dad074e9676bdf",
            "value": 59
          }
        },
        "495839df9b1f4ca5b6cbf4d54f74c379": {
          "model_module": "@jupyter-widgets/controls",
          "model_name": "HTMLModel",
          "model_module_version": "1.5.0",
          "state": {
            "_dom_classes": [],
            "_model_module": "@jupyter-widgets/controls",
            "_model_module_version": "1.5.0",
            "_model_name": "HTMLModel",
            "_view_count": null,
            "_view_module": "@jupyter-widgets/controls",
            "_view_module_version": "1.5.0",
            "_view_name": "HTMLView",
            "description": "",
            "description_tooltip": null,
            "layout": "IPY_MODEL_5ecfa843d3574788ac9e51efebf833be",
            "placeholder": "​",
            "style": "IPY_MODEL_0943c96e16a84f2f950ac75313778794",
            "value": " 59/59 [00:45&lt;00:00,  1.34it/s]"
          }
        },
        "7b684fac2e4b4b10bf6c35089311c4b9": {
          "model_module": "@jupyter-widgets/base",
          "model_name": "LayoutModel",
          "model_module_version": "1.2.0",
          "state": {
            "_model_module": "@jupyter-widgets/base",
            "_model_module_version": "1.2.0",
            "_model_name": "LayoutModel",
            "_view_count": null,
            "_view_module": "@jupyter-widgets/base",
            "_view_module_version": "1.2.0",
            "_view_name": "LayoutView",
            "align_content": null,
            "align_items": null,
            "align_self": null,
            "border": null,
            "bottom": null,
            "display": null,
            "flex": null,
            "flex_flow": null,
            "grid_area": null,
            "grid_auto_columns": null,
            "grid_auto_flow": null,
            "grid_auto_rows": null,
            "grid_column": null,
            "grid_gap": null,
            "grid_row": null,
            "grid_template_areas": null,
            "grid_template_columns": null,
            "grid_template_rows": null,
            "height": null,
            "justify_content": null,
            "justify_items": null,
            "left": null,
            "margin": null,
            "max_height": null,
            "max_width": null,
            "min_height": null,
            "min_width": null,
            "object_fit": null,
            "object_position": null,
            "order": null,
            "overflow": null,
            "overflow_x": null,
            "overflow_y": null,
            "padding": null,
            "right": null,
            "top": null,
            "visibility": null,
            "width": null
          }
        },
        "d1a195223df2445691f10efd61337457": {
          "model_module": "@jupyter-widgets/base",
          "model_name": "LayoutModel",
          "model_module_version": "1.2.0",
          "state": {
            "_model_module": "@jupyter-widgets/base",
            "_model_module_version": "1.2.0",
            "_model_name": "LayoutModel",
            "_view_count": null,
            "_view_module": "@jupyter-widgets/base",
            "_view_module_version": "1.2.0",
            "_view_name": "LayoutView",
            "align_content": null,
            "align_items": null,
            "align_self": null,
            "border": null,
            "bottom": null,
            "display": null,
            "flex": null,
            "flex_flow": null,
            "grid_area": null,
            "grid_auto_columns": null,
            "grid_auto_flow": null,
            "grid_auto_rows": null,
            "grid_column": null,
            "grid_gap": null,
            "grid_row": null,
            "grid_template_areas": null,
            "grid_template_columns": null,
            "grid_template_rows": null,
            "height": null,
            "justify_content": null,
            "justify_items": null,
            "left": null,
            "margin": null,
            "max_height": null,
            "max_width": null,
            "min_height": null,
            "min_width": null,
            "object_fit": null,
            "object_position": null,
            "order": null,
            "overflow": null,
            "overflow_x": null,
            "overflow_y": null,
            "padding": null,
            "right": null,
            "top": null,
            "visibility": null,
            "width": null
          }
        },
        "a3d396e904424f6da2b4bd5e384f8ea7": {
          "model_module": "@jupyter-widgets/controls",
          "model_name": "DescriptionStyleModel",
          "model_module_version": "1.5.0",
          "state": {
            "_model_module": "@jupyter-widgets/controls",
            "_model_module_version": "1.5.0",
            "_model_name": "DescriptionStyleModel",
            "_view_count": null,
            "_view_module": "@jupyter-widgets/base",
            "_view_module_version": "1.2.0",
            "_view_name": "StyleView",
            "description_width": ""
          }
        },
        "fa8e90ae3a054f5b9dc54decd615977d": {
          "model_module": "@jupyter-widgets/base",
          "model_name": "LayoutModel",
          "model_module_version": "1.2.0",
          "state": {
            "_model_module": "@jupyter-widgets/base",
            "_model_module_version": "1.2.0",
            "_model_name": "LayoutModel",
            "_view_count": null,
            "_view_module": "@jupyter-widgets/base",
            "_view_module_version": "1.2.0",
            "_view_name": "LayoutView",
            "align_content": null,
            "align_items": null,
            "align_self": null,
            "border": null,
            "bottom": null,
            "display": null,
            "flex": null,
            "flex_flow": null,
            "grid_area": null,
            "grid_auto_columns": null,
            "grid_auto_flow": null,
            "grid_auto_rows": null,
            "grid_column": null,
            "grid_gap": null,
            "grid_row": null,
            "grid_template_areas": null,
            "grid_template_columns": null,
            "grid_template_rows": null,
            "height": null,
            "justify_content": null,
            "justify_items": null,
            "left": null,
            "margin": null,
            "max_height": null,
            "max_width": null,
            "min_height": null,
            "min_width": null,
            "object_fit": null,
            "object_position": null,
            "order": null,
            "overflow": null,
            "overflow_x": null,
            "overflow_y": null,
            "padding": null,
            "right": null,
            "top": null,
            "visibility": null,
            "width": null
          }
        },
        "b6c3c209e8bc49e9a1dad074e9676bdf": {
          "model_module": "@jupyter-widgets/controls",
          "model_name": "ProgressStyleModel",
          "model_module_version": "1.5.0",
          "state": {
            "_model_module": "@jupyter-widgets/controls",
            "_model_module_version": "1.5.0",
            "_model_name": "ProgressStyleModel",
            "_view_count": null,
            "_view_module": "@jupyter-widgets/base",
            "_view_module_version": "1.2.0",
            "_view_name": "StyleView",
            "bar_color": null,
            "description_width": ""
          }
        },
        "5ecfa843d3574788ac9e51efebf833be": {
          "model_module": "@jupyter-widgets/base",
          "model_name": "LayoutModel",
          "model_module_version": "1.2.0",
          "state": {
            "_model_module": "@jupyter-widgets/base",
            "_model_module_version": "1.2.0",
            "_model_name": "LayoutModel",
            "_view_count": null,
            "_view_module": "@jupyter-widgets/base",
            "_view_module_version": "1.2.0",
            "_view_name": "LayoutView",
            "align_content": null,
            "align_items": null,
            "align_self": null,
            "border": null,
            "bottom": null,
            "display": null,
            "flex": null,
            "flex_flow": null,
            "grid_area": null,
            "grid_auto_columns": null,
            "grid_auto_flow": null,
            "grid_auto_rows": null,
            "grid_column": null,
            "grid_gap": null,
            "grid_row": null,
            "grid_template_areas": null,
            "grid_template_columns": null,
            "grid_template_rows": null,
            "height": null,
            "justify_content": null,
            "justify_items": null,
            "left": null,
            "margin": null,
            "max_height": null,
            "max_width": null,
            "min_height": null,
            "min_width": null,
            "object_fit": null,
            "object_position": null,
            "order": null,
            "overflow": null,
            "overflow_x": null,
            "overflow_y": null,
            "padding": null,
            "right": null,
            "top": null,
            "visibility": null,
            "width": null
          }
        },
        "0943c96e16a84f2f950ac75313778794": {
          "model_module": "@jupyter-widgets/controls",
          "model_name": "DescriptionStyleModel",
          "model_module_version": "1.5.0",
          "state": {
            "_model_module": "@jupyter-widgets/controls",
            "_model_module_version": "1.5.0",
            "_model_name": "DescriptionStyleModel",
            "_view_count": null,
            "_view_module": "@jupyter-widgets/base",
            "_view_module_version": "1.2.0",
            "_view_name": "StyleView",
            "description_width": ""
          }
        },
        "6603259a29e14fd6ab368cad3b810898": {
          "model_module": "@jupyter-widgets/controls",
          "model_name": "HBoxModel",
          "model_module_version": "1.5.0",
          "state": {
            "_dom_classes": [],
            "_model_module": "@jupyter-widgets/controls",
            "_model_module_version": "1.5.0",
            "_model_name": "HBoxModel",
            "_view_count": null,
            "_view_module": "@jupyter-widgets/controls",
            "_view_module_version": "1.5.0",
            "_view_name": "HBoxView",
            "box_style": "",
            "children": [
              "IPY_MODEL_b454f1b82e884adb9b212bf7525f36f5",
              "IPY_MODEL_f7efb43bb4ba4326bb0871f439cb490f",
              "IPY_MODEL_edd1bb220e4a464e911e0d67201b49bb"
            ],
            "layout": "IPY_MODEL_31e1cce057264005849256938a36975b"
          }
        },
        "b454f1b82e884adb9b212bf7525f36f5": {
          "model_module": "@jupyter-widgets/controls",
          "model_name": "HTMLModel",
          "model_module_version": "1.5.0",
          "state": {
            "_dom_classes": [],
            "_model_module": "@jupyter-widgets/controls",
            "_model_module_version": "1.5.0",
            "_model_name": "HTMLModel",
            "_view_count": null,
            "_view_module": "@jupyter-widgets/controls",
            "_view_module_version": "1.5.0",
            "_view_name": "HTMLView",
            "description": "",
            "description_tooltip": null,
            "layout": "IPY_MODEL_b08dd8dda5c04f3e9aad8d0bdf5a61af",
            "placeholder": "​",
            "style": "IPY_MODEL_0306f621209f4908bf7144a863cd6fc5",
            "value": "100%"
          }
        },
        "f7efb43bb4ba4326bb0871f439cb490f": {
          "model_module": "@jupyter-widgets/controls",
          "model_name": "FloatProgressModel",
          "model_module_version": "1.5.0",
          "state": {
            "_dom_classes": [],
            "_model_module": "@jupyter-widgets/controls",
            "_model_module_version": "1.5.0",
            "_model_name": "FloatProgressModel",
            "_view_count": null,
            "_view_module": "@jupyter-widgets/controls",
            "_view_module_version": "1.5.0",
            "_view_name": "ProgressView",
            "bar_style": "success",
            "description": "",
            "description_tooltip": null,
            "layout": "IPY_MODEL_ed32eb93f370441490d8f2468e86c1d4",
            "max": 59,
            "min": 0,
            "orientation": "horizontal",
            "style": "IPY_MODEL_e274c8ea80884f4b84e2c3d9dbc29242",
            "value": 59
          }
        },
        "edd1bb220e4a464e911e0d67201b49bb": {
          "model_module": "@jupyter-widgets/controls",
          "model_name": "HTMLModel",
          "model_module_version": "1.5.0",
          "state": {
            "_dom_classes": [],
            "_model_module": "@jupyter-widgets/controls",
            "_model_module_version": "1.5.0",
            "_model_name": "HTMLModel",
            "_view_count": null,
            "_view_module": "@jupyter-widgets/controls",
            "_view_module_version": "1.5.0",
            "_view_name": "HTMLView",
            "description": "",
            "description_tooltip": null,
            "layout": "IPY_MODEL_c2e5c2cc03994ec9a776391f8db643aa",
            "placeholder": "​",
            "style": "IPY_MODEL_c95228f756314775b9cfabedb81bb7cd",
            "value": " 59/59 [00:23&lt;00:00,  1.73s/it]"
          }
        },
        "31e1cce057264005849256938a36975b": {
          "model_module": "@jupyter-widgets/base",
          "model_name": "LayoutModel",
          "model_module_version": "1.2.0",
          "state": {
            "_model_module": "@jupyter-widgets/base",
            "_model_module_version": "1.2.0",
            "_model_name": "LayoutModel",
            "_view_count": null,
            "_view_module": "@jupyter-widgets/base",
            "_view_module_version": "1.2.0",
            "_view_name": "LayoutView",
            "align_content": null,
            "align_items": null,
            "align_self": null,
            "border": null,
            "bottom": null,
            "display": null,
            "flex": null,
            "flex_flow": null,
            "grid_area": null,
            "grid_auto_columns": null,
            "grid_auto_flow": null,
            "grid_auto_rows": null,
            "grid_column": null,
            "grid_gap": null,
            "grid_row": null,
            "grid_template_areas": null,
            "grid_template_columns": null,
            "grid_template_rows": null,
            "height": null,
            "justify_content": null,
            "justify_items": null,
            "left": null,
            "margin": null,
            "max_height": null,
            "max_width": null,
            "min_height": null,
            "min_width": null,
            "object_fit": null,
            "object_position": null,
            "order": null,
            "overflow": null,
            "overflow_x": null,
            "overflow_y": null,
            "padding": null,
            "right": null,
            "top": null,
            "visibility": null,
            "width": null
          }
        },
        "b08dd8dda5c04f3e9aad8d0bdf5a61af": {
          "model_module": "@jupyter-widgets/base",
          "model_name": "LayoutModel",
          "model_module_version": "1.2.0",
          "state": {
            "_model_module": "@jupyter-widgets/base",
            "_model_module_version": "1.2.0",
            "_model_name": "LayoutModel",
            "_view_count": null,
            "_view_module": "@jupyter-widgets/base",
            "_view_module_version": "1.2.0",
            "_view_name": "LayoutView",
            "align_content": null,
            "align_items": null,
            "align_self": null,
            "border": null,
            "bottom": null,
            "display": null,
            "flex": null,
            "flex_flow": null,
            "grid_area": null,
            "grid_auto_columns": null,
            "grid_auto_flow": null,
            "grid_auto_rows": null,
            "grid_column": null,
            "grid_gap": null,
            "grid_row": null,
            "grid_template_areas": null,
            "grid_template_columns": null,
            "grid_template_rows": null,
            "height": null,
            "justify_content": null,
            "justify_items": null,
            "left": null,
            "margin": null,
            "max_height": null,
            "max_width": null,
            "min_height": null,
            "min_width": null,
            "object_fit": null,
            "object_position": null,
            "order": null,
            "overflow": null,
            "overflow_x": null,
            "overflow_y": null,
            "padding": null,
            "right": null,
            "top": null,
            "visibility": null,
            "width": null
          }
        },
        "0306f621209f4908bf7144a863cd6fc5": {
          "model_module": "@jupyter-widgets/controls",
          "model_name": "DescriptionStyleModel",
          "model_module_version": "1.5.0",
          "state": {
            "_model_module": "@jupyter-widgets/controls",
            "_model_module_version": "1.5.0",
            "_model_name": "DescriptionStyleModel",
            "_view_count": null,
            "_view_module": "@jupyter-widgets/base",
            "_view_module_version": "1.2.0",
            "_view_name": "StyleView",
            "description_width": ""
          }
        },
        "ed32eb93f370441490d8f2468e86c1d4": {
          "model_module": "@jupyter-widgets/base",
          "model_name": "LayoutModel",
          "model_module_version": "1.2.0",
          "state": {
            "_model_module": "@jupyter-widgets/base",
            "_model_module_version": "1.2.0",
            "_model_name": "LayoutModel",
            "_view_count": null,
            "_view_module": "@jupyter-widgets/base",
            "_view_module_version": "1.2.0",
            "_view_name": "LayoutView",
            "align_content": null,
            "align_items": null,
            "align_self": null,
            "border": null,
            "bottom": null,
            "display": null,
            "flex": null,
            "flex_flow": null,
            "grid_area": null,
            "grid_auto_columns": null,
            "grid_auto_flow": null,
            "grid_auto_rows": null,
            "grid_column": null,
            "grid_gap": null,
            "grid_row": null,
            "grid_template_areas": null,
            "grid_template_columns": null,
            "grid_template_rows": null,
            "height": null,
            "justify_content": null,
            "justify_items": null,
            "left": null,
            "margin": null,
            "max_height": null,
            "max_width": null,
            "min_height": null,
            "min_width": null,
            "object_fit": null,
            "object_position": null,
            "order": null,
            "overflow": null,
            "overflow_x": null,
            "overflow_y": null,
            "padding": null,
            "right": null,
            "top": null,
            "visibility": null,
            "width": null
          }
        },
        "e274c8ea80884f4b84e2c3d9dbc29242": {
          "model_module": "@jupyter-widgets/controls",
          "model_name": "ProgressStyleModel",
          "model_module_version": "1.5.0",
          "state": {
            "_model_module": "@jupyter-widgets/controls",
            "_model_module_version": "1.5.0",
            "_model_name": "ProgressStyleModel",
            "_view_count": null,
            "_view_module": "@jupyter-widgets/base",
            "_view_module_version": "1.2.0",
            "_view_name": "StyleView",
            "bar_color": null,
            "description_width": ""
          }
        },
        "c2e5c2cc03994ec9a776391f8db643aa": {
          "model_module": "@jupyter-widgets/base",
          "model_name": "LayoutModel",
          "model_module_version": "1.2.0",
          "state": {
            "_model_module": "@jupyter-widgets/base",
            "_model_module_version": "1.2.0",
            "_model_name": "LayoutModel",
            "_view_count": null,
            "_view_module": "@jupyter-widgets/base",
            "_view_module_version": "1.2.0",
            "_view_name": "LayoutView",
            "align_content": null,
            "align_items": null,
            "align_self": null,
            "border": null,
            "bottom": null,
            "display": null,
            "flex": null,
            "flex_flow": null,
            "grid_area": null,
            "grid_auto_columns": null,
            "grid_auto_flow": null,
            "grid_auto_rows": null,
            "grid_column": null,
            "grid_gap": null,
            "grid_row": null,
            "grid_template_areas": null,
            "grid_template_columns": null,
            "grid_template_rows": null,
            "height": null,
            "justify_content": null,
            "justify_items": null,
            "left": null,
            "margin": null,
            "max_height": null,
            "max_width": null,
            "min_height": null,
            "min_width": null,
            "object_fit": null,
            "object_position": null,
            "order": null,
            "overflow": null,
            "overflow_x": null,
            "overflow_y": null,
            "padding": null,
            "right": null,
            "top": null,
            "visibility": null,
            "width": null
          }
        },
        "c95228f756314775b9cfabedb81bb7cd": {
          "model_module": "@jupyter-widgets/controls",
          "model_name": "DescriptionStyleModel",
          "model_module_version": "1.5.0",
          "state": {
            "_model_module": "@jupyter-widgets/controls",
            "_model_module_version": "1.5.0",
            "_model_name": "DescriptionStyleModel",
            "_view_count": null,
            "_view_module": "@jupyter-widgets/base",
            "_view_module_version": "1.2.0",
            "_view_name": "StyleView",
            "description_width": ""
          }
        },
        "dbbcbf9840f9478f9ea5ed43a12ab607": {
          "model_module": "@jupyter-widgets/controls",
          "model_name": "HBoxModel",
          "model_module_version": "1.5.0",
          "state": {
            "_dom_classes": [],
            "_model_module": "@jupyter-widgets/controls",
            "_model_module_version": "1.5.0",
            "_model_name": "HBoxModel",
            "_view_count": null,
            "_view_module": "@jupyter-widgets/controls",
            "_view_module_version": "1.5.0",
            "_view_name": "HBoxView",
            "box_style": "",
            "children": [
              "IPY_MODEL_87b85fd420dd4f38b55574f4693f6547",
              "IPY_MODEL_2f047779979a4c51a45808ca5c20b084",
              "IPY_MODEL_f24e3c0e3bdf4f33b9da594e9860175f"
            ],
            "layout": "IPY_MODEL_b2def3787fee4fb1820ed2ecd110c3c2"
          }
        },
        "87b85fd420dd4f38b55574f4693f6547": {
          "model_module": "@jupyter-widgets/controls",
          "model_name": "HTMLModel",
          "model_module_version": "1.5.0",
          "state": {
            "_dom_classes": [],
            "_model_module": "@jupyter-widgets/controls",
            "_model_module_version": "1.5.0",
            "_model_name": "HTMLModel",
            "_view_count": null,
            "_view_module": "@jupyter-widgets/controls",
            "_view_module_version": "1.5.0",
            "_view_name": "HTMLView",
            "description": "",
            "description_tooltip": null,
            "layout": "IPY_MODEL_996598e770394e77a90c5fb86906d8ab",
            "placeholder": "​",
            "style": "IPY_MODEL_2029ab0da82b47408e79b8cc9745e255",
            "value": "100%"
          }
        },
        "2f047779979a4c51a45808ca5c20b084": {
          "model_module": "@jupyter-widgets/controls",
          "model_name": "FloatProgressModel",
          "model_module_version": "1.5.0",
          "state": {
            "_dom_classes": [],
            "_model_module": "@jupyter-widgets/controls",
            "_model_module_version": "1.5.0",
            "_model_name": "FloatProgressModel",
            "_view_count": null,
            "_view_module": "@jupyter-widgets/controls",
            "_view_module_version": "1.5.0",
            "_view_name": "ProgressView",
            "bar_style": "success",
            "description": "",
            "description_tooltip": null,
            "layout": "IPY_MODEL_6ffcd5e9aae34964b3bbc1ba9c56c2b9",
            "max": 59,
            "min": 0,
            "orientation": "horizontal",
            "style": "IPY_MODEL_9225a0cdef574bb48cfd92bfb776f924",
            "value": 59
          }
        },
        "f24e3c0e3bdf4f33b9da594e9860175f": {
          "model_module": "@jupyter-widgets/controls",
          "model_name": "HTMLModel",
          "model_module_version": "1.5.0",
          "state": {
            "_dom_classes": [],
            "_model_module": "@jupyter-widgets/controls",
            "_model_module_version": "1.5.0",
            "_model_name": "HTMLModel",
            "_view_count": null,
            "_view_module": "@jupyter-widgets/controls",
            "_view_module_version": "1.5.0",
            "_view_name": "HTMLView",
            "description": "",
            "description_tooltip": null,
            "layout": "IPY_MODEL_8d105f30410f4f4e8ba793bb5f9f6a65",
            "placeholder": "​",
            "style": "IPY_MODEL_fe380bad859b4fdbbd530e946d506848",
            "value": " 59/59 [00:27&lt;00:00,  2.76s/it]"
          }
        },
        "b2def3787fee4fb1820ed2ecd110c3c2": {
          "model_module": "@jupyter-widgets/base",
          "model_name": "LayoutModel",
          "model_module_version": "1.2.0",
          "state": {
            "_model_module": "@jupyter-widgets/base",
            "_model_module_version": "1.2.0",
            "_model_name": "LayoutModel",
            "_view_count": null,
            "_view_module": "@jupyter-widgets/base",
            "_view_module_version": "1.2.0",
            "_view_name": "LayoutView",
            "align_content": null,
            "align_items": null,
            "align_self": null,
            "border": null,
            "bottom": null,
            "display": null,
            "flex": null,
            "flex_flow": null,
            "grid_area": null,
            "grid_auto_columns": null,
            "grid_auto_flow": null,
            "grid_auto_rows": null,
            "grid_column": null,
            "grid_gap": null,
            "grid_row": null,
            "grid_template_areas": null,
            "grid_template_columns": null,
            "grid_template_rows": null,
            "height": null,
            "justify_content": null,
            "justify_items": null,
            "left": null,
            "margin": null,
            "max_height": null,
            "max_width": null,
            "min_height": null,
            "min_width": null,
            "object_fit": null,
            "object_position": null,
            "order": null,
            "overflow": null,
            "overflow_x": null,
            "overflow_y": null,
            "padding": null,
            "right": null,
            "top": null,
            "visibility": null,
            "width": null
          }
        },
        "996598e770394e77a90c5fb86906d8ab": {
          "model_module": "@jupyter-widgets/base",
          "model_name": "LayoutModel",
          "model_module_version": "1.2.0",
          "state": {
            "_model_module": "@jupyter-widgets/base",
            "_model_module_version": "1.2.0",
            "_model_name": "LayoutModel",
            "_view_count": null,
            "_view_module": "@jupyter-widgets/base",
            "_view_module_version": "1.2.0",
            "_view_name": "LayoutView",
            "align_content": null,
            "align_items": null,
            "align_self": null,
            "border": null,
            "bottom": null,
            "display": null,
            "flex": null,
            "flex_flow": null,
            "grid_area": null,
            "grid_auto_columns": null,
            "grid_auto_flow": null,
            "grid_auto_rows": null,
            "grid_column": null,
            "grid_gap": null,
            "grid_row": null,
            "grid_template_areas": null,
            "grid_template_columns": null,
            "grid_template_rows": null,
            "height": null,
            "justify_content": null,
            "justify_items": null,
            "left": null,
            "margin": null,
            "max_height": null,
            "max_width": null,
            "min_height": null,
            "min_width": null,
            "object_fit": null,
            "object_position": null,
            "order": null,
            "overflow": null,
            "overflow_x": null,
            "overflow_y": null,
            "padding": null,
            "right": null,
            "top": null,
            "visibility": null,
            "width": null
          }
        },
        "2029ab0da82b47408e79b8cc9745e255": {
          "model_module": "@jupyter-widgets/controls",
          "model_name": "DescriptionStyleModel",
          "model_module_version": "1.5.0",
          "state": {
            "_model_module": "@jupyter-widgets/controls",
            "_model_module_version": "1.5.0",
            "_model_name": "DescriptionStyleModel",
            "_view_count": null,
            "_view_module": "@jupyter-widgets/base",
            "_view_module_version": "1.2.0",
            "_view_name": "StyleView",
            "description_width": ""
          }
        },
        "6ffcd5e9aae34964b3bbc1ba9c56c2b9": {
          "model_module": "@jupyter-widgets/base",
          "model_name": "LayoutModel",
          "model_module_version": "1.2.0",
          "state": {
            "_model_module": "@jupyter-widgets/base",
            "_model_module_version": "1.2.0",
            "_model_name": "LayoutModel",
            "_view_count": null,
            "_view_module": "@jupyter-widgets/base",
            "_view_module_version": "1.2.0",
            "_view_name": "LayoutView",
            "align_content": null,
            "align_items": null,
            "align_self": null,
            "border": null,
            "bottom": null,
            "display": null,
            "flex": null,
            "flex_flow": null,
            "grid_area": null,
            "grid_auto_columns": null,
            "grid_auto_flow": null,
            "grid_auto_rows": null,
            "grid_column": null,
            "grid_gap": null,
            "grid_row": null,
            "grid_template_areas": null,
            "grid_template_columns": null,
            "grid_template_rows": null,
            "height": null,
            "justify_content": null,
            "justify_items": null,
            "left": null,
            "margin": null,
            "max_height": null,
            "max_width": null,
            "min_height": null,
            "min_width": null,
            "object_fit": null,
            "object_position": null,
            "order": null,
            "overflow": null,
            "overflow_x": null,
            "overflow_y": null,
            "padding": null,
            "right": null,
            "top": null,
            "visibility": null,
            "width": null
          }
        },
        "9225a0cdef574bb48cfd92bfb776f924": {
          "model_module": "@jupyter-widgets/controls",
          "model_name": "ProgressStyleModel",
          "model_module_version": "1.5.0",
          "state": {
            "_model_module": "@jupyter-widgets/controls",
            "_model_module_version": "1.5.0",
            "_model_name": "ProgressStyleModel",
            "_view_count": null,
            "_view_module": "@jupyter-widgets/base",
            "_view_module_version": "1.2.0",
            "_view_name": "StyleView",
            "bar_color": null,
            "description_width": ""
          }
        },
        "8d105f30410f4f4e8ba793bb5f9f6a65": {
          "model_module": "@jupyter-widgets/base",
          "model_name": "LayoutModel",
          "model_module_version": "1.2.0",
          "state": {
            "_model_module": "@jupyter-widgets/base",
            "_model_module_version": "1.2.0",
            "_model_name": "LayoutModel",
            "_view_count": null,
            "_view_module": "@jupyter-widgets/base",
            "_view_module_version": "1.2.0",
            "_view_name": "LayoutView",
            "align_content": null,
            "align_items": null,
            "align_self": null,
            "border": null,
            "bottom": null,
            "display": null,
            "flex": null,
            "flex_flow": null,
            "grid_area": null,
            "grid_auto_columns": null,
            "grid_auto_flow": null,
            "grid_auto_rows": null,
            "grid_column": null,
            "grid_gap": null,
            "grid_row": null,
            "grid_template_areas": null,
            "grid_template_columns": null,
            "grid_template_rows": null,
            "height": null,
            "justify_content": null,
            "justify_items": null,
            "left": null,
            "margin": null,
            "max_height": null,
            "max_width": null,
            "min_height": null,
            "min_width": null,
            "object_fit": null,
            "object_position": null,
            "order": null,
            "overflow": null,
            "overflow_x": null,
            "overflow_y": null,
            "padding": null,
            "right": null,
            "top": null,
            "visibility": null,
            "width": null
          }
        },
        "fe380bad859b4fdbbd530e946d506848": {
          "model_module": "@jupyter-widgets/controls",
          "model_name": "DescriptionStyleModel",
          "model_module_version": "1.5.0",
          "state": {
            "_model_module": "@jupyter-widgets/controls",
            "_model_module_version": "1.5.0",
            "_model_name": "DescriptionStyleModel",
            "_view_count": null,
            "_view_module": "@jupyter-widgets/base",
            "_view_module_version": "1.2.0",
            "_view_name": "StyleView",
            "description_width": ""
          }
        },
        "05085536c48b45bea274e1f872182c4f": {
          "model_module": "@jupyter-widgets/controls",
          "model_name": "HBoxModel",
          "model_module_version": "1.5.0",
          "state": {
            "_dom_classes": [],
            "_model_module": "@jupyter-widgets/controls",
            "_model_module_version": "1.5.0",
            "_model_name": "HBoxModel",
            "_view_count": null,
            "_view_module": "@jupyter-widgets/controls",
            "_view_module_version": "1.5.0",
            "_view_name": "HBoxView",
            "box_style": "",
            "children": [
              "IPY_MODEL_2271cc89c1e547ac964615aba644475b",
              "IPY_MODEL_c136626163f5498ba4297eaafd845023",
              "IPY_MODEL_cc893c36eba144cbb9777b4ea1b28d91"
            ],
            "layout": "IPY_MODEL_9fade856b7cf4c28b22cc2bb48440de0"
          }
        },
        "2271cc89c1e547ac964615aba644475b": {
          "model_module": "@jupyter-widgets/controls",
          "model_name": "HTMLModel",
          "model_module_version": "1.5.0",
          "state": {
            "_dom_classes": [],
            "_model_module": "@jupyter-widgets/controls",
            "_model_module_version": "1.5.0",
            "_model_name": "HTMLModel",
            "_view_count": null,
            "_view_module": "@jupyter-widgets/controls",
            "_view_module_version": "1.5.0",
            "_view_name": "HTMLView",
            "description": "",
            "description_tooltip": null,
            "layout": "IPY_MODEL_e35aa87248f840b487d34717665a6d2f",
            "placeholder": "​",
            "style": "IPY_MODEL_d5911595c5344388834b9033e9c9d134",
            "value": "100%"
          }
        },
        "c136626163f5498ba4297eaafd845023": {
          "model_module": "@jupyter-widgets/controls",
          "model_name": "FloatProgressModel",
          "model_module_version": "1.5.0",
          "state": {
            "_dom_classes": [],
            "_model_module": "@jupyter-widgets/controls",
            "_model_module_version": "1.5.0",
            "_model_name": "FloatProgressModel",
            "_view_count": null,
            "_view_module": "@jupyter-widgets/controls",
            "_view_module_version": "1.5.0",
            "_view_name": "ProgressView",
            "bar_style": "success",
            "description": "",
            "description_tooltip": null,
            "layout": "IPY_MODEL_9da09192e40e4b62a5443315c045cb2f",
            "max": 59,
            "min": 0,
            "orientation": "horizontal",
            "style": "IPY_MODEL_cfbb65c5e0cd4aa684c062d744cba30a",
            "value": 59
          }
        },
        "cc893c36eba144cbb9777b4ea1b28d91": {
          "model_module": "@jupyter-widgets/controls",
          "model_name": "HTMLModel",
          "model_module_version": "1.5.0",
          "state": {
            "_dom_classes": [],
            "_model_module": "@jupyter-widgets/controls",
            "_model_module_version": "1.5.0",
            "_model_name": "HTMLModel",
            "_view_count": null,
            "_view_module": "@jupyter-widgets/controls",
            "_view_module_version": "1.5.0",
            "_view_name": "HTMLView",
            "description": "",
            "description_tooltip": null,
            "layout": "IPY_MODEL_43c0022e9c4c4d5f9063397fb519ad24",
            "placeholder": "​",
            "style": "IPY_MODEL_cd34ab557d564c299f5ed2d012c35d0d",
            "value": " 59/59 [00:22&lt;00:00,  1.29it/s]"
          }
        },
        "9fade856b7cf4c28b22cc2bb48440de0": {
          "model_module": "@jupyter-widgets/base",
          "model_name": "LayoutModel",
          "model_module_version": "1.2.0",
          "state": {
            "_model_module": "@jupyter-widgets/base",
            "_model_module_version": "1.2.0",
            "_model_name": "LayoutModel",
            "_view_count": null,
            "_view_module": "@jupyter-widgets/base",
            "_view_module_version": "1.2.0",
            "_view_name": "LayoutView",
            "align_content": null,
            "align_items": null,
            "align_self": null,
            "border": null,
            "bottom": null,
            "display": null,
            "flex": null,
            "flex_flow": null,
            "grid_area": null,
            "grid_auto_columns": null,
            "grid_auto_flow": null,
            "grid_auto_rows": null,
            "grid_column": null,
            "grid_gap": null,
            "grid_row": null,
            "grid_template_areas": null,
            "grid_template_columns": null,
            "grid_template_rows": null,
            "height": null,
            "justify_content": null,
            "justify_items": null,
            "left": null,
            "margin": null,
            "max_height": null,
            "max_width": null,
            "min_height": null,
            "min_width": null,
            "object_fit": null,
            "object_position": null,
            "order": null,
            "overflow": null,
            "overflow_x": null,
            "overflow_y": null,
            "padding": null,
            "right": null,
            "top": null,
            "visibility": null,
            "width": null
          }
        },
        "e35aa87248f840b487d34717665a6d2f": {
          "model_module": "@jupyter-widgets/base",
          "model_name": "LayoutModel",
          "model_module_version": "1.2.0",
          "state": {
            "_model_module": "@jupyter-widgets/base",
            "_model_module_version": "1.2.0",
            "_model_name": "LayoutModel",
            "_view_count": null,
            "_view_module": "@jupyter-widgets/base",
            "_view_module_version": "1.2.0",
            "_view_name": "LayoutView",
            "align_content": null,
            "align_items": null,
            "align_self": null,
            "border": null,
            "bottom": null,
            "display": null,
            "flex": null,
            "flex_flow": null,
            "grid_area": null,
            "grid_auto_columns": null,
            "grid_auto_flow": null,
            "grid_auto_rows": null,
            "grid_column": null,
            "grid_gap": null,
            "grid_row": null,
            "grid_template_areas": null,
            "grid_template_columns": null,
            "grid_template_rows": null,
            "height": null,
            "justify_content": null,
            "justify_items": null,
            "left": null,
            "margin": null,
            "max_height": null,
            "max_width": null,
            "min_height": null,
            "min_width": null,
            "object_fit": null,
            "object_position": null,
            "order": null,
            "overflow": null,
            "overflow_x": null,
            "overflow_y": null,
            "padding": null,
            "right": null,
            "top": null,
            "visibility": null,
            "width": null
          }
        },
        "d5911595c5344388834b9033e9c9d134": {
          "model_module": "@jupyter-widgets/controls",
          "model_name": "DescriptionStyleModel",
          "model_module_version": "1.5.0",
          "state": {
            "_model_module": "@jupyter-widgets/controls",
            "_model_module_version": "1.5.0",
            "_model_name": "DescriptionStyleModel",
            "_view_count": null,
            "_view_module": "@jupyter-widgets/base",
            "_view_module_version": "1.2.0",
            "_view_name": "StyleView",
            "description_width": ""
          }
        },
        "9da09192e40e4b62a5443315c045cb2f": {
          "model_module": "@jupyter-widgets/base",
          "model_name": "LayoutModel",
          "model_module_version": "1.2.0",
          "state": {
            "_model_module": "@jupyter-widgets/base",
            "_model_module_version": "1.2.0",
            "_model_name": "LayoutModel",
            "_view_count": null,
            "_view_module": "@jupyter-widgets/base",
            "_view_module_version": "1.2.0",
            "_view_name": "LayoutView",
            "align_content": null,
            "align_items": null,
            "align_self": null,
            "border": null,
            "bottom": null,
            "display": null,
            "flex": null,
            "flex_flow": null,
            "grid_area": null,
            "grid_auto_columns": null,
            "grid_auto_flow": null,
            "grid_auto_rows": null,
            "grid_column": null,
            "grid_gap": null,
            "grid_row": null,
            "grid_template_areas": null,
            "grid_template_columns": null,
            "grid_template_rows": null,
            "height": null,
            "justify_content": null,
            "justify_items": null,
            "left": null,
            "margin": null,
            "max_height": null,
            "max_width": null,
            "min_height": null,
            "min_width": null,
            "object_fit": null,
            "object_position": null,
            "order": null,
            "overflow": null,
            "overflow_x": null,
            "overflow_y": null,
            "padding": null,
            "right": null,
            "top": null,
            "visibility": null,
            "width": null
          }
        },
        "cfbb65c5e0cd4aa684c062d744cba30a": {
          "model_module": "@jupyter-widgets/controls",
          "model_name": "ProgressStyleModel",
          "model_module_version": "1.5.0",
          "state": {
            "_model_module": "@jupyter-widgets/controls",
            "_model_module_version": "1.5.0",
            "_model_name": "ProgressStyleModel",
            "_view_count": null,
            "_view_module": "@jupyter-widgets/base",
            "_view_module_version": "1.2.0",
            "_view_name": "StyleView",
            "bar_color": null,
            "description_width": ""
          }
        },
        "43c0022e9c4c4d5f9063397fb519ad24": {
          "model_module": "@jupyter-widgets/base",
          "model_name": "LayoutModel",
          "model_module_version": "1.2.0",
          "state": {
            "_model_module": "@jupyter-widgets/base",
            "_model_module_version": "1.2.0",
            "_model_name": "LayoutModel",
            "_view_count": null,
            "_view_module": "@jupyter-widgets/base",
            "_view_module_version": "1.2.0",
            "_view_name": "LayoutView",
            "align_content": null,
            "align_items": null,
            "align_self": null,
            "border": null,
            "bottom": null,
            "display": null,
            "flex": null,
            "flex_flow": null,
            "grid_area": null,
            "grid_auto_columns": null,
            "grid_auto_flow": null,
            "grid_auto_rows": null,
            "grid_column": null,
            "grid_gap": null,
            "grid_row": null,
            "grid_template_areas": null,
            "grid_template_columns": null,
            "grid_template_rows": null,
            "height": null,
            "justify_content": null,
            "justify_items": null,
            "left": null,
            "margin": null,
            "max_height": null,
            "max_width": null,
            "min_height": null,
            "min_width": null,
            "object_fit": null,
            "object_position": null,
            "order": null,
            "overflow": null,
            "overflow_x": null,
            "overflow_y": null,
            "padding": null,
            "right": null,
            "top": null,
            "visibility": null,
            "width": null
          }
        },
        "cd34ab557d564c299f5ed2d012c35d0d": {
          "model_module": "@jupyter-widgets/controls",
          "model_name": "DescriptionStyleModel",
          "model_module_version": "1.5.0",
          "state": {
            "_model_module": "@jupyter-widgets/controls",
            "_model_module_version": "1.5.0",
            "_model_name": "DescriptionStyleModel",
            "_view_count": null,
            "_view_module": "@jupyter-widgets/base",
            "_view_module_version": "1.2.0",
            "_view_name": "StyleView",
            "description_width": ""
          }
        },
        "4a84fb3c7313483f9f5a03ee2bf58639": {
          "model_module": "@jupyter-widgets/controls",
          "model_name": "HBoxModel",
          "model_module_version": "1.5.0",
          "state": {
            "_dom_classes": [],
            "_model_module": "@jupyter-widgets/controls",
            "_model_module_version": "1.5.0",
            "_model_name": "HBoxModel",
            "_view_count": null,
            "_view_module": "@jupyter-widgets/controls",
            "_view_module_version": "1.5.0",
            "_view_name": "HBoxView",
            "box_style": "",
            "children": [
              "IPY_MODEL_f33c67426e6646a39a34b92d27317c83",
              "IPY_MODEL_81c14d2ea0ad44abb21e12b7a702b069",
              "IPY_MODEL_16554abb780740dd946c26a78266eb61"
            ],
            "layout": "IPY_MODEL_324c30b754bb4e9586b28f271f5bd598"
          }
        },
        "f33c67426e6646a39a34b92d27317c83": {
          "model_module": "@jupyter-widgets/controls",
          "model_name": "HTMLModel",
          "model_module_version": "1.5.0",
          "state": {
            "_dom_classes": [],
            "_model_module": "@jupyter-widgets/controls",
            "_model_module_version": "1.5.0",
            "_model_name": "HTMLModel",
            "_view_count": null,
            "_view_module": "@jupyter-widgets/controls",
            "_view_module_version": "1.5.0",
            "_view_name": "HTMLView",
            "description": "",
            "description_tooltip": null,
            "layout": "IPY_MODEL_0129d77563304a669b33698f07b27879",
            "placeholder": "​",
            "style": "IPY_MODEL_b8bc997f7e024a84bdbf1df13fae18ec",
            "value": "100%"
          }
        },
        "81c14d2ea0ad44abb21e12b7a702b069": {
          "model_module": "@jupyter-widgets/controls",
          "model_name": "FloatProgressModel",
          "model_module_version": "1.5.0",
          "state": {
            "_dom_classes": [],
            "_model_module": "@jupyter-widgets/controls",
            "_model_module_version": "1.5.0",
            "_model_name": "FloatProgressModel",
            "_view_count": null,
            "_view_module": "@jupyter-widgets/controls",
            "_view_module_version": "1.5.0",
            "_view_name": "ProgressView",
            "bar_style": "success",
            "description": "",
            "description_tooltip": null,
            "layout": "IPY_MODEL_0af306de3b2b404ab1a79ad217b86712",
            "max": 59,
            "min": 0,
            "orientation": "horizontal",
            "style": "IPY_MODEL_4dbfc1c406904196867034e3936fb0e1",
            "value": 59
          }
        },
        "16554abb780740dd946c26a78266eb61": {
          "model_module": "@jupyter-widgets/controls",
          "model_name": "HTMLModel",
          "model_module_version": "1.5.0",
          "state": {
            "_dom_classes": [],
            "_model_module": "@jupyter-widgets/controls",
            "_model_module_version": "1.5.0",
            "_model_name": "HTMLModel",
            "_view_count": null,
            "_view_module": "@jupyter-widgets/controls",
            "_view_module_version": "1.5.0",
            "_view_name": "HTMLView",
            "description": "",
            "description_tooltip": null,
            "layout": "IPY_MODEL_0b5d322986a54424824ced1f57a27bf4",
            "placeholder": "​",
            "style": "IPY_MODEL_7c76c1e1081a405c99f0bcc7ceaf7393",
            "value": " 59/59 [00:24&lt;00:00,  1.76s/it]"
          }
        },
        "324c30b754bb4e9586b28f271f5bd598": {
          "model_module": "@jupyter-widgets/base",
          "model_name": "LayoutModel",
          "model_module_version": "1.2.0",
          "state": {
            "_model_module": "@jupyter-widgets/base",
            "_model_module_version": "1.2.0",
            "_model_name": "LayoutModel",
            "_view_count": null,
            "_view_module": "@jupyter-widgets/base",
            "_view_module_version": "1.2.0",
            "_view_name": "LayoutView",
            "align_content": null,
            "align_items": null,
            "align_self": null,
            "border": null,
            "bottom": null,
            "display": null,
            "flex": null,
            "flex_flow": null,
            "grid_area": null,
            "grid_auto_columns": null,
            "grid_auto_flow": null,
            "grid_auto_rows": null,
            "grid_column": null,
            "grid_gap": null,
            "grid_row": null,
            "grid_template_areas": null,
            "grid_template_columns": null,
            "grid_template_rows": null,
            "height": null,
            "justify_content": null,
            "justify_items": null,
            "left": null,
            "margin": null,
            "max_height": null,
            "max_width": null,
            "min_height": null,
            "min_width": null,
            "object_fit": null,
            "object_position": null,
            "order": null,
            "overflow": null,
            "overflow_x": null,
            "overflow_y": null,
            "padding": null,
            "right": null,
            "top": null,
            "visibility": null,
            "width": null
          }
        },
        "0129d77563304a669b33698f07b27879": {
          "model_module": "@jupyter-widgets/base",
          "model_name": "LayoutModel",
          "model_module_version": "1.2.0",
          "state": {
            "_model_module": "@jupyter-widgets/base",
            "_model_module_version": "1.2.0",
            "_model_name": "LayoutModel",
            "_view_count": null,
            "_view_module": "@jupyter-widgets/base",
            "_view_module_version": "1.2.0",
            "_view_name": "LayoutView",
            "align_content": null,
            "align_items": null,
            "align_self": null,
            "border": null,
            "bottom": null,
            "display": null,
            "flex": null,
            "flex_flow": null,
            "grid_area": null,
            "grid_auto_columns": null,
            "grid_auto_flow": null,
            "grid_auto_rows": null,
            "grid_column": null,
            "grid_gap": null,
            "grid_row": null,
            "grid_template_areas": null,
            "grid_template_columns": null,
            "grid_template_rows": null,
            "height": null,
            "justify_content": null,
            "justify_items": null,
            "left": null,
            "margin": null,
            "max_height": null,
            "max_width": null,
            "min_height": null,
            "min_width": null,
            "object_fit": null,
            "object_position": null,
            "order": null,
            "overflow": null,
            "overflow_x": null,
            "overflow_y": null,
            "padding": null,
            "right": null,
            "top": null,
            "visibility": null,
            "width": null
          }
        },
        "b8bc997f7e024a84bdbf1df13fae18ec": {
          "model_module": "@jupyter-widgets/controls",
          "model_name": "DescriptionStyleModel",
          "model_module_version": "1.5.0",
          "state": {
            "_model_module": "@jupyter-widgets/controls",
            "_model_module_version": "1.5.0",
            "_model_name": "DescriptionStyleModel",
            "_view_count": null,
            "_view_module": "@jupyter-widgets/base",
            "_view_module_version": "1.2.0",
            "_view_name": "StyleView",
            "description_width": ""
          }
        },
        "0af306de3b2b404ab1a79ad217b86712": {
          "model_module": "@jupyter-widgets/base",
          "model_name": "LayoutModel",
          "model_module_version": "1.2.0",
          "state": {
            "_model_module": "@jupyter-widgets/base",
            "_model_module_version": "1.2.0",
            "_model_name": "LayoutModel",
            "_view_count": null,
            "_view_module": "@jupyter-widgets/base",
            "_view_module_version": "1.2.0",
            "_view_name": "LayoutView",
            "align_content": null,
            "align_items": null,
            "align_self": null,
            "border": null,
            "bottom": null,
            "display": null,
            "flex": null,
            "flex_flow": null,
            "grid_area": null,
            "grid_auto_columns": null,
            "grid_auto_flow": null,
            "grid_auto_rows": null,
            "grid_column": null,
            "grid_gap": null,
            "grid_row": null,
            "grid_template_areas": null,
            "grid_template_columns": null,
            "grid_template_rows": null,
            "height": null,
            "justify_content": null,
            "justify_items": null,
            "left": null,
            "margin": null,
            "max_height": null,
            "max_width": null,
            "min_height": null,
            "min_width": null,
            "object_fit": null,
            "object_position": null,
            "order": null,
            "overflow": null,
            "overflow_x": null,
            "overflow_y": null,
            "padding": null,
            "right": null,
            "top": null,
            "visibility": null,
            "width": null
          }
        },
        "4dbfc1c406904196867034e3936fb0e1": {
          "model_module": "@jupyter-widgets/controls",
          "model_name": "ProgressStyleModel",
          "model_module_version": "1.5.0",
          "state": {
            "_model_module": "@jupyter-widgets/controls",
            "_model_module_version": "1.5.0",
            "_model_name": "ProgressStyleModel",
            "_view_count": null,
            "_view_module": "@jupyter-widgets/base",
            "_view_module_version": "1.2.0",
            "_view_name": "StyleView",
            "bar_color": null,
            "description_width": ""
          }
        },
        "0b5d322986a54424824ced1f57a27bf4": {
          "model_module": "@jupyter-widgets/base",
          "model_name": "LayoutModel",
          "model_module_version": "1.2.0",
          "state": {
            "_model_module": "@jupyter-widgets/base",
            "_model_module_version": "1.2.0",
            "_model_name": "LayoutModel",
            "_view_count": null,
            "_view_module": "@jupyter-widgets/base",
            "_view_module_version": "1.2.0",
            "_view_name": "LayoutView",
            "align_content": null,
            "align_items": null,
            "align_self": null,
            "border": null,
            "bottom": null,
            "display": null,
            "flex": null,
            "flex_flow": null,
            "grid_area": null,
            "grid_auto_columns": null,
            "grid_auto_flow": null,
            "grid_auto_rows": null,
            "grid_column": null,
            "grid_gap": null,
            "grid_row": null,
            "grid_template_areas": null,
            "grid_template_columns": null,
            "grid_template_rows": null,
            "height": null,
            "justify_content": null,
            "justify_items": null,
            "left": null,
            "margin": null,
            "max_height": null,
            "max_width": null,
            "min_height": null,
            "min_width": null,
            "object_fit": null,
            "object_position": null,
            "order": null,
            "overflow": null,
            "overflow_x": null,
            "overflow_y": null,
            "padding": null,
            "right": null,
            "top": null,
            "visibility": null,
            "width": null
          }
        },
        "7c76c1e1081a405c99f0bcc7ceaf7393": {
          "model_module": "@jupyter-widgets/controls",
          "model_name": "DescriptionStyleModel",
          "model_module_version": "1.5.0",
          "state": {
            "_model_module": "@jupyter-widgets/controls",
            "_model_module_version": "1.5.0",
            "_model_name": "DescriptionStyleModel",
            "_view_count": null,
            "_view_module": "@jupyter-widgets/base",
            "_view_module_version": "1.2.0",
            "_view_name": "StyleView",
            "description_width": ""
          }
        },
        "8ce82bb5491d4bfd9c9d95ac51f0c1d6": {
          "model_module": "@jupyter-widgets/controls",
          "model_name": "HBoxModel",
          "model_module_version": "1.5.0",
          "state": {
            "_dom_classes": [],
            "_model_module": "@jupyter-widgets/controls",
            "_model_module_version": "1.5.0",
            "_model_name": "HBoxModel",
            "_view_count": null,
            "_view_module": "@jupyter-widgets/controls",
            "_view_module_version": "1.5.0",
            "_view_name": "HBoxView",
            "box_style": "",
            "children": [
              "IPY_MODEL_eaa7be936690470d88ab4b8255e33567",
              "IPY_MODEL_a5f50745f22a4609aeb9c7376da7be0b",
              "IPY_MODEL_1702702d17e8467db58227de3c105f79"
            ],
            "layout": "IPY_MODEL_a579246f505f4bff98997d2bb27ec25f"
          }
        },
        "eaa7be936690470d88ab4b8255e33567": {
          "model_module": "@jupyter-widgets/controls",
          "model_name": "HTMLModel",
          "model_module_version": "1.5.0",
          "state": {
            "_dom_classes": [],
            "_model_module": "@jupyter-widgets/controls",
            "_model_module_version": "1.5.0",
            "_model_name": "HTMLModel",
            "_view_count": null,
            "_view_module": "@jupyter-widgets/controls",
            "_view_module_version": "1.5.0",
            "_view_name": "HTMLView",
            "description": "",
            "description_tooltip": null,
            "layout": "IPY_MODEL_764f3d51d2b24ae2ac43513d0a0a7544",
            "placeholder": "​",
            "style": "IPY_MODEL_3db50a3676f54248a309ae90ae35cc07",
            "value": "100%"
          }
        },
        "a5f50745f22a4609aeb9c7376da7be0b": {
          "model_module": "@jupyter-widgets/controls",
          "model_name": "FloatProgressModel",
          "model_module_version": "1.5.0",
          "state": {
            "_dom_classes": [],
            "_model_module": "@jupyter-widgets/controls",
            "_model_module_version": "1.5.0",
            "_model_name": "FloatProgressModel",
            "_view_count": null,
            "_view_module": "@jupyter-widgets/controls",
            "_view_module_version": "1.5.0",
            "_view_name": "ProgressView",
            "bar_style": "success",
            "description": "",
            "description_tooltip": null,
            "layout": "IPY_MODEL_08e5a044da6d462ab3ccdaed5b796117",
            "max": 59,
            "min": 0,
            "orientation": "horizontal",
            "style": "IPY_MODEL_7ec1eb3d160542299c43ec0862b54c70",
            "value": 59
          }
        },
        "1702702d17e8467db58227de3c105f79": {
          "model_module": "@jupyter-widgets/controls",
          "model_name": "HTMLModel",
          "model_module_version": "1.5.0",
          "state": {
            "_dom_classes": [],
            "_model_module": "@jupyter-widgets/controls",
            "_model_module_version": "1.5.0",
            "_model_name": "HTMLModel",
            "_view_count": null,
            "_view_module": "@jupyter-widgets/controls",
            "_view_module_version": "1.5.0",
            "_view_name": "HTMLView",
            "description": "",
            "description_tooltip": null,
            "layout": "IPY_MODEL_116c32d6587d495ebc96f3e6f9322bc5",
            "placeholder": "​",
            "style": "IPY_MODEL_887bf979c65d41438a7e351d5e3fdc0e",
            "value": " 59/59 [00:25&lt;00:00,  1.83s/it]"
          }
        },
        "a579246f505f4bff98997d2bb27ec25f": {
          "model_module": "@jupyter-widgets/base",
          "model_name": "LayoutModel",
          "model_module_version": "1.2.0",
          "state": {
            "_model_module": "@jupyter-widgets/base",
            "_model_module_version": "1.2.0",
            "_model_name": "LayoutModel",
            "_view_count": null,
            "_view_module": "@jupyter-widgets/base",
            "_view_module_version": "1.2.0",
            "_view_name": "LayoutView",
            "align_content": null,
            "align_items": null,
            "align_self": null,
            "border": null,
            "bottom": null,
            "display": null,
            "flex": null,
            "flex_flow": null,
            "grid_area": null,
            "grid_auto_columns": null,
            "grid_auto_flow": null,
            "grid_auto_rows": null,
            "grid_column": null,
            "grid_gap": null,
            "grid_row": null,
            "grid_template_areas": null,
            "grid_template_columns": null,
            "grid_template_rows": null,
            "height": null,
            "justify_content": null,
            "justify_items": null,
            "left": null,
            "margin": null,
            "max_height": null,
            "max_width": null,
            "min_height": null,
            "min_width": null,
            "object_fit": null,
            "object_position": null,
            "order": null,
            "overflow": null,
            "overflow_x": null,
            "overflow_y": null,
            "padding": null,
            "right": null,
            "top": null,
            "visibility": null,
            "width": null
          }
        },
        "764f3d51d2b24ae2ac43513d0a0a7544": {
          "model_module": "@jupyter-widgets/base",
          "model_name": "LayoutModel",
          "model_module_version": "1.2.0",
          "state": {
            "_model_module": "@jupyter-widgets/base",
            "_model_module_version": "1.2.0",
            "_model_name": "LayoutModel",
            "_view_count": null,
            "_view_module": "@jupyter-widgets/base",
            "_view_module_version": "1.2.0",
            "_view_name": "LayoutView",
            "align_content": null,
            "align_items": null,
            "align_self": null,
            "border": null,
            "bottom": null,
            "display": null,
            "flex": null,
            "flex_flow": null,
            "grid_area": null,
            "grid_auto_columns": null,
            "grid_auto_flow": null,
            "grid_auto_rows": null,
            "grid_column": null,
            "grid_gap": null,
            "grid_row": null,
            "grid_template_areas": null,
            "grid_template_columns": null,
            "grid_template_rows": null,
            "height": null,
            "justify_content": null,
            "justify_items": null,
            "left": null,
            "margin": null,
            "max_height": null,
            "max_width": null,
            "min_height": null,
            "min_width": null,
            "object_fit": null,
            "object_position": null,
            "order": null,
            "overflow": null,
            "overflow_x": null,
            "overflow_y": null,
            "padding": null,
            "right": null,
            "top": null,
            "visibility": null,
            "width": null
          }
        },
        "3db50a3676f54248a309ae90ae35cc07": {
          "model_module": "@jupyter-widgets/controls",
          "model_name": "DescriptionStyleModel",
          "model_module_version": "1.5.0",
          "state": {
            "_model_module": "@jupyter-widgets/controls",
            "_model_module_version": "1.5.0",
            "_model_name": "DescriptionStyleModel",
            "_view_count": null,
            "_view_module": "@jupyter-widgets/base",
            "_view_module_version": "1.2.0",
            "_view_name": "StyleView",
            "description_width": ""
          }
        },
        "08e5a044da6d462ab3ccdaed5b796117": {
          "model_module": "@jupyter-widgets/base",
          "model_name": "LayoutModel",
          "model_module_version": "1.2.0",
          "state": {
            "_model_module": "@jupyter-widgets/base",
            "_model_module_version": "1.2.0",
            "_model_name": "LayoutModel",
            "_view_count": null,
            "_view_module": "@jupyter-widgets/base",
            "_view_module_version": "1.2.0",
            "_view_name": "LayoutView",
            "align_content": null,
            "align_items": null,
            "align_self": null,
            "border": null,
            "bottom": null,
            "display": null,
            "flex": null,
            "flex_flow": null,
            "grid_area": null,
            "grid_auto_columns": null,
            "grid_auto_flow": null,
            "grid_auto_rows": null,
            "grid_column": null,
            "grid_gap": null,
            "grid_row": null,
            "grid_template_areas": null,
            "grid_template_columns": null,
            "grid_template_rows": null,
            "height": null,
            "justify_content": null,
            "justify_items": null,
            "left": null,
            "margin": null,
            "max_height": null,
            "max_width": null,
            "min_height": null,
            "min_width": null,
            "object_fit": null,
            "object_position": null,
            "order": null,
            "overflow": null,
            "overflow_x": null,
            "overflow_y": null,
            "padding": null,
            "right": null,
            "top": null,
            "visibility": null,
            "width": null
          }
        },
        "7ec1eb3d160542299c43ec0862b54c70": {
          "model_module": "@jupyter-widgets/controls",
          "model_name": "ProgressStyleModel",
          "model_module_version": "1.5.0",
          "state": {
            "_model_module": "@jupyter-widgets/controls",
            "_model_module_version": "1.5.0",
            "_model_name": "ProgressStyleModel",
            "_view_count": null,
            "_view_module": "@jupyter-widgets/base",
            "_view_module_version": "1.2.0",
            "_view_name": "StyleView",
            "bar_color": null,
            "description_width": ""
          }
        },
        "116c32d6587d495ebc96f3e6f9322bc5": {
          "model_module": "@jupyter-widgets/base",
          "model_name": "LayoutModel",
          "model_module_version": "1.2.0",
          "state": {
            "_model_module": "@jupyter-widgets/base",
            "_model_module_version": "1.2.0",
            "_model_name": "LayoutModel",
            "_view_count": null,
            "_view_module": "@jupyter-widgets/base",
            "_view_module_version": "1.2.0",
            "_view_name": "LayoutView",
            "align_content": null,
            "align_items": null,
            "align_self": null,
            "border": null,
            "bottom": null,
            "display": null,
            "flex": null,
            "flex_flow": null,
            "grid_area": null,
            "grid_auto_columns": null,
            "grid_auto_flow": null,
            "grid_auto_rows": null,
            "grid_column": null,
            "grid_gap": null,
            "grid_row": null,
            "grid_template_areas": null,
            "grid_template_columns": null,
            "grid_template_rows": null,
            "height": null,
            "justify_content": null,
            "justify_items": null,
            "left": null,
            "margin": null,
            "max_height": null,
            "max_width": null,
            "min_height": null,
            "min_width": null,
            "object_fit": null,
            "object_position": null,
            "order": null,
            "overflow": null,
            "overflow_x": null,
            "overflow_y": null,
            "padding": null,
            "right": null,
            "top": null,
            "visibility": null,
            "width": null
          }
        },
        "887bf979c65d41438a7e351d5e3fdc0e": {
          "model_module": "@jupyter-widgets/controls",
          "model_name": "DescriptionStyleModel",
          "model_module_version": "1.5.0",
          "state": {
            "_model_module": "@jupyter-widgets/controls",
            "_model_module_version": "1.5.0",
            "_model_name": "DescriptionStyleModel",
            "_view_count": null,
            "_view_module": "@jupyter-widgets/base",
            "_view_module_version": "1.2.0",
            "_view_name": "StyleView",
            "description_width": ""
          }
        },
        "c87836eb6eae4044b165515aaa82046f": {
          "model_module": "@jupyter-widgets/controls",
          "model_name": "HBoxModel",
          "model_module_version": "1.5.0",
          "state": {
            "_dom_classes": [],
            "_model_module": "@jupyter-widgets/controls",
            "_model_module_version": "1.5.0",
            "_model_name": "HBoxModel",
            "_view_count": null,
            "_view_module": "@jupyter-widgets/controls",
            "_view_module_version": "1.5.0",
            "_view_name": "HBoxView",
            "box_style": "",
            "children": [
              "IPY_MODEL_31c0406a089b47a9bda79b24c58055ca",
              "IPY_MODEL_363425b30c904653a477983624d40b68",
              "IPY_MODEL_f028563b223845ea919a634d2e4dfafc"
            ],
            "layout": "IPY_MODEL_655a064cf98244d0884bc19245826c47"
          }
        },
        "31c0406a089b47a9bda79b24c58055ca": {
          "model_module": "@jupyter-widgets/controls",
          "model_name": "HTMLModel",
          "model_module_version": "1.5.0",
          "state": {
            "_dom_classes": [],
            "_model_module": "@jupyter-widgets/controls",
            "_model_module_version": "1.5.0",
            "_model_name": "HTMLModel",
            "_view_count": null,
            "_view_module": "@jupyter-widgets/controls",
            "_view_module_version": "1.5.0",
            "_view_name": "HTMLView",
            "description": "",
            "description_tooltip": null,
            "layout": "IPY_MODEL_1f7731be8c9b45b3954f33a64321a3db",
            "placeholder": "​",
            "style": "IPY_MODEL_cdc4f70cc97d4959ab613f1d6b400b66",
            "value": "100%"
          }
        },
        "363425b30c904653a477983624d40b68": {
          "model_module": "@jupyter-widgets/controls",
          "model_name": "FloatProgressModel",
          "model_module_version": "1.5.0",
          "state": {
            "_dom_classes": [],
            "_model_module": "@jupyter-widgets/controls",
            "_model_module_version": "1.5.0",
            "_model_name": "FloatProgressModel",
            "_view_count": null,
            "_view_module": "@jupyter-widgets/controls",
            "_view_module_version": "1.5.0",
            "_view_name": "ProgressView",
            "bar_style": "success",
            "description": "",
            "description_tooltip": null,
            "layout": "IPY_MODEL_1bf0b10490dd4f3cb11682343d78ef9e",
            "max": 59,
            "min": 0,
            "orientation": "horizontal",
            "style": "IPY_MODEL_c343ba5ac67e41e3a3c267837bd11124",
            "value": 59
          }
        },
        "f028563b223845ea919a634d2e4dfafc": {
          "model_module": "@jupyter-widgets/controls",
          "model_name": "HTMLModel",
          "model_module_version": "1.5.0",
          "state": {
            "_dom_classes": [],
            "_model_module": "@jupyter-widgets/controls",
            "_model_module_version": "1.5.0",
            "_model_name": "HTMLModel",
            "_view_count": null,
            "_view_module": "@jupyter-widgets/controls",
            "_view_module_version": "1.5.0",
            "_view_name": "HTMLView",
            "description": "",
            "description_tooltip": null,
            "layout": "IPY_MODEL_a4d64d8cb1934eafa766e7eb3063802b",
            "placeholder": "​",
            "style": "IPY_MODEL_fa8979c180774053a6f41c552eb67746",
            "value": " 59/59 [00:28&lt;00:00,  1.95s/it]"
          }
        },
        "655a064cf98244d0884bc19245826c47": {
          "model_module": "@jupyter-widgets/base",
          "model_name": "LayoutModel",
          "model_module_version": "1.2.0",
          "state": {
            "_model_module": "@jupyter-widgets/base",
            "_model_module_version": "1.2.0",
            "_model_name": "LayoutModel",
            "_view_count": null,
            "_view_module": "@jupyter-widgets/base",
            "_view_module_version": "1.2.0",
            "_view_name": "LayoutView",
            "align_content": null,
            "align_items": null,
            "align_self": null,
            "border": null,
            "bottom": null,
            "display": null,
            "flex": null,
            "flex_flow": null,
            "grid_area": null,
            "grid_auto_columns": null,
            "grid_auto_flow": null,
            "grid_auto_rows": null,
            "grid_column": null,
            "grid_gap": null,
            "grid_row": null,
            "grid_template_areas": null,
            "grid_template_columns": null,
            "grid_template_rows": null,
            "height": null,
            "justify_content": null,
            "justify_items": null,
            "left": null,
            "margin": null,
            "max_height": null,
            "max_width": null,
            "min_height": null,
            "min_width": null,
            "object_fit": null,
            "object_position": null,
            "order": null,
            "overflow": null,
            "overflow_x": null,
            "overflow_y": null,
            "padding": null,
            "right": null,
            "top": null,
            "visibility": null,
            "width": null
          }
        },
        "1f7731be8c9b45b3954f33a64321a3db": {
          "model_module": "@jupyter-widgets/base",
          "model_name": "LayoutModel",
          "model_module_version": "1.2.0",
          "state": {
            "_model_module": "@jupyter-widgets/base",
            "_model_module_version": "1.2.0",
            "_model_name": "LayoutModel",
            "_view_count": null,
            "_view_module": "@jupyter-widgets/base",
            "_view_module_version": "1.2.0",
            "_view_name": "LayoutView",
            "align_content": null,
            "align_items": null,
            "align_self": null,
            "border": null,
            "bottom": null,
            "display": null,
            "flex": null,
            "flex_flow": null,
            "grid_area": null,
            "grid_auto_columns": null,
            "grid_auto_flow": null,
            "grid_auto_rows": null,
            "grid_column": null,
            "grid_gap": null,
            "grid_row": null,
            "grid_template_areas": null,
            "grid_template_columns": null,
            "grid_template_rows": null,
            "height": null,
            "justify_content": null,
            "justify_items": null,
            "left": null,
            "margin": null,
            "max_height": null,
            "max_width": null,
            "min_height": null,
            "min_width": null,
            "object_fit": null,
            "object_position": null,
            "order": null,
            "overflow": null,
            "overflow_x": null,
            "overflow_y": null,
            "padding": null,
            "right": null,
            "top": null,
            "visibility": null,
            "width": null
          }
        },
        "cdc4f70cc97d4959ab613f1d6b400b66": {
          "model_module": "@jupyter-widgets/controls",
          "model_name": "DescriptionStyleModel",
          "model_module_version": "1.5.0",
          "state": {
            "_model_module": "@jupyter-widgets/controls",
            "_model_module_version": "1.5.0",
            "_model_name": "DescriptionStyleModel",
            "_view_count": null,
            "_view_module": "@jupyter-widgets/base",
            "_view_module_version": "1.2.0",
            "_view_name": "StyleView",
            "description_width": ""
          }
        },
        "1bf0b10490dd4f3cb11682343d78ef9e": {
          "model_module": "@jupyter-widgets/base",
          "model_name": "LayoutModel",
          "model_module_version": "1.2.0",
          "state": {
            "_model_module": "@jupyter-widgets/base",
            "_model_module_version": "1.2.0",
            "_model_name": "LayoutModel",
            "_view_count": null,
            "_view_module": "@jupyter-widgets/base",
            "_view_module_version": "1.2.0",
            "_view_name": "LayoutView",
            "align_content": null,
            "align_items": null,
            "align_self": null,
            "border": null,
            "bottom": null,
            "display": null,
            "flex": null,
            "flex_flow": null,
            "grid_area": null,
            "grid_auto_columns": null,
            "grid_auto_flow": null,
            "grid_auto_rows": null,
            "grid_column": null,
            "grid_gap": null,
            "grid_row": null,
            "grid_template_areas": null,
            "grid_template_columns": null,
            "grid_template_rows": null,
            "height": null,
            "justify_content": null,
            "justify_items": null,
            "left": null,
            "margin": null,
            "max_height": null,
            "max_width": null,
            "min_height": null,
            "min_width": null,
            "object_fit": null,
            "object_position": null,
            "order": null,
            "overflow": null,
            "overflow_x": null,
            "overflow_y": null,
            "padding": null,
            "right": null,
            "top": null,
            "visibility": null,
            "width": null
          }
        },
        "c343ba5ac67e41e3a3c267837bd11124": {
          "model_module": "@jupyter-widgets/controls",
          "model_name": "ProgressStyleModel",
          "model_module_version": "1.5.0",
          "state": {
            "_model_module": "@jupyter-widgets/controls",
            "_model_module_version": "1.5.0",
            "_model_name": "ProgressStyleModel",
            "_view_count": null,
            "_view_module": "@jupyter-widgets/base",
            "_view_module_version": "1.2.0",
            "_view_name": "StyleView",
            "bar_color": null,
            "description_width": ""
          }
        },
        "a4d64d8cb1934eafa766e7eb3063802b": {
          "model_module": "@jupyter-widgets/base",
          "model_name": "LayoutModel",
          "model_module_version": "1.2.0",
          "state": {
            "_model_module": "@jupyter-widgets/base",
            "_model_module_version": "1.2.0",
            "_model_name": "LayoutModel",
            "_view_count": null,
            "_view_module": "@jupyter-widgets/base",
            "_view_module_version": "1.2.0",
            "_view_name": "LayoutView",
            "align_content": null,
            "align_items": null,
            "align_self": null,
            "border": null,
            "bottom": null,
            "display": null,
            "flex": null,
            "flex_flow": null,
            "grid_area": null,
            "grid_auto_columns": null,
            "grid_auto_flow": null,
            "grid_auto_rows": null,
            "grid_column": null,
            "grid_gap": null,
            "grid_row": null,
            "grid_template_areas": null,
            "grid_template_columns": null,
            "grid_template_rows": null,
            "height": null,
            "justify_content": null,
            "justify_items": null,
            "left": null,
            "margin": null,
            "max_height": null,
            "max_width": null,
            "min_height": null,
            "min_width": null,
            "object_fit": null,
            "object_position": null,
            "order": null,
            "overflow": null,
            "overflow_x": null,
            "overflow_y": null,
            "padding": null,
            "right": null,
            "top": null,
            "visibility": null,
            "width": null
          }
        },
        "fa8979c180774053a6f41c552eb67746": {
          "model_module": "@jupyter-widgets/controls",
          "model_name": "DescriptionStyleModel",
          "model_module_version": "1.5.0",
          "state": {
            "_model_module": "@jupyter-widgets/controls",
            "_model_module_version": "1.5.0",
            "_model_name": "DescriptionStyleModel",
            "_view_count": null,
            "_view_module": "@jupyter-widgets/base",
            "_view_module_version": "1.2.0",
            "_view_name": "StyleView",
            "description_width": ""
          }
        }
      }
    },
    "accelerator": "GPU"
  },
  "nbformat": 4,
  "nbformat_minor": 0
}